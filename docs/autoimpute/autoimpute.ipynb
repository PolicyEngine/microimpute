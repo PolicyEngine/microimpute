{
 "cells": [
  {
   "cell_type": "markdown",
   "metadata": {},
   "source": [
    "# AutoImputation\n",
    "\n",
    "This notebook demonstrates the functionality of the `autoimpute` module, which provides an automated approach to selecting and applying optimal imputation methods for missing data. Rather than manually testing different approaches, AutoImpute evaluates multiple methods (tuning their hyperparameters to the specific data set), identifies which performs best for your specific data, and applies it to generate high-quality imputations."
   ]
  },
  {
   "cell_type": "code",
   "execution_count": 1,
   "metadata": {},
   "outputs": [],
   "source": [
    "import pandas as pd\n",
    "import numpy as np\n",
    "import plotly.graph_objects as go\n",
    "from sklearn.datasets import load_diabetes\n",
    "import warnings\n",
    "\n",
    "warnings.filterwarnings(\"ignore\")\n",
    "\n",
    "# Set pandas display options to limit table width\n",
    "pd.set_option(\"display.width\", 600)\n",
    "pd.set_option(\"display.max_columns\", 10)\n",
    "pd.set_option(\"display.expand_frame_repr\", False)\n",
    "\n",
    "from microimpute.comparisons.autoimpute import autoimpute\n",
    "from microimpute.comparisons.plot import plot_autoimpute_method_comparison"
   ]
  },
  {
   "cell_type": "markdown",
   "metadata": {},
   "source": [
    "## Data preparation\n",
    "\n",
    "This demonstration uses the diabetes dataset from scikit-learn. In real-world imputation scenarios, you would typically have a \"donor\" dataset with complete information for both predictor and target variables, and a \"receiver\" dataset that lacks some target variables that need to be imputed."
   ]
  },
  {
   "cell_type": "code",
   "execution_count": 2,
   "metadata": {},
   "outputs": [
    {
     "data": {
      "text/html": [
       "<div>\n",
       "<style scoped>\n",
       "    .dataframe tbody tr th:only-of-type {\n",
       "        vertical-align: middle;\n",
       "    }\n",
       "\n",
       "    .dataframe tbody tr th {\n",
       "        vertical-align: top;\n",
       "    }\n",
       "\n",
       "    .dataframe thead th {\n",
       "        text-align: right;\n",
       "    }\n",
       "</style>\n",
       "<table border=\"1\" class=\"dataframe\">\n",
       "  <thead>\n",
       "    <tr style=\"text-align: right;\">\n",
       "      <th></th>\n",
       "      <th>age</th>\n",
       "      <th>sex</th>\n",
       "      <th>bmi</th>\n",
       "      <th>bp</th>\n",
       "      <th>s1</th>\n",
       "      <th>s2</th>\n",
       "      <th>s3</th>\n",
       "      <th>s4</th>\n",
       "      <th>s5</th>\n",
       "      <th>s6</th>\n",
       "    </tr>\n",
       "  </thead>\n",
       "  <tbody>\n",
       "    <tr>\n",
       "      <th>0</th>\n",
       "      <td>0.038076</td>\n",
       "      <td>0.050680</td>\n",
       "      <td>0.061696</td>\n",
       "      <td>0.021872</td>\n",
       "      <td>-0.044223</td>\n",
       "      <td>-0.034821</td>\n",
       "      <td>-0.043401</td>\n",
       "      <td>-0.002592</td>\n",
       "      <td>0.019907</td>\n",
       "      <td>-0.017646</td>\n",
       "    </tr>\n",
       "    <tr>\n",
       "      <th>1</th>\n",
       "      <td>-0.001882</td>\n",
       "      <td>-0.044642</td>\n",
       "      <td>-0.051474</td>\n",
       "      <td>-0.026328</td>\n",
       "      <td>-0.008449</td>\n",
       "      <td>-0.019163</td>\n",
       "      <td>0.074412</td>\n",
       "      <td>-0.039493</td>\n",
       "      <td>-0.068332</td>\n",
       "      <td>-0.092204</td>\n",
       "    </tr>\n",
       "    <tr>\n",
       "      <th>2</th>\n",
       "      <td>0.085299</td>\n",
       "      <td>0.050680</td>\n",
       "      <td>0.044451</td>\n",
       "      <td>-0.005670</td>\n",
       "      <td>-0.045599</td>\n",
       "      <td>-0.034194</td>\n",
       "      <td>-0.032356</td>\n",
       "      <td>-0.002592</td>\n",
       "      <td>0.002861</td>\n",
       "      <td>-0.025930</td>\n",
       "    </tr>\n",
       "    <tr>\n",
       "      <th>3</th>\n",
       "      <td>-0.089063</td>\n",
       "      <td>-0.044642</td>\n",
       "      <td>-0.011595</td>\n",
       "      <td>-0.036656</td>\n",
       "      <td>0.012191</td>\n",
       "      <td>0.024991</td>\n",
       "      <td>-0.036038</td>\n",
       "      <td>0.034309</td>\n",
       "      <td>0.022688</td>\n",
       "      <td>-0.009362</td>\n",
       "    </tr>\n",
       "    <tr>\n",
       "      <th>4</th>\n",
       "      <td>0.005383</td>\n",
       "      <td>-0.044642</td>\n",
       "      <td>-0.036385</td>\n",
       "      <td>0.021872</td>\n",
       "      <td>0.003935</td>\n",
       "      <td>0.015596</td>\n",
       "      <td>0.008142</td>\n",
       "      <td>-0.002592</td>\n",
       "      <td>-0.031988</td>\n",
       "      <td>-0.046641</td>\n",
       "    </tr>\n",
       "  </tbody>\n",
       "</table>\n",
       "</div>"
      ],
      "text/plain": [
       "        age       sex       bmi        bp        s1        s2        s3        s4        s5        s6\n",
       "0  0.038076  0.050680  0.061696  0.021872 -0.044223 -0.034821 -0.043401 -0.002592  0.019907 -0.017646\n",
       "1 -0.001882 -0.044642 -0.051474 -0.026328 -0.008449 -0.019163  0.074412 -0.039493 -0.068332 -0.092204\n",
       "2  0.085299  0.050680  0.044451 -0.005670 -0.045599 -0.034194 -0.032356 -0.002592  0.002861 -0.025930\n",
       "3 -0.089063 -0.044642 -0.011595 -0.036656  0.012191  0.024991 -0.036038  0.034309  0.022688 -0.009362\n",
       "4  0.005383 -0.044642 -0.036385  0.021872  0.003935  0.015596  0.008142 -0.002592 -0.031988 -0.046641"
      ]
     },
     "execution_count": 2,
     "metadata": {},
     "output_type": "execute_result"
    }
   ],
   "source": [
    "# Load the diabetes dataset\n",
    "diabetes = load_diabetes()\n",
    "diabetes_data = pd.DataFrame(diabetes.data, columns=diabetes.feature_names)\n",
    "\n",
    "# Display the first few rows to understand the data structure\n",
    "diabetes_data.head()"
   ]
  },
  {
   "cell_type": "markdown",
   "metadata": {},
   "source": [
    "For this demonstration, the diabetes dataset is split into donor and receiver portions. Part of the data is treated as the donor dataset with complete information, and another part as the receiver dataset with some variables that need imputation."
   ]
  },
  {
   "cell_type": "code",
   "execution_count": 3,
   "metadata": {},
   "outputs": [
    {
     "name": "stdout",
     "output_type": "stream",
     "text": [
      "Donor data shape: (309, 10)\n",
      "Receiver data shape: (133, 8)\n",
      "Predictors: ['age', 'sex', 'bmi', 'bp']\n",
      "Variables to impute: ['s1', 's4']\n"
     ]
    }
   ],
   "source": [
    "# Split the data into donor and receiver portions\n",
    "donor_indices = np.random.choice(len(diabetes_data), size=int(0.7*len(diabetes_data)), replace=False)\n",
    "receiver_indices = np.array([i for i in range(len(diabetes_data)) if i not in donor_indices])\n",
    "\n",
    "donor_data = diabetes_data.iloc[donor_indices].reset_index(drop=True)\n",
    "receiver_data = diabetes_data.iloc[receiver_indices].reset_index(drop=True)\n",
    "\n",
    "# Define which variables we'll use as predictors and which we want to impute\n",
    "predictors = ['age', 'sex', 'bmi', 'bp']\n",
    "imputed_variables = ['s1', 's4']\n",
    "\n",
    "# For demonstration purposes, we'll remove the variables we want to impute from the receiver dataset\n",
    "receiver_data_without_targets = receiver_data.drop(columns=imputed_variables)\n",
    "\n",
    "print(f\"Donor data shape: {donor_data.shape}\")\n",
    "print(f\"Receiver data shape: {receiver_data_without_targets.shape}\")\n",
    "print(f\"Predictors: {predictors}\")\n",
    "print(f\"Variables to impute: {imputed_variables}\")"
   ]
  },
  {
   "cell_type": "markdown",
   "metadata": {},
   "source": [
    "## Running AutoImpute\n",
    "\n",
    "Use the `autoimpute` function to automatically evaluate different imputation methods, select the best one, and generate imputations. The function handles all the complexity of model evaluation, selection, and application in a single call."
   ]
  },
  {
   "cell_type": "code",
   "execution_count": 4,
   "metadata": {},
   "outputs": [
    {
     "name": "stderr",
     "output_type": "stream",
     "text": [
      "/Users/movil1/anaconda3/lib/python3.11/site-packages/statsmodels/regression/quantile_regression.py:191: IterationLimitWarning: Maximum number of iterations (1000) reached.\n",
      "  warnings.warn(\"Maximum number of iterations (\" + str(max_iter) +\n",
      "/Users/movil1/anaconda3/lib/python3.11/site-packages/statsmodels/regression/quantile_regression.py:191: IterationLimitWarning: Maximum number of iterations (1000) reached.\n",
      "  warnings.warn(\"Maximum number of iterations (\" + str(max_iter) +\n",
      "/Users/movil1/anaconda3/lib/python3.11/site-packages/statsmodels/regression/quantile_regression.py:191: IterationLimitWarning: Maximum number of iterations (1000) reached.\n",
      "  warnings.warn(\"Maximum number of iterations (\" + str(max_iter) +\n",
      "/Users/movil1/anaconda3/lib/python3.11/site-packages/statsmodels/regression/quantile_regression.py:191: IterationLimitWarning: Maximum number of iterations (1000) reached.\n",
      "  warnings.warn(\"Maximum number of iterations (\" + str(max_iter) +\n"
     ]
    },
    {
     "name": "stdout",
     "output_type": "stream",
     "text": [
      "Shape of receiver data before imputation: (133, 8) \n",
      "Shape of receiver data after imputation: (133, 10)\n"
     ]
    }
   ],
   "source": [
    "# Run the autoimpute process\n",
    "imputations, imputed_data, fitted_model, method_results_df = autoimpute(\n",
    "    donor_data=donor_data,\n",
    "    receiver_data=receiver_data_without_targets,\n",
    "    predictors=predictors,\n",
    "    imputed_variables=imputed_variables,\n",
    "    tune_hyperparameters=True, # enable automated hyperparameter tuning\n",
    "    k_folds=5  # Number of cross-validation folds\n",
    ")\n",
    "\n",
    "print(f\"Shape of receiver data before imputation: {receiver_data_without_targets.shape} \\nShape of receiver data after imputation: {imputed_data.shape}\")"
   ]
  },
  {
   "cell_type": "markdown",
   "metadata": {},
   "source": [
    "## Understanding the results\n",
    "\n",
    "The `autoimpute` function returns four key objects that provide comprehensive information about the imputation process:\n",
    "\n",
    "- `imputations`: A dictionary where keys are quantiles used for imputation and values are DataFrames containing the imputed values at each quantile\n",
    "- `imputed_data`: The receiver dataset with imputed values integrated into it\n",
    "- `fitted_model`: The best-performing imputation model, already fitted on the donor data\n",
    "- `method_results_df`: A DataFrame with detailed performance metrics for all evaluated imputation methods"
   ]
  },
  {
   "cell_type": "code",
   "execution_count": 5,
   "metadata": {},
   "outputs": [
    {
     "name": "stdout",
     "output_type": "stream",
     "text": [
      "Cross-validation results for different imputation methods:\n"
     ]
    },
    {
     "data": {
      "text/html": [
       "<div>\n",
       "<style scoped>\n",
       "    .dataframe tbody tr th:only-of-type {\n",
       "        vertical-align: middle;\n",
       "    }\n",
       "\n",
       "    .dataframe tbody tr th {\n",
       "        vertical-align: top;\n",
       "    }\n",
       "\n",
       "    .dataframe thead th {\n",
       "        text-align: right;\n",
       "    }\n",
       "</style>\n",
       "<table border=\"1\" class=\"dataframe\">\n",
       "  <thead>\n",
       "    <tr style=\"text-align: right;\">\n",
       "      <th></th>\n",
       "      <th>0.05</th>\n",
       "      <th>0.1</th>\n",
       "      <th>0.15</th>\n",
       "      <th>0.2</th>\n",
       "      <th>0.25</th>\n",
       "      <th>...</th>\n",
       "      <th>0.8</th>\n",
       "      <th>0.85</th>\n",
       "      <th>0.9</th>\n",
       "      <th>0.95</th>\n",
       "      <th>mean_loss</th>\n",
       "    </tr>\n",
       "  </thead>\n",
       "  <tbody>\n",
       "    <tr>\n",
       "      <th>QRF</th>\n",
       "      <td>0.077693</td>\n",
       "      <td>0.162680</td>\n",
       "      <td>0.232223</td>\n",
       "      <td>0.302636</td>\n",
       "      <td>0.360552</td>\n",
       "      <td>...</td>\n",
       "      <td>0.345467</td>\n",
       "      <td>0.298936</td>\n",
       "      <td>0.227825</td>\n",
       "      <td>0.134593</td>\n",
       "      <td>0.359515</td>\n",
       "    </tr>\n",
       "    <tr>\n",
       "      <th>OLS</th>\n",
       "      <td>0.076567</td>\n",
       "      <td>0.133206</td>\n",
       "      <td>0.182478</td>\n",
       "      <td>0.223743</td>\n",
       "      <td>0.258141</td>\n",
       "      <td>...</td>\n",
       "      <td>0.267414</td>\n",
       "      <td>0.227311</td>\n",
       "      <td>0.176287</td>\n",
       "      <td>0.110188</td>\n",
       "      <td>0.258020</td>\n",
       "    </tr>\n",
       "    <tr>\n",
       "      <th>QuantReg</th>\n",
       "      <td>0.073176</td>\n",
       "      <td>0.131993</td>\n",
       "      <td>0.183293</td>\n",
       "      <td>0.226151</td>\n",
       "      <td>0.258119</td>\n",
       "      <td>...</td>\n",
       "      <td>0.267780</td>\n",
       "      <td>0.228521</td>\n",
       "      <td>0.174439</td>\n",
       "      <td>0.108419</td>\n",
       "      <td>0.257413</td>\n",
       "    </tr>\n",
       "    <tr>\n",
       "      <th>Matching</th>\n",
       "      <td>0.525327</td>\n",
       "      <td>0.530054</td>\n",
       "      <td>0.534781</td>\n",
       "      <td>0.539509</td>\n",
       "      <td>0.544236</td>\n",
       "      <td>...</td>\n",
       "      <td>0.596237</td>\n",
       "      <td>0.600965</td>\n",
       "      <td>0.605692</td>\n",
       "      <td>0.610419</td>\n",
       "      <td>0.567873</td>\n",
       "    </tr>\n",
       "  </tbody>\n",
       "</table>\n",
       "<p>4 rows × 20 columns</p>\n",
       "</div>"
      ],
      "text/plain": [
       "              0.05       0.1      0.15       0.2      0.25  ...       0.8      0.85       0.9      0.95  mean_loss\n",
       "QRF       0.077693  0.162680  0.232223  0.302636  0.360552  ...  0.345467  0.298936  0.227825  0.134593   0.359515\n",
       "OLS       0.076567  0.133206  0.182478  0.223743  0.258141  ...  0.267414  0.227311  0.176287  0.110188   0.258020\n",
       "QuantReg  0.073176  0.131993  0.183293  0.226151  0.258119  ...  0.267780  0.228521  0.174439  0.108419   0.257413\n",
       "Matching  0.525327  0.530054  0.534781  0.539509  0.544236  ...  0.596237  0.600965  0.605692  0.610419   0.567873\n",
       "\n",
       "[4 rows x 20 columns]"
      ]
     },
     "execution_count": 5,
     "metadata": {},
     "output_type": "execute_result"
    }
   ],
   "source": [
    "# Examine the comparative performance of different imputation methods\n",
    "print(\"Cross-validation results for different imputation methods:\")\n",
    "method_results_df"
   ]
  },
  {
   "cell_type": "markdown",
   "metadata": {},
   "source": [
    "The table above provides a comprehensive view of how each imputation method performs across different quantiles. The 'mean_loss' column shows the average quantile loss across all quantiles for each method. Lower values indicate better performance, and AutoImpute automatically selects the method with the lowest average loss."
   ]
  },
  {
   "cell_type": "code",
   "execution_count": 6,
   "metadata": {},
   "outputs": [
    {
     "name": "stdout",
     "output_type": "stream",
     "text": [
      "Best performing method: QuantReg\n",
      "Average loss: 0.2574\n"
     ]
    }
   ],
   "source": [
    "# Identify which method was selected as the best performer\n",
    "best_method = method_results_df['mean_loss'].idxmin()\n",
    "print(f\"Best performing method: {best_method}\")\n",
    "print(f\"Average loss: {method_results_df.loc[best_method, 'mean_loss']:.4f}\")"
   ]
  },
  {
   "cell_type": "markdown",
   "metadata": {},
   "source": [
    "## Visualizing method comparison\n",
    "\n",
    "Visualize how different methods perform across quantiles provides insight into which methods are most appropriate for different parts of the distribution."
   ]
  },
  {
   "cell_type": "code",
   "execution_count": 7,
   "metadata": {},
   "outputs": [
    {
     "data": {
      "application/vnd.plotly.v1+json": {
       "config": {
        "plotlyServerURL": "https://plot.ly"
       },
       "data": [
        {
         "alignmentgroup": "True",
         "hovertemplate": "Method=QRF<br>Quantiles=%{x}<br>Test Quantile Loss=%{y}<extra></extra>",
         "legendgroup": "QRF",
         "marker": {
          "color": "#636efa",
          "pattern": {
           "shape": ""
          }
         },
         "name": "QRF",
         "offsetgroup": "QRF",
         "orientation": "v",
         "showlegend": true,
         "textposition": "auto",
         "type": "bar",
         "x": [
          "0.05",
          "0.1",
          "0.15",
          "0.2",
          "0.25",
          "0.3",
          "0.35",
          "0.4",
          "0.45",
          "0.5",
          "0.55",
          "0.6",
          "0.65",
          "0.7",
          "0.75",
          "0.8",
          "0.85",
          "0.9",
          "0.95"
         ],
         "xaxis": "x",
         "y": [
          0.07769310586922526,
          0.16267970626727152,
          0.2322232159003097,
          0.3026361047580334,
          0.3605515656749139,
          0.4316573736623603,
          0.48116564207992374,
          0.5326224770887341,
          0.5228067838058102,
          0.5333462223198959,
          0.4832190116650141,
          0.46342755059587154,
          0.4434927014689073,
          0.40920764785480557,
          0.3872437599904831,
          0.34546698457093655,
          0.29893615204790847,
          0.2278250767974221,
          0.13459257566809554
         ],
         "yaxis": "y"
        },
        {
         "alignmentgroup": "True",
         "hovertemplate": "Method=OLS<br>Quantiles=%{x}<br>Test Quantile Loss=%{y}<extra></extra>",
         "legendgroup": "OLS",
         "marker": {
          "color": "#EF553B",
          "pattern": {
           "shape": ""
          }
         },
         "name": "OLS",
         "offsetgroup": "OLS",
         "orientation": "v",
         "showlegend": true,
         "textposition": "auto",
         "type": "bar",
         "x": [
          "0.05",
          "0.1",
          "0.15",
          "0.2",
          "0.25",
          "0.3",
          "0.35",
          "0.4",
          "0.45",
          "0.5",
          "0.55",
          "0.6",
          "0.65",
          "0.7",
          "0.75",
          "0.8",
          "0.85",
          "0.9",
          "0.95"
         ],
         "xaxis": "x",
         "y": [
          0.076566926082741,
          0.13320560072889237,
          0.18247811402355588,
          0.22374330189686892,
          0.2581407286501107,
          0.2869006315349724,
          0.30855311114981293,
          0.3257399981586042,
          0.33814759989986953,
          0.3455976788566073,
          0.34726818135489984,
          0.34345224102649,
          0.33407501591120864,
          0.31945302817796534,
          0.2978625930222154,
          0.2674141567311238,
          0.2273113589129835,
          0.1762869466385179,
          0.11018845202023053
         ],
         "yaxis": "y"
        },
        {
         "alignmentgroup": "True",
         "hovertemplate": "Method=QuantReg<br>Quantiles=%{x}<br>Test Quantile Loss=%{y}<extra></extra>",
         "legendgroup": "QuantReg",
         "marker": {
          "color": "#00cc96",
          "pattern": {
           "shape": ""
          }
         },
         "name": "QuantReg",
         "offsetgroup": "QuantReg",
         "orientation": "v",
         "showlegend": true,
         "textposition": "auto",
         "type": "bar",
         "x": [
          "0.05",
          "0.1",
          "0.15",
          "0.2",
          "0.25",
          "0.3",
          "0.35",
          "0.4",
          "0.45",
          "0.5",
          "0.55",
          "0.6",
          "0.65",
          "0.7",
          "0.75",
          "0.8",
          "0.85",
          "0.9",
          "0.95"
         ],
         "xaxis": "x",
         "y": [
          0.07317610004439808,
          0.1319929472834275,
          0.18329268101891927,
          0.22615050331144246,
          0.25811863942262553,
          0.2880716448678918,
          0.30876495362555145,
          0.3259176229015218,
          0.33951579058634,
          0.3445432410041328,
          0.34505121628896696,
          0.34207602830032574,
          0.3319888398815635,
          0.31652646948864166,
          0.29650569511797575,
          0.2677804950994146,
          0.22852114848833213,
          0.17443875751707258,
          0.10841887313999235
         ],
         "yaxis": "y"
        },
        {
         "alignmentgroup": "True",
         "hovertemplate": "Method=Matching<br>Quantiles=%{x}<br>Test Quantile Loss=%{y}<extra></extra>",
         "legendgroup": "Matching",
         "marker": {
          "color": "#ab63fa",
          "pattern": {
           "shape": ""
          }
         },
         "name": "Matching",
         "offsetgroup": "Matching",
         "orientation": "v",
         "showlegend": true,
         "textposition": "auto",
         "type": "bar",
         "x": [
          "0.05",
          "0.1",
          "0.15",
          "0.2",
          "0.25",
          "0.3",
          "0.35",
          "0.4",
          "0.45",
          "0.5",
          "0.55",
          "0.6",
          "0.65",
          "0.7",
          "0.75",
          "0.8",
          "0.85",
          "0.9",
          "0.95"
         ],
         "xaxis": "x",
         "y": [
          0.5253265820471558,
          0.530053964969673,
          0.5347813478921903,
          0.5395087308147077,
          0.5442361137372249,
          0.5489634966597422,
          0.5536908795822596,
          0.5584182625047769,
          0.5631456454272941,
          0.5678730283498113,
          0.5726004112723286,
          0.577327794194846,
          0.5820551771173632,
          0.5867825600398806,
          0.5915099429623979,
          0.5962373258849152,
          0.6009647088074324,
          0.6056920917299496,
          0.6104194746524669
         ],
         "yaxis": "y"
        }
       ],
       "layout": {
        "barmode": "group",
        "height": 600,
        "legend": {
         "title": {
          "text": "Method"
         },
         "tracegroupgap": 0
        },
        "shapes": [
         {
          "line": {
           "color": "#636EFA",
           "dash": "dot",
           "width": 2
          },
          "name": "QRF Mean",
          "type": "line",
          "x0": -0.5,
          "x1": 18.5,
          "y0": 0.3595154556887328,
          "y1": 0.3595154556887328
         },
         {
          "line": {
           "color": "#EF553B",
           "dash": "dot",
           "width": 2
          },
          "name": "OLS Mean",
          "type": "line",
          "x0": -0.5,
          "x1": 18.5,
          "y0": 0.25802029814619315,
          "y1": 0.25802029814619315
         },
         {
          "line": {
           "color": "#00CC96",
           "dash": "dot",
           "width": 2
          },
          "name": "QuantReg Mean",
          "type": "line",
          "x0": -0.5,
          "x1": 18.5,
          "y0": 0.2574132445993967,
          "y1": 0.2574132445993967
         },
         {
          "line": {
           "color": "#AB63FA",
           "dash": "dot",
           "width": 2
          },
          "name": "Matching Mean",
          "type": "line",
          "x0": -0.5,
          "x1": 18.5,
          "y0": 0.5678730283498113,
          "y1": 0.5678730283498113
         }
        ],
        "template": {
         "data": {
          "bar": [
           {
            "error_x": {
             "color": "#2a3f5f"
            },
            "error_y": {
             "color": "#2a3f5f"
            },
            "marker": {
             "line": {
              "color": "#E5ECF6",
              "width": 0.5
             },
             "pattern": {
              "fillmode": "overlay",
              "size": 10,
              "solidity": 0.2
             }
            },
            "type": "bar"
           }
          ],
          "barpolar": [
           {
            "marker": {
             "line": {
              "color": "#E5ECF6",
              "width": 0.5
             },
             "pattern": {
              "fillmode": "overlay",
              "size": 10,
              "solidity": 0.2
             }
            },
            "type": "barpolar"
           }
          ],
          "carpet": [
           {
            "aaxis": {
             "endlinecolor": "#2a3f5f",
             "gridcolor": "white",
             "linecolor": "white",
             "minorgridcolor": "white",
             "startlinecolor": "#2a3f5f"
            },
            "baxis": {
             "endlinecolor": "#2a3f5f",
             "gridcolor": "white",
             "linecolor": "white",
             "minorgridcolor": "white",
             "startlinecolor": "#2a3f5f"
            },
            "type": "carpet"
           }
          ],
          "choropleth": [
           {
            "colorbar": {
             "outlinewidth": 0,
             "ticks": ""
            },
            "type": "choropleth"
           }
          ],
          "contour": [
           {
            "colorbar": {
             "outlinewidth": 0,
             "ticks": ""
            },
            "colorscale": [
             [
              0,
              "#0d0887"
             ],
             [
              0.1111111111111111,
              "#46039f"
             ],
             [
              0.2222222222222222,
              "#7201a8"
             ],
             [
              0.3333333333333333,
              "#9c179e"
             ],
             [
              0.4444444444444444,
              "#bd3786"
             ],
             [
              0.5555555555555556,
              "#d8576b"
             ],
             [
              0.6666666666666666,
              "#ed7953"
             ],
             [
              0.7777777777777778,
              "#fb9f3a"
             ],
             [
              0.8888888888888888,
              "#fdca26"
             ],
             [
              1,
              "#f0f921"
             ]
            ],
            "type": "contour"
           }
          ],
          "contourcarpet": [
           {
            "colorbar": {
             "outlinewidth": 0,
             "ticks": ""
            },
            "type": "contourcarpet"
           }
          ],
          "heatmap": [
           {
            "colorbar": {
             "outlinewidth": 0,
             "ticks": ""
            },
            "colorscale": [
             [
              0,
              "#0d0887"
             ],
             [
              0.1111111111111111,
              "#46039f"
             ],
             [
              0.2222222222222222,
              "#7201a8"
             ],
             [
              0.3333333333333333,
              "#9c179e"
             ],
             [
              0.4444444444444444,
              "#bd3786"
             ],
             [
              0.5555555555555556,
              "#d8576b"
             ],
             [
              0.6666666666666666,
              "#ed7953"
             ],
             [
              0.7777777777777778,
              "#fb9f3a"
             ],
             [
              0.8888888888888888,
              "#fdca26"
             ],
             [
              1,
              "#f0f921"
             ]
            ],
            "type": "heatmap"
           }
          ],
          "heatmapgl": [
           {
            "colorbar": {
             "outlinewidth": 0,
             "ticks": ""
            },
            "colorscale": [
             [
              0,
              "#0d0887"
             ],
             [
              0.1111111111111111,
              "#46039f"
             ],
             [
              0.2222222222222222,
              "#7201a8"
             ],
             [
              0.3333333333333333,
              "#9c179e"
             ],
             [
              0.4444444444444444,
              "#bd3786"
             ],
             [
              0.5555555555555556,
              "#d8576b"
             ],
             [
              0.6666666666666666,
              "#ed7953"
             ],
             [
              0.7777777777777778,
              "#fb9f3a"
             ],
             [
              0.8888888888888888,
              "#fdca26"
             ],
             [
              1,
              "#f0f921"
             ]
            ],
            "type": "heatmapgl"
           }
          ],
          "histogram": [
           {
            "marker": {
             "pattern": {
              "fillmode": "overlay",
              "size": 10,
              "solidity": 0.2
             }
            },
            "type": "histogram"
           }
          ],
          "histogram2d": [
           {
            "colorbar": {
             "outlinewidth": 0,
             "ticks": ""
            },
            "colorscale": [
             [
              0,
              "#0d0887"
             ],
             [
              0.1111111111111111,
              "#46039f"
             ],
             [
              0.2222222222222222,
              "#7201a8"
             ],
             [
              0.3333333333333333,
              "#9c179e"
             ],
             [
              0.4444444444444444,
              "#bd3786"
             ],
             [
              0.5555555555555556,
              "#d8576b"
             ],
             [
              0.6666666666666666,
              "#ed7953"
             ],
             [
              0.7777777777777778,
              "#fb9f3a"
             ],
             [
              0.8888888888888888,
              "#fdca26"
             ],
             [
              1,
              "#f0f921"
             ]
            ],
            "type": "histogram2d"
           }
          ],
          "histogram2dcontour": [
           {
            "colorbar": {
             "outlinewidth": 0,
             "ticks": ""
            },
            "colorscale": [
             [
              0,
              "#0d0887"
             ],
             [
              0.1111111111111111,
              "#46039f"
             ],
             [
              0.2222222222222222,
              "#7201a8"
             ],
             [
              0.3333333333333333,
              "#9c179e"
             ],
             [
              0.4444444444444444,
              "#bd3786"
             ],
             [
              0.5555555555555556,
              "#d8576b"
             ],
             [
              0.6666666666666666,
              "#ed7953"
             ],
             [
              0.7777777777777778,
              "#fb9f3a"
             ],
             [
              0.8888888888888888,
              "#fdca26"
             ],
             [
              1,
              "#f0f921"
             ]
            ],
            "type": "histogram2dcontour"
           }
          ],
          "mesh3d": [
           {
            "colorbar": {
             "outlinewidth": 0,
             "ticks": ""
            },
            "type": "mesh3d"
           }
          ],
          "parcoords": [
           {
            "line": {
             "colorbar": {
              "outlinewidth": 0,
              "ticks": ""
             }
            },
            "type": "parcoords"
           }
          ],
          "pie": [
           {
            "automargin": true,
            "type": "pie"
           }
          ],
          "scatter": [
           {
            "fillpattern": {
             "fillmode": "overlay",
             "size": 10,
             "solidity": 0.2
            },
            "type": "scatter"
           }
          ],
          "scatter3d": [
           {
            "line": {
             "colorbar": {
              "outlinewidth": 0,
              "ticks": ""
             }
            },
            "marker": {
             "colorbar": {
              "outlinewidth": 0,
              "ticks": ""
             }
            },
            "type": "scatter3d"
           }
          ],
          "scattercarpet": [
           {
            "marker": {
             "colorbar": {
              "outlinewidth": 0,
              "ticks": ""
             }
            },
            "type": "scattercarpet"
           }
          ],
          "scattergeo": [
           {
            "marker": {
             "colorbar": {
              "outlinewidth": 0,
              "ticks": ""
             }
            },
            "type": "scattergeo"
           }
          ],
          "scattergl": [
           {
            "marker": {
             "colorbar": {
              "outlinewidth": 0,
              "ticks": ""
             }
            },
            "type": "scattergl"
           }
          ],
          "scattermapbox": [
           {
            "marker": {
             "colorbar": {
              "outlinewidth": 0,
              "ticks": ""
             }
            },
            "type": "scattermapbox"
           }
          ],
          "scatterpolar": [
           {
            "marker": {
             "colorbar": {
              "outlinewidth": 0,
              "ticks": ""
             }
            },
            "type": "scatterpolar"
           }
          ],
          "scatterpolargl": [
           {
            "marker": {
             "colorbar": {
              "outlinewidth": 0,
              "ticks": ""
             }
            },
            "type": "scatterpolargl"
           }
          ],
          "scatterternary": [
           {
            "marker": {
             "colorbar": {
              "outlinewidth": 0,
              "ticks": ""
             }
            },
            "type": "scatterternary"
           }
          ],
          "surface": [
           {
            "colorbar": {
             "outlinewidth": 0,
             "ticks": ""
            },
            "colorscale": [
             [
              0,
              "#0d0887"
             ],
             [
              0.1111111111111111,
              "#46039f"
             ],
             [
              0.2222222222222222,
              "#7201a8"
             ],
             [
              0.3333333333333333,
              "#9c179e"
             ],
             [
              0.4444444444444444,
              "#bd3786"
             ],
             [
              0.5555555555555556,
              "#d8576b"
             ],
             [
              0.6666666666666666,
              "#ed7953"
             ],
             [
              0.7777777777777778,
              "#fb9f3a"
             ],
             [
              0.8888888888888888,
              "#fdca26"
             ],
             [
              1,
              "#f0f921"
             ]
            ],
            "type": "surface"
           }
          ],
          "table": [
           {
            "cells": {
             "fill": {
              "color": "#EBF0F8"
             },
             "line": {
              "color": "white"
             }
            },
            "header": {
             "fill": {
              "color": "#C8D4E3"
             },
             "line": {
              "color": "white"
             }
            },
            "type": "table"
           }
          ]
         },
         "layout": {
          "annotationdefaults": {
           "arrowcolor": "#2a3f5f",
           "arrowhead": 0,
           "arrowwidth": 1
          },
          "autotypenumbers": "strict",
          "coloraxis": {
           "colorbar": {
            "outlinewidth": 0,
            "ticks": ""
           }
          },
          "colorscale": {
           "diverging": [
            [
             0,
             "#8e0152"
            ],
            [
             0.1,
             "#c51b7d"
            ],
            [
             0.2,
             "#de77ae"
            ],
            [
             0.3,
             "#f1b6da"
            ],
            [
             0.4,
             "#fde0ef"
            ],
            [
             0.5,
             "#f7f7f7"
            ],
            [
             0.6,
             "#e6f5d0"
            ],
            [
             0.7,
             "#b8e186"
            ],
            [
             0.8,
             "#7fbc41"
            ],
            [
             0.9,
             "#4d9221"
            ],
            [
             1,
             "#276419"
            ]
           ],
           "sequential": [
            [
             0,
             "#0d0887"
            ],
            [
             0.1111111111111111,
             "#46039f"
            ],
            [
             0.2222222222222222,
             "#7201a8"
            ],
            [
             0.3333333333333333,
             "#9c179e"
            ],
            [
             0.4444444444444444,
             "#bd3786"
            ],
            [
             0.5555555555555556,
             "#d8576b"
            ],
            [
             0.6666666666666666,
             "#ed7953"
            ],
            [
             0.7777777777777778,
             "#fb9f3a"
            ],
            [
             0.8888888888888888,
             "#fdca26"
            ],
            [
             1,
             "#f0f921"
            ]
           ],
           "sequentialminus": [
            [
             0,
             "#0d0887"
            ],
            [
             0.1111111111111111,
             "#46039f"
            ],
            [
             0.2222222222222222,
             "#7201a8"
            ],
            [
             0.3333333333333333,
             "#9c179e"
            ],
            [
             0.4444444444444444,
             "#bd3786"
            ],
            [
             0.5555555555555556,
             "#d8576b"
            ],
            [
             0.6666666666666666,
             "#ed7953"
            ],
            [
             0.7777777777777778,
             "#fb9f3a"
            ],
            [
             0.8888888888888888,
             "#fdca26"
            ],
            [
             1,
             "#f0f921"
            ]
           ]
          },
          "colorway": [
           "#636efa",
           "#EF553B",
           "#00cc96",
           "#ab63fa",
           "#FFA15A",
           "#19d3f3",
           "#FF6692",
           "#B6E880",
           "#FF97FF",
           "#FECB52"
          ],
          "font": {
           "color": "#2a3f5f"
          },
          "geo": {
           "bgcolor": "white",
           "lakecolor": "white",
           "landcolor": "#E5ECF6",
           "showlakes": true,
           "showland": true,
           "subunitcolor": "white"
          },
          "hoverlabel": {
           "align": "left"
          },
          "hovermode": "closest",
          "mapbox": {
           "style": "light"
          },
          "paper_bgcolor": "white",
          "plot_bgcolor": "#E5ECF6",
          "polar": {
           "angularaxis": {
            "gridcolor": "white",
            "linecolor": "white",
            "ticks": ""
           },
           "bgcolor": "#E5ECF6",
           "radialaxis": {
            "gridcolor": "white",
            "linecolor": "white",
            "ticks": ""
           }
          },
          "scene": {
           "xaxis": {
            "backgroundcolor": "#E5ECF6",
            "gridcolor": "white",
            "gridwidth": 2,
            "linecolor": "white",
            "showbackground": true,
            "ticks": "",
            "zerolinecolor": "white"
           },
           "yaxis": {
            "backgroundcolor": "#E5ECF6",
            "gridcolor": "white",
            "gridwidth": 2,
            "linecolor": "white",
            "showbackground": true,
            "ticks": "",
            "zerolinecolor": "white"
           },
           "zaxis": {
            "backgroundcolor": "#E5ECF6",
            "gridcolor": "white",
            "gridwidth": 2,
            "linecolor": "white",
            "showbackground": true,
            "ticks": "",
            "zerolinecolor": "white"
           }
          },
          "shapedefaults": {
           "line": {
            "color": "#2a3f5f"
           }
          },
          "ternary": {
           "aaxis": {
            "gridcolor": "white",
            "linecolor": "white",
            "ticks": ""
           },
           "baxis": {
            "gridcolor": "white",
            "linecolor": "white",
            "ticks": ""
           },
           "bgcolor": "#E5ECF6",
           "caxis": {
            "gridcolor": "white",
            "linecolor": "white",
            "ticks": ""
           }
          },
          "title": {
           "x": 0.05
          },
          "xaxis": {
           "automargin": true,
           "gridcolor": "white",
           "linecolor": "white",
           "ticks": "",
           "title": {
            "standoff": 15
           },
           "zerolinecolor": "white",
           "zerolinewidth": 2
          },
          "yaxis": {
           "automargin": true,
           "gridcolor": "white",
           "linecolor": "white",
           "ticks": "",
           "title": {
            "standoff": 15
           },
           "zerolinecolor": "white",
           "zerolinewidth": 2
          }
         }
        },
        "title": {
         "font": {
          "size": 14
         },
         "text": "Quantile Loss Across Quantiles for Different Imputation Methods"
        },
        "width": 750,
        "xaxis": {
         "anchor": "y",
         "domain": [
          0,
          1
         ],
         "title": {
          "font": {
           "size": 12
          },
          "text": "Quantiles"
         }
        },
        "yaxis": {
         "anchor": "x",
         "domain": [
          0,
          1
         ],
         "gridcolor": "rgba(0,0,0,0.1)",
         "gridwidth": 1,
         "showgrid": true,
         "title": {
          "font": {
           "size": 12
          },
          "text": "Test Quantile Loss"
         }
        }
       }
      }
     },
     "metadata": {},
     "output_type": "display_data"
    }
   ],
   "source": [
    "# Extract the quantiles used in the evaluation\n",
    "quantiles = [q for q in method_results_df.columns if isinstance(q, float)]\n",
    "\n",
    "# Generate a visualization comparing methods across quantiles\n",
    "fig = plot_autoimpute_method_comparison(\n",
    "    method_results_df=method_results_df,\n",
    "    quantiles=quantiles,\n",
    "    metric_name=\"Quantile Loss\"\n",
    ")\n",
    "fig.show()"
   ]
  },
  {
   "cell_type": "markdown",
   "metadata": {},
   "source": [
    "The plot above illustrates how each imputation method performs across different quantiles of the distribution. Methods with consistently lower lines generally perform better overall."
   ]
  },
  {
   "cell_type": "markdown",
   "metadata": {},
   "source": [
    "## Examining the imputed values\n",
    "\n",
    "Now let us assess the actual imputed values generated by the best-performing method."
   ]
  },
  {
   "cell_type": "code",
   "execution_count": 8,
   "metadata": {},
   "outputs": [
    {
     "name": "stdout",
     "output_type": "stream",
     "text": [
      "Median imputed values:\n"
     ]
    },
    {
     "data": {
      "text/html": [
       "<div>\n",
       "<style scoped>\n",
       "    .dataframe tbody tr th:only-of-type {\n",
       "        vertical-align: middle;\n",
       "    }\n",
       "\n",
       "    .dataframe tbody tr th {\n",
       "        vertical-align: top;\n",
       "    }\n",
       "\n",
       "    .dataframe thead th {\n",
       "        text-align: right;\n",
       "    }\n",
       "</style>\n",
       "<table border=\"1\" class=\"dataframe\">\n",
       "  <thead>\n",
       "    <tr style=\"text-align: right;\">\n",
       "      <th></th>\n",
       "      <th>s1</th>\n",
       "      <th>s4</th>\n",
       "    </tr>\n",
       "  </thead>\n",
       "  <tbody>\n",
       "    <tr>\n",
       "      <th>0</th>\n",
       "      <td>0.022108</td>\n",
       "      <td>0.013976</td>\n",
       "    </tr>\n",
       "    <tr>\n",
       "      <th>1</th>\n",
       "      <td>-0.005274</td>\n",
       "      <td>-0.027721</td>\n",
       "    </tr>\n",
       "    <tr>\n",
       "      <th>2</th>\n",
       "      <td>0.003205</td>\n",
       "      <td>-0.023114</td>\n",
       "    </tr>\n",
       "    <tr>\n",
       "      <th>3</th>\n",
       "      <td>-0.012218</td>\n",
       "      <td>-0.005762</td>\n",
       "    </tr>\n",
       "    <tr>\n",
       "      <th>4</th>\n",
       "      <td>-0.032696</td>\n",
       "      <td>-0.007615</td>\n",
       "    </tr>\n",
       "  </tbody>\n",
       "</table>\n",
       "</div>"
      ],
      "text/plain": [
       "         s1        s4\n",
       "0  0.022108  0.013976\n",
       "1 -0.005274 -0.027721\n",
       "2  0.003205 -0.023114\n",
       "3 -0.012218 -0.005762\n",
       "4 -0.032696 -0.007615"
      ]
     },
     "execution_count": 8,
     "metadata": {},
     "output_type": "execute_result"
    }
   ],
   "source": [
    "# Examine imputed values at the median (0.5 quantile)\n",
    "median_imputations = imputations[0.5]\n",
    "print(\"Median imputed values:\")\n",
    "median_imputations.head()"
   ]
  },
  {
   "cell_type": "code",
   "execution_count": 9,
   "metadata": {},
   "outputs": [
    {
     "name": "stdout",
     "output_type": "stream",
     "text": [
      "Receiver dataset with imputed values:\n"
     ]
    },
    {
     "data": {
      "text/html": [
       "<div>\n",
       "<style scoped>\n",
       "    .dataframe tbody tr th:only-of-type {\n",
       "        vertical-align: middle;\n",
       "    }\n",
       "\n",
       "    .dataframe tbody tr th {\n",
       "        vertical-align: top;\n",
       "    }\n",
       "\n",
       "    .dataframe thead th {\n",
       "        text-align: right;\n",
       "    }\n",
       "</style>\n",
       "<table border=\"1\" class=\"dataframe\">\n",
       "  <thead>\n",
       "    <tr style=\"text-align: right;\">\n",
       "      <th></th>\n",
       "      <th>age</th>\n",
       "      <th>sex</th>\n",
       "      <th>bmi</th>\n",
       "      <th>bp</th>\n",
       "      <th>s2</th>\n",
       "      <th>s3</th>\n",
       "      <th>s5</th>\n",
       "      <th>s6</th>\n",
       "      <th>s1</th>\n",
       "      <th>s4</th>\n",
       "    </tr>\n",
       "  </thead>\n",
       "  <tbody>\n",
       "    <tr>\n",
       "      <th>0</th>\n",
       "      <td>0.063504</td>\n",
       "      <td>0.050680</td>\n",
       "      <td>-0.001895</td>\n",
       "      <td>0.066629</td>\n",
       "      <td>0.108914</td>\n",
       "      <td>0.022869</td>\n",
       "      <td>-0.035816</td>\n",
       "      <td>0.003064</td>\n",
       "      <td>0.022108</td>\n",
       "      <td>0.013976</td>\n",
       "    </tr>\n",
       "    <tr>\n",
       "      <th>1</th>\n",
       "      <td>0.016281</td>\n",
       "      <td>-0.044642</td>\n",
       "      <td>-0.028840</td>\n",
       "      <td>-0.009113</td>\n",
       "      <td>-0.009769</td>\n",
       "      <td>0.044958</td>\n",
       "      <td>-0.030748</td>\n",
       "      <td>-0.042499</td>\n",
       "      <td>-0.005274</td>\n",
       "      <td>-0.027721</td>\n",
       "    </tr>\n",
       "    <tr>\n",
       "      <th>2</th>\n",
       "      <td>0.045341</td>\n",
       "      <td>-0.044642</td>\n",
       "      <td>-0.025607</td>\n",
       "      <td>-0.012556</td>\n",
       "      <td>-0.000061</td>\n",
       "      <td>0.081775</td>\n",
       "      <td>-0.031988</td>\n",
       "      <td>-0.075636</td>\n",
       "      <td>0.003205</td>\n",
       "      <td>-0.023114</td>\n",
       "    </tr>\n",
       "    <tr>\n",
       "      <th>3</th>\n",
       "      <td>-0.052738</td>\n",
       "      <td>0.050680</td>\n",
       "      <td>-0.018062</td>\n",
       "      <td>0.080401</td>\n",
       "      <td>0.107662</td>\n",
       "      <td>-0.039719</td>\n",
       "      <td>0.036060</td>\n",
       "      <td>-0.042499</td>\n",
       "      <td>-0.012218</td>\n",
       "      <td>-0.005762</td>\n",
       "    </tr>\n",
       "    <tr>\n",
       "      <th>4</th>\n",
       "      <td>-0.085430</td>\n",
       "      <td>0.050680</td>\n",
       "      <td>-0.022373</td>\n",
       "      <td>0.001215</td>\n",
       "      <td>-0.026366</td>\n",
       "      <td>0.015505</td>\n",
       "      <td>-0.072133</td>\n",
       "      <td>-0.017646</td>\n",
       "      <td>-0.032696</td>\n",
       "      <td>-0.007615</td>\n",
       "    </tr>\n",
       "  </tbody>\n",
       "</table>\n",
       "</div>"
      ],
      "text/plain": [
       "        age       sex       bmi        bp        s2        s3        s5        s6        s1        s4\n",
       "0  0.063504  0.050680 -0.001895  0.066629  0.108914  0.022869 -0.035816  0.003064  0.022108  0.013976\n",
       "1  0.016281 -0.044642 -0.028840 -0.009113 -0.009769  0.044958 -0.030748 -0.042499 -0.005274 -0.027721\n",
       "2  0.045341 -0.044642 -0.025607 -0.012556 -0.000061  0.081775 -0.031988 -0.075636  0.003205 -0.023114\n",
       "3 -0.052738  0.050680 -0.018062  0.080401  0.107662 -0.039719  0.036060 -0.042499 -0.012218 -0.005762\n",
       "4 -0.085430  0.050680 -0.022373  0.001215 -0.026366  0.015505 -0.072133 -0.017646 -0.032696 -0.007615"
      ]
     },
     "execution_count": 9,
     "metadata": {},
     "output_type": "execute_result"
    }
   ],
   "source": [
    "# Look at the full receiver dataset with imputed values integrated\n",
    "print(\"Receiver dataset with imputed values:\")\n",
    "imputed_data.head()"
   ]
  },
  {
   "cell_type": "markdown",
   "metadata": {},
   "source": [
    "## Evaluating imputation quality\n",
    "\n",
    "In this demonstration, since the receiver dataset was artificially created by removing variables from the original data, there exists the unique opportunity to evaluate the quality of our imputations by comparing them to the actual values."
   ]
  },
  {
   "cell_type": "code",
   "execution_count": 10,
   "metadata": {},
   "outputs": [
    {
     "data": {
      "application/vnd.plotly.v1+json": {
       "config": {
        "plotlyServerURL": "https://plot.ly"
       },
       "data": [
        {
         "marker": {
          "color": "blue",
          "size": 8
         },
         "mode": "markers",
         "name": "Actual Values",
         "type": "scatter",
         "x": [
          0,
          1,
          2,
          3,
          4,
          5,
          6,
          7,
          8,
          9,
          10,
          11,
          12,
          13,
          14,
          15,
          16,
          17,
          18,
          19,
          20,
          21,
          22,
          23,
          24,
          25,
          26,
          27,
          28,
          29,
          30,
          31,
          32,
          33,
          34,
          35,
          36,
          37,
          38,
          39,
          40,
          41,
          42,
          43,
          44,
          45,
          46,
          47,
          48,
          49,
          50,
          51,
          52,
          53,
          54,
          55,
          56,
          57,
          58,
          59,
          60,
          61,
          62,
          63,
          64,
          65,
          66,
          67,
          68,
          69,
          70,
          71,
          72,
          73,
          74,
          75,
          76,
          77,
          78,
          79,
          80,
          81,
          82,
          83,
          84,
          85,
          86,
          87,
          88,
          89,
          90,
          91,
          92,
          93,
          94,
          95,
          96,
          97,
          98,
          99,
          100,
          101,
          102,
          103,
          104,
          105,
          106,
          107,
          108,
          109,
          110,
          111,
          112,
          113,
          114,
          115,
          116,
          117,
          118,
          119,
          120,
          121,
          122,
          123,
          124,
          125,
          126,
          127,
          128,
          129,
          130,
          131,
          132
         ],
         "y": [
          0.09061988167926385,
          -0.004320865536613489,
          0.017694380194604446,
          0.08924392882106273,
          -0.037343734133440394,
          -0.030463969842434782,
          -0.04284754556624487,
          -0.04009563984984263,
          -0.04284754556624487,
          -0.04422349842444599,
          0.04934129593323023,
          -0.0249601584096303,
          -0.011200629827619093,
          -0.0841261313122785,
          0.0025588987543921156,
          -0.04147159270804375,
          0.020446285911006685,
          -0.06623874415566393,
          -0.011200629827619093,
          -0.06348683843926169,
          0.005310804470794357,
          -0.033215875558837024,
          -0.00019300696201012598,
          0.03833367306762126,
          -0.12678066991651324,
          0.06310082451524143,
          -0.0318399227006359,
          -0.00019300696201012598,
          -0.00019300696201012598,
          -0.004320865536613489,
          0.02182223876920781,
          0.027326050202012293,
          0.06034891879883919,
          0.010814615903598841,
          -0.0318399227006359,
          0.02319819162740893,
          0.005310804470794357,
          0.06447677737344255,
          0.045213437358626866,
          -0.037343734133440394,
          -0.05523112129005496,
          0.00943866304539772,
          -0.015328488402222454,
          -0.030463969842434782,
          0.0342058144930179,
          0.014942474478202204,
          -0.02083229983502694,
          -0.034591828417038145,
          -0.008448724111216851,
          -0.004320865536613489,
          0.001182945896190995,
          0.013566521620001083,
          -0.02358420555142918,
          0.027326050202012293,
          -0.08825398988688185,
          -0.0318399227006359,
          0.02319819162740893,
          -0.011200629827619093,
          0.045213437358626866,
          -0.0249601584096303,
          0.05209320164963247,
          0.126394655992493,
          0.039709625925822375,
          -0.027712064126032544,
          0.024574144485610048,
          0.017694380194604446,
          -0.051103262715451604,
          0.05484510736603471,
          -0.0249601584096303,
          -0.001568959820211247,
          0.04658939021682799,
          -0.005696818394814609,
          -0.04835135699904936,
          -0.015328488402222454,
          -0.00019300696201012598,
          0.006686757328995478,
          -0.05935897986465832,
          -0.009824676969417972,
          0.0025588987543921156,
          0.04796534307502911,
          -0.029088016984233665,
          0.006686757328995478,
          -0.013952535544021335,
          0.03558176735121902,
          0.016318427336403322,
          -0.07587041416307178,
          -0.007072771253015731,
          -0.05385516843185383,
          -0.026336111267831423,
          0.001182945896190995,
          0.06172487165704031,
          -0.016704441260423575,
          -0.038719686991641515,
          -0.008448724111216851,
          -0.038719686991641515,
          0.07961225881365488,
          0.03282986163481677,
          0.001182945896190995,
          0.07273249452264928,
          -0.027712064126032544,
          -0.016704441260423575,
          0.001182945896190995,
          -0.009824676969417972,
          -0.02220825269322806,
          0.04934129593323023,
          0.1277706088506941,
          -0.012576582685820214,
          -0.004320865536613489,
          0.01219056876179996,
          0.08924392882106273,
          -0.016704441260423575,
          -0.009824676969417972,
          0.02182223876920781,
          -0.001568959820211247,
          0.05071724879143135,
          0.013566521620001083,
          -0.06348683843926169,
          0.03558176735121902,
          0.11951489170148738,
          -0.060734932722859444,
          -0.007072771253015731,
          -0.046975404140848234,
          -0.10476542418529532,
          0.03145390877661565,
          -0.07311850844666953,
          0.10988322169407955,
          0.03833367306762126,
          -0.10063756561069194,
          0.03558176735121902,
          -0.037343734133440394,
          0.05759701308243695,
          0.04658939021682799,
          0.016318427336403322
         ]
        },
        {
         "marker": {
          "color": "red",
          "size": 8
         },
         "mode": "markers",
         "name": "Imputed Values",
         "type": "scatter",
         "x": [
          0,
          1,
          2,
          3,
          4,
          5,
          6,
          7,
          8,
          9,
          10,
          11,
          12,
          13,
          14,
          15,
          16,
          17,
          18,
          19,
          20,
          21,
          22,
          23,
          24,
          25,
          26,
          27,
          28,
          29,
          30,
          31,
          32,
          33,
          34,
          35,
          36,
          37,
          38,
          39,
          40,
          41,
          42,
          43,
          44,
          45,
          46,
          47,
          48,
          49,
          50,
          51,
          52,
          53,
          54,
          55,
          56,
          57,
          58,
          59,
          60,
          61,
          62,
          63,
          64,
          65,
          66,
          67,
          68,
          69,
          70,
          71,
          72,
          73,
          74,
          75,
          76,
          77,
          78,
          79,
          80,
          81,
          82,
          83,
          84,
          85,
          86,
          87,
          88,
          89,
          90,
          91,
          92,
          93,
          94,
          95,
          96,
          97,
          98,
          99,
          100,
          101,
          102,
          103,
          104,
          105,
          106,
          107,
          108,
          109,
          110,
          111,
          112,
          113,
          114,
          115,
          116,
          117,
          118,
          119,
          120,
          121,
          122,
          123,
          124,
          125,
          126,
          127,
          128,
          129,
          130,
          131,
          132
         ],
         "y": [
          0.022108008670540986,
          -0.005273925320825625,
          0.003204571183770166,
          -0.012218050560884292,
          -0.0326955835658283,
          -0.022251820945777125,
          -0.009769436824000726,
          -0.0022147773839331646,
          0.0221732348750004,
          -0.002863166267914303,
          -0.0010062910257257274,
          -0.013941787263202854,
          0.002705729964628721,
          -0.044881913172448745,
          0.010892216567046037,
          0.01842986268433776,
          -0.015318318465962901,
          -0.03171253760042345,
          -0.019138537298185217,
          0.006204369667765398,
          -0.013612406133801698,
          -0.002861365438810499,
          -0.01626609031439992,
          -0.00412822242876211,
          -0.0012740823166224914,
          0.008826176512118694,
          -0.034447440217053746,
          -0.027193153523164336,
          -0.03189085957715986,
          0.019240463424568376,
          -0.005177331783686942,
          -0.012430135575900524,
          -0.001167066057753061,
          0.002324824045752189,
          -0.007394232992098458,
          -0.0022007017547392652,
          -0.031011938254496194,
          -0.014605404773227113,
          0.021058699277102463,
          -0.017478234617596837,
          -0.04251566433771123,
          0.00016554707999825546,
          0.015505882264702519,
          0.014631980568765815,
          -0.013244671686568912,
          -0.012392903945437211,
          -0.02615081166831246,
          0.013990871227756397,
          -0.0059229685677966,
          0.00991394791980435,
          -0.02640978742999321,
          0.010138479187275154,
          -0.02553151774698768,
          0.008527526252848501,
          -0.033935489736093324,
          0.0061439829912939125,
          0.009348575577627383,
          -0.010923837227555338,
          -0.0033271849712323805,
          -0.0003429196316688432,
          0.0028757946613122178,
          0.02379384420229657,
          0.00526753299309495,
          0.03209717531795436,
          -0.002315215495535633,
          0.019022143576151184,
          0.01259587646895899,
          0.001240474197535087,
          0.02950912286550631,
          -0.01668855262549722,
          0.03384690395858109,
          -0.031025624492370407,
          -0.003856928512869258,
          -0.02685669561263683,
          0.018400063602644925,
          0.019094010137702316,
          0.02047603142403656,
          0.02760225596794431,
          -0.044795908771878945,
          0.005708318308209004,
          -0.005209337346984968,
          0.009233921284810405,
          -0.0005517545395810014,
          0.017504692524221266,
          0.01922002854232399,
          -0.007955529411817033,
          0.0011239568657895414,
          -0.02267383165572998,
          0.0036738744854853647,
          0.025672015130157693,
          0.027249921599119126,
          -0.002758066611423637,
          -0.014120374211609409,
          -0.017936579331198108,
          0.00029148714242407806,
          -0.0077682957920378794,
          0.026249191815577527,
          0.0017816440608014188,
          -0.007519583624690908,
          -0.016112793908596754,
          0.005964508017708276,
          -0.032392358750240324,
          0.0055133562676453664,
          0.019006914950108058,
          -0.043319421959004734,
          0.0030490309940933236,
          -0.0073601740818046175,
          0.0005329695228459559,
          0.00885987734057375,
          -0.03253313804738959,
          -0.01379144468335271,
          -0.0077855902188549465,
          -0.007510609771823391,
          -0.01421637831891472,
          0.015703486126834098,
          -0.018049737313299872,
          -0.049802981364694784,
          0.02204653120704504,
          0.002215461837328836,
          0.010580475901659638,
          0.014680239527903085,
          0.005682936969631628,
          0.03603275848507299,
          0.021113863565001608,
          -0.0018403712701277432,
          0.019230523204325948,
          -0.003616271947801687,
          -0.043910347092123554,
          0.03208719174358992,
          0.014679974556232935,
          0.0037607830436053136,
          -0.024731041133142104,
          -0.013367891585230956
         ]
        }
       ],
       "layout": {
        "hovermode": "closest",
        "legend": {
         "title": {
          "text": "Type"
         }
        },
        "template": {
         "data": {
          "bar": [
           {
            "error_x": {
             "color": "#2a3f5f"
            },
            "error_y": {
             "color": "#2a3f5f"
            },
            "marker": {
             "line": {
              "color": "#E5ECF6",
              "width": 0.5
             },
             "pattern": {
              "fillmode": "overlay",
              "size": 10,
              "solidity": 0.2
             }
            },
            "type": "bar"
           }
          ],
          "barpolar": [
           {
            "marker": {
             "line": {
              "color": "#E5ECF6",
              "width": 0.5
             },
             "pattern": {
              "fillmode": "overlay",
              "size": 10,
              "solidity": 0.2
             }
            },
            "type": "barpolar"
           }
          ],
          "carpet": [
           {
            "aaxis": {
             "endlinecolor": "#2a3f5f",
             "gridcolor": "white",
             "linecolor": "white",
             "minorgridcolor": "white",
             "startlinecolor": "#2a3f5f"
            },
            "baxis": {
             "endlinecolor": "#2a3f5f",
             "gridcolor": "white",
             "linecolor": "white",
             "minorgridcolor": "white",
             "startlinecolor": "#2a3f5f"
            },
            "type": "carpet"
           }
          ],
          "choropleth": [
           {
            "colorbar": {
             "outlinewidth": 0,
             "ticks": ""
            },
            "type": "choropleth"
           }
          ],
          "contour": [
           {
            "colorbar": {
             "outlinewidth": 0,
             "ticks": ""
            },
            "colorscale": [
             [
              0,
              "#0d0887"
             ],
             [
              0.1111111111111111,
              "#46039f"
             ],
             [
              0.2222222222222222,
              "#7201a8"
             ],
             [
              0.3333333333333333,
              "#9c179e"
             ],
             [
              0.4444444444444444,
              "#bd3786"
             ],
             [
              0.5555555555555556,
              "#d8576b"
             ],
             [
              0.6666666666666666,
              "#ed7953"
             ],
             [
              0.7777777777777778,
              "#fb9f3a"
             ],
             [
              0.8888888888888888,
              "#fdca26"
             ],
             [
              1,
              "#f0f921"
             ]
            ],
            "type": "contour"
           }
          ],
          "contourcarpet": [
           {
            "colorbar": {
             "outlinewidth": 0,
             "ticks": ""
            },
            "type": "contourcarpet"
           }
          ],
          "heatmap": [
           {
            "colorbar": {
             "outlinewidth": 0,
             "ticks": ""
            },
            "colorscale": [
             [
              0,
              "#0d0887"
             ],
             [
              0.1111111111111111,
              "#46039f"
             ],
             [
              0.2222222222222222,
              "#7201a8"
             ],
             [
              0.3333333333333333,
              "#9c179e"
             ],
             [
              0.4444444444444444,
              "#bd3786"
             ],
             [
              0.5555555555555556,
              "#d8576b"
             ],
             [
              0.6666666666666666,
              "#ed7953"
             ],
             [
              0.7777777777777778,
              "#fb9f3a"
             ],
             [
              0.8888888888888888,
              "#fdca26"
             ],
             [
              1,
              "#f0f921"
             ]
            ],
            "type": "heatmap"
           }
          ],
          "heatmapgl": [
           {
            "colorbar": {
             "outlinewidth": 0,
             "ticks": ""
            },
            "colorscale": [
             [
              0,
              "#0d0887"
             ],
             [
              0.1111111111111111,
              "#46039f"
             ],
             [
              0.2222222222222222,
              "#7201a8"
             ],
             [
              0.3333333333333333,
              "#9c179e"
             ],
             [
              0.4444444444444444,
              "#bd3786"
             ],
             [
              0.5555555555555556,
              "#d8576b"
             ],
             [
              0.6666666666666666,
              "#ed7953"
             ],
             [
              0.7777777777777778,
              "#fb9f3a"
             ],
             [
              0.8888888888888888,
              "#fdca26"
             ],
             [
              1,
              "#f0f921"
             ]
            ],
            "type": "heatmapgl"
           }
          ],
          "histogram": [
           {
            "marker": {
             "pattern": {
              "fillmode": "overlay",
              "size": 10,
              "solidity": 0.2
             }
            },
            "type": "histogram"
           }
          ],
          "histogram2d": [
           {
            "colorbar": {
             "outlinewidth": 0,
             "ticks": ""
            },
            "colorscale": [
             [
              0,
              "#0d0887"
             ],
             [
              0.1111111111111111,
              "#46039f"
             ],
             [
              0.2222222222222222,
              "#7201a8"
             ],
             [
              0.3333333333333333,
              "#9c179e"
             ],
             [
              0.4444444444444444,
              "#bd3786"
             ],
             [
              0.5555555555555556,
              "#d8576b"
             ],
             [
              0.6666666666666666,
              "#ed7953"
             ],
             [
              0.7777777777777778,
              "#fb9f3a"
             ],
             [
              0.8888888888888888,
              "#fdca26"
             ],
             [
              1,
              "#f0f921"
             ]
            ],
            "type": "histogram2d"
           }
          ],
          "histogram2dcontour": [
           {
            "colorbar": {
             "outlinewidth": 0,
             "ticks": ""
            },
            "colorscale": [
             [
              0,
              "#0d0887"
             ],
             [
              0.1111111111111111,
              "#46039f"
             ],
             [
              0.2222222222222222,
              "#7201a8"
             ],
             [
              0.3333333333333333,
              "#9c179e"
             ],
             [
              0.4444444444444444,
              "#bd3786"
             ],
             [
              0.5555555555555556,
              "#d8576b"
             ],
             [
              0.6666666666666666,
              "#ed7953"
             ],
             [
              0.7777777777777778,
              "#fb9f3a"
             ],
             [
              0.8888888888888888,
              "#fdca26"
             ],
             [
              1,
              "#f0f921"
             ]
            ],
            "type": "histogram2dcontour"
           }
          ],
          "mesh3d": [
           {
            "colorbar": {
             "outlinewidth": 0,
             "ticks": ""
            },
            "type": "mesh3d"
           }
          ],
          "parcoords": [
           {
            "line": {
             "colorbar": {
              "outlinewidth": 0,
              "ticks": ""
             }
            },
            "type": "parcoords"
           }
          ],
          "pie": [
           {
            "automargin": true,
            "type": "pie"
           }
          ],
          "scatter": [
           {
            "fillpattern": {
             "fillmode": "overlay",
             "size": 10,
             "solidity": 0.2
            },
            "type": "scatter"
           }
          ],
          "scatter3d": [
           {
            "line": {
             "colorbar": {
              "outlinewidth": 0,
              "ticks": ""
             }
            },
            "marker": {
             "colorbar": {
              "outlinewidth": 0,
              "ticks": ""
             }
            },
            "type": "scatter3d"
           }
          ],
          "scattercarpet": [
           {
            "marker": {
             "colorbar": {
              "outlinewidth": 0,
              "ticks": ""
             }
            },
            "type": "scattercarpet"
           }
          ],
          "scattergeo": [
           {
            "marker": {
             "colorbar": {
              "outlinewidth": 0,
              "ticks": ""
             }
            },
            "type": "scattergeo"
           }
          ],
          "scattergl": [
           {
            "marker": {
             "colorbar": {
              "outlinewidth": 0,
              "ticks": ""
             }
            },
            "type": "scattergl"
           }
          ],
          "scattermapbox": [
           {
            "marker": {
             "colorbar": {
              "outlinewidth": 0,
              "ticks": ""
             }
            },
            "type": "scattermapbox"
           }
          ],
          "scatterpolar": [
           {
            "marker": {
             "colorbar": {
              "outlinewidth": 0,
              "ticks": ""
             }
            },
            "type": "scatterpolar"
           }
          ],
          "scatterpolargl": [
           {
            "marker": {
             "colorbar": {
              "outlinewidth": 0,
              "ticks": ""
             }
            },
            "type": "scatterpolargl"
           }
          ],
          "scatterternary": [
           {
            "marker": {
             "colorbar": {
              "outlinewidth": 0,
              "ticks": ""
             }
            },
            "type": "scatterternary"
           }
          ],
          "surface": [
           {
            "colorbar": {
             "outlinewidth": 0,
             "ticks": ""
            },
            "colorscale": [
             [
              0,
              "#0d0887"
             ],
             [
              0.1111111111111111,
              "#46039f"
             ],
             [
              0.2222222222222222,
              "#7201a8"
             ],
             [
              0.3333333333333333,
              "#9c179e"
             ],
             [
              0.4444444444444444,
              "#bd3786"
             ],
             [
              0.5555555555555556,
              "#d8576b"
             ],
             [
              0.6666666666666666,
              "#ed7953"
             ],
             [
              0.7777777777777778,
              "#fb9f3a"
             ],
             [
              0.8888888888888888,
              "#fdca26"
             ],
             [
              1,
              "#f0f921"
             ]
            ],
            "type": "surface"
           }
          ],
          "table": [
           {
            "cells": {
             "fill": {
              "color": "#EBF0F8"
             },
             "line": {
              "color": "white"
             }
            },
            "header": {
             "fill": {
              "color": "#C8D4E3"
             },
             "line": {
              "color": "white"
             }
            },
            "type": "table"
           }
          ]
         },
         "layout": {
          "annotationdefaults": {
           "arrowcolor": "#2a3f5f",
           "arrowhead": 0,
           "arrowwidth": 1
          },
          "autotypenumbers": "strict",
          "coloraxis": {
           "colorbar": {
            "outlinewidth": 0,
            "ticks": ""
           }
          },
          "colorscale": {
           "diverging": [
            [
             0,
             "#8e0152"
            ],
            [
             0.1,
             "#c51b7d"
            ],
            [
             0.2,
             "#de77ae"
            ],
            [
             0.3,
             "#f1b6da"
            ],
            [
             0.4,
             "#fde0ef"
            ],
            [
             0.5,
             "#f7f7f7"
            ],
            [
             0.6,
             "#e6f5d0"
            ],
            [
             0.7,
             "#b8e186"
            ],
            [
             0.8,
             "#7fbc41"
            ],
            [
             0.9,
             "#4d9221"
            ],
            [
             1,
             "#276419"
            ]
           ],
           "sequential": [
            [
             0,
             "#0d0887"
            ],
            [
             0.1111111111111111,
             "#46039f"
            ],
            [
             0.2222222222222222,
             "#7201a8"
            ],
            [
             0.3333333333333333,
             "#9c179e"
            ],
            [
             0.4444444444444444,
             "#bd3786"
            ],
            [
             0.5555555555555556,
             "#d8576b"
            ],
            [
             0.6666666666666666,
             "#ed7953"
            ],
            [
             0.7777777777777778,
             "#fb9f3a"
            ],
            [
             0.8888888888888888,
             "#fdca26"
            ],
            [
             1,
             "#f0f921"
            ]
           ],
           "sequentialminus": [
            [
             0,
             "#0d0887"
            ],
            [
             0.1111111111111111,
             "#46039f"
            ],
            [
             0.2222222222222222,
             "#7201a8"
            ],
            [
             0.3333333333333333,
             "#9c179e"
            ],
            [
             0.4444444444444444,
             "#bd3786"
            ],
            [
             0.5555555555555556,
             "#d8576b"
            ],
            [
             0.6666666666666666,
             "#ed7953"
            ],
            [
             0.7777777777777778,
             "#fb9f3a"
            ],
            [
             0.8888888888888888,
             "#fdca26"
            ],
            [
             1,
             "#f0f921"
            ]
           ]
          },
          "colorway": [
           "#636efa",
           "#EF553B",
           "#00cc96",
           "#ab63fa",
           "#FFA15A",
           "#19d3f3",
           "#FF6692",
           "#B6E880",
           "#FF97FF",
           "#FECB52"
          ],
          "font": {
           "color": "#2a3f5f"
          },
          "geo": {
           "bgcolor": "white",
           "lakecolor": "white",
           "landcolor": "#E5ECF6",
           "showlakes": true,
           "showland": true,
           "subunitcolor": "white"
          },
          "hoverlabel": {
           "align": "left"
          },
          "hovermode": "closest",
          "mapbox": {
           "style": "light"
          },
          "paper_bgcolor": "white",
          "plot_bgcolor": "#E5ECF6",
          "polar": {
           "angularaxis": {
            "gridcolor": "white",
            "linecolor": "white",
            "ticks": ""
           },
           "bgcolor": "#E5ECF6",
           "radialaxis": {
            "gridcolor": "white",
            "linecolor": "white",
            "ticks": ""
           }
          },
          "scene": {
           "xaxis": {
            "backgroundcolor": "#E5ECF6",
            "gridcolor": "white",
            "gridwidth": 2,
            "linecolor": "white",
            "showbackground": true,
            "ticks": "",
            "zerolinecolor": "white"
           },
           "yaxis": {
            "backgroundcolor": "#E5ECF6",
            "gridcolor": "white",
            "gridwidth": 2,
            "linecolor": "white",
            "showbackground": true,
            "ticks": "",
            "zerolinecolor": "white"
           },
           "zaxis": {
            "backgroundcolor": "#E5ECF6",
            "gridcolor": "white",
            "gridwidth": 2,
            "linecolor": "white",
            "showbackground": true,
            "ticks": "",
            "zerolinecolor": "white"
           }
          },
          "shapedefaults": {
           "line": {
            "color": "#2a3f5f"
           }
          },
          "ternary": {
           "aaxis": {
            "gridcolor": "white",
            "linecolor": "white",
            "ticks": ""
           },
           "baxis": {
            "gridcolor": "white",
            "linecolor": "white",
            "ticks": ""
           },
           "bgcolor": "#E5ECF6",
           "caxis": {
            "gridcolor": "white",
            "linecolor": "white",
            "ticks": ""
           }
          },
          "title": {
           "x": 0.05
          },
          "xaxis": {
           "automargin": true,
           "gridcolor": "white",
           "linecolor": "white",
           "ticks": "",
           "title": {
            "standoff": 15
           },
           "zerolinecolor": "white",
           "zerolinewidth": 2
          },
          "yaxis": {
           "automargin": true,
           "gridcolor": "white",
           "linecolor": "white",
           "ticks": "",
           "title": {
            "standoff": 15
           },
           "zerolinecolor": "white",
           "zerolinewidth": 2
          }
         }
        },
        "title": {
         "text": "Comparison of Actual vs Imputed Values for s1"
        },
        "xaxis": {
         "title": {
          "text": "Sample Index"
         }
        },
        "yaxis": {
         "title": {
          "text": "s1 Value"
         }
        }
       }
      }
     },
     "metadata": {},
     "output_type": "display_data"
    },
    {
     "data": {
      "application/vnd.plotly.v1+json": {
       "config": {
        "plotlyServerURL": "https://plot.ly"
       },
       "data": [
        {
         "marker": {
          "color": "blue",
          "size": 8
         },
         "mode": "markers",
         "name": "Actual Values",
         "type": "scatter",
         "x": [
          0,
          1,
          2,
          3,
          4,
          5,
          6,
          7,
          8,
          9,
          10,
          11,
          12,
          13,
          14,
          15,
          16,
          17,
          18,
          19,
          20,
          21,
          22,
          23,
          24,
          25,
          26,
          27,
          28,
          29,
          30,
          31,
          32,
          33,
          34,
          35,
          36,
          37,
          38,
          39,
          40,
          41,
          42,
          43,
          44,
          45,
          46,
          47,
          48,
          49,
          50,
          51,
          52,
          53,
          54,
          55,
          56,
          57,
          58,
          59,
          60,
          61,
          62,
          63,
          64,
          65,
          66,
          67,
          68,
          69,
          70,
          71,
          72,
          73,
          74,
          75,
          76,
          77,
          78,
          79,
          80,
          81,
          82,
          83,
          84,
          85,
          86,
          87,
          88,
          89,
          90,
          91,
          92,
          93,
          94,
          95,
          96,
          97,
          98,
          99,
          100,
          101,
          102,
          103,
          104,
          105,
          106,
          107,
          108,
          109,
          110,
          111,
          112,
          113,
          114,
          115,
          116,
          117,
          118,
          119,
          120,
          121,
          122,
          123,
          124,
          125,
          126,
          127,
          128,
          129,
          130,
          131,
          132
         ],
         "y": [
          0.01770335448356722,
          -0.03949338287409329,
          -0.03949338287409329,
          0.10811110062954676,
          -0.03949338287409329,
          -0.002592261998183278,
          -0.03949338287409329,
          -0.03949338287409329,
          -0.0763945037500033,
          -0.0763945037500033,
          -0.05351580880693909,
          -0.03949338287409329,
          -0.002592261998183278,
          -0.03949338287409329,
          -0.03949338287409329,
          -0.002592261998183278,
          -0.03949338287409329,
          -0.0763945037500033,
          -0.03949338287409329,
          -0.03949338287409329,
          0.07120997975363674,
          -0.002592261998183278,
          -0.03949338287409329,
          0.03430885887772673,
          -0.047980640675552584,
          -0.03949338287409329,
          -0.03949338287409329,
          -0.03949338287409329,
          -0.03949338287409329,
          0.03430885887772673,
          0.03430885887772673,
          0.03430885887772673,
          -0.002592261998183278,
          -0.03949338287409329,
          -0.002592261998183278,
          -0.03949338287409329,
          -0.002592261998183278,
          0.10811110062954676,
          0.07120997975363674,
          -0.002592261998183278,
          -0.0763945037500033,
          0.03430885887772673,
          -0.002592261998183278,
          -0.002592261998183278,
          0.13025177315509276,
          0.02545258986750832,
          0.07120997975363674,
          -0.002592261998183278,
          -0.03949338287409329,
          -0.002592261998183278,
          -0.007020396503292483,
          -0.002592261998183278,
          -0.03949338287409329,
          -0.03949338287409329,
          -0.03949338287409329,
          -0.03949338287409329,
          0.08006624876385515,
          0.03430885887772673,
          -0.002592261998183278,
          -0.002592261998183278,
          -0.021411833644897377,
          0.03430885887772673,
          0.07120997975363674,
          0.03430885887772673,
          0.03430885887772673,
          0.03430885887772673,
          0.03430885887772673,
          -0.03949338287409329,
          -0.03949338287409329,
          -0.03949338287409329,
          -0.002592261998183278,
          0.03430885887772673,
          -0.03949338287409329,
          -0.002592261998183278,
          -0.05056371913686628,
          -0.012555564634678981,
          0.012906208769698923,
          0.03430885887772673,
          -0.03949338287409329,
          0.03430885887772673,
          0.03430885887772673,
          0.08080427118137334,
          0.005156973385757823,
          -0.0763945037500033,
          0.03430885887772673,
          -0.03764832683029779,
          -0.002592261998183278,
          -0.0763945037500033,
          -0.03949338287409329,
          0.03430885887772673,
          -0.002592261998183278,
          -0.002592261998183278,
          -0.03949338287409329,
          0.07120997975363674,
          -0.03949338287409329,
          -0.002592261998183278,
          0.03430885887772673,
          0.03430885887772673,
          0.08486339447772344,
          -0.03949338287409329,
          0.03430885887772673,
          -0.002592261998183278,
          -0.03949338287409329,
          -0.002592261998183278,
          0.03430885887772673,
          0.07120997975363674,
          -0.002592261998183278,
          -0.03949338287409329,
          -0.002592261998183278,
          0.03430885887772673,
          -0.002592261998183278,
          0.03430885887772673,
          0.03430885887772673,
          -0.03949338287409329,
          0.03430885887772673,
          -0.002592261998183278,
          -0.03949338287409329,
          -0.002592261998183278,
          0.08670845052151895,
          -0.03395821474270679,
          -0.002592261998183278,
          -0.02583996815000658,
          -0.002592261998183278,
          0.02360753382371283,
          -0.0763945037500033,
          0.09187460744414634,
          0.10811110062954676,
          -0.0763945037500033,
          0.03430885887772673,
          -0.03949338287409329,
          0.023238522614953735,
          -0.03949338287409329,
          0.02655962349378563
         ]
        },
        {
         "marker": {
          "color": "red",
          "size": 8
         },
         "mode": "markers",
         "name": "Imputed Values",
         "type": "scatter",
         "x": [
          0,
          1,
          2,
          3,
          4,
          5,
          6,
          7,
          8,
          9,
          10,
          11,
          12,
          13,
          14,
          15,
          16,
          17,
          18,
          19,
          20,
          21,
          22,
          23,
          24,
          25,
          26,
          27,
          28,
          29,
          30,
          31,
          32,
          33,
          34,
          35,
          36,
          37,
          38,
          39,
          40,
          41,
          42,
          43,
          44,
          45,
          46,
          47,
          48,
          49,
          50,
          51,
          52,
          53,
          54,
          55,
          56,
          57,
          58,
          59,
          60,
          61,
          62,
          63,
          64,
          65,
          66,
          67,
          68,
          69,
          70,
          71,
          72,
          73,
          74,
          75,
          76,
          77,
          78,
          79,
          80,
          81,
          82,
          83,
          84,
          85,
          86,
          87,
          88,
          89,
          90,
          91,
          92,
          93,
          94,
          95,
          96,
          97,
          98,
          99,
          100,
          101,
          102,
          103,
          104,
          105,
          106,
          107,
          108,
          109,
          110,
          111,
          112,
          113,
          114,
          115,
          116,
          117,
          118,
          119,
          120,
          121,
          122,
          123,
          124,
          125,
          126,
          127,
          128,
          129,
          130,
          131,
          132
         ],
         "y": [
          0.013975556194727276,
          -0.02772089708815743,
          -0.02311353333421697,
          -0.0057622105227795395,
          -0.007615128726020343,
          -0.009618982250052307,
          0.005052873179986281,
          -0.017893493599626897,
          0.012774198351280753,
          -0.03516680979470888,
          0.005654319187773483,
          -0.01225022702226131,
          -0.0019873565439757148,
          -0.05374688720662924,
          0.0006229339581830342,
          0.022638396206612756,
          -0.013749265969632416,
          -0.02579553207048845,
          0.006581872870578359,
          0.009404656793004666,
          -0.006695341254883454,
          0.004510533426889016,
          -0.04611206837422196,
          0.0040366870663374535,
          0.0158005708902927,
          -0.0163090731425924,
          -0.008498588033516651,
          -0.04181586343145956,
          -0.033010960125667205,
          0.01873199360221048,
          0.015787304256417334,
          -0.04497695889015888,
          -0.008371052209520523,
          -0.008437530656289596,
          0.0020634717438311667,
          -0.01306124125762027,
          -0.017937373392630775,
          0.008183547720693398,
          -0.024125248213783052,
          -0.022184584369090276,
          -0.05147498330731006,
          -0.010789337358301091,
          -0.0016961256977177722,
          0.019200243899455478,
          0.00016070537992738738,
          0.01413260713331611,
          0.005390488425712789,
          0.011694645822237351,
          -0.01941470554508039,
          -0.0052454324623925205,
          -0.04305922389558062,
          -0.005045856647409226,
          -0.041158570819781436,
          -0.0219903528147916,
          -0.018086270310118138,
          -0.025387122164729194,
          -0.0008026351967906461,
          0.006912301020613632,
          -0.027905350812172325,
          -0.005754428806030596,
          -0.03521413784382626,
          0.018596533844498494,
          0.020569207897277335,
          0.024225449688008726,
          0.021906702956740562,
          -0.00196900077919849,
          0.004678003392687061,
          -0.012109578024683761,
          0.005805325131611566,
          -0.04570642593911061,
          -0.0017786803570133398,
          -0.047503746639853635,
          -0.0024826984443049567,
          -0.03759223974941176,
          0.003429317500123171,
          0.0005138477977724746,
          0.009483995050208112,
          0.043364079254130106,
          -0.05837615332378838,
          0.0026378217050145258,
          0.04358933411815917,
          0.011121961778239545,
          -0.033407502188799475,
          -0.034339084178287634,
          0.05630222931844769,
          -0.011681645416920256,
          -0.027917957235114737,
          -0.04589182775629393,
          0.004749577180513353,
          0.047209558927591794,
          -0.005369139991522161,
          0.0010061327603482712,
          -0.01862026824449725,
          -0.004532676794503079,
          0.010011329886906733,
          0.010396484255128732,
          0.03642051880754378,
          0.018236381067017526,
          0.006380105191997314,
          -0.01311073594617252,
          0.009936793060135372,
          -0.03708159902205875,
          -0.03128197953894165,
          0.035738090158838186,
          -0.03278539407929634,
          0.017019453761683494,
          0.006003976310953573,
          -0.022806556290016138,
          0.027634614205744912,
          -0.04490929623444611,
          0.023613105464233553,
          0.009271618804510334,
          0.00929843977273085,
          -0.03701116889569806,
          0.010488409921267091,
          -0.00100509565699163,
          -0.04074882168425941,
          0.009778753480900007,
          0.009410542323416747,
          -0.008417200311448101,
          0.0040842667363110395,
          -0.012808023324430236,
          0.06224203333827223,
          -0.03640240578945279,
          0.007915821331600143,
          0.0225199011931101,
          -0.005550995210264038,
          -0.03961836017033445,
          0.04813736423125288,
          0.00492965356925383,
          0.005358435927857795,
          -0.04419640612027021,
          -0.00738751321478438
         ]
        }
       ],
       "layout": {
        "hovermode": "closest",
        "legend": {
         "title": {
          "text": "Type"
         }
        },
        "template": {
         "data": {
          "bar": [
           {
            "error_x": {
             "color": "#2a3f5f"
            },
            "error_y": {
             "color": "#2a3f5f"
            },
            "marker": {
             "line": {
              "color": "#E5ECF6",
              "width": 0.5
             },
             "pattern": {
              "fillmode": "overlay",
              "size": 10,
              "solidity": 0.2
             }
            },
            "type": "bar"
           }
          ],
          "barpolar": [
           {
            "marker": {
             "line": {
              "color": "#E5ECF6",
              "width": 0.5
             },
             "pattern": {
              "fillmode": "overlay",
              "size": 10,
              "solidity": 0.2
             }
            },
            "type": "barpolar"
           }
          ],
          "carpet": [
           {
            "aaxis": {
             "endlinecolor": "#2a3f5f",
             "gridcolor": "white",
             "linecolor": "white",
             "minorgridcolor": "white",
             "startlinecolor": "#2a3f5f"
            },
            "baxis": {
             "endlinecolor": "#2a3f5f",
             "gridcolor": "white",
             "linecolor": "white",
             "minorgridcolor": "white",
             "startlinecolor": "#2a3f5f"
            },
            "type": "carpet"
           }
          ],
          "choropleth": [
           {
            "colorbar": {
             "outlinewidth": 0,
             "ticks": ""
            },
            "type": "choropleth"
           }
          ],
          "contour": [
           {
            "colorbar": {
             "outlinewidth": 0,
             "ticks": ""
            },
            "colorscale": [
             [
              0,
              "#0d0887"
             ],
             [
              0.1111111111111111,
              "#46039f"
             ],
             [
              0.2222222222222222,
              "#7201a8"
             ],
             [
              0.3333333333333333,
              "#9c179e"
             ],
             [
              0.4444444444444444,
              "#bd3786"
             ],
             [
              0.5555555555555556,
              "#d8576b"
             ],
             [
              0.6666666666666666,
              "#ed7953"
             ],
             [
              0.7777777777777778,
              "#fb9f3a"
             ],
             [
              0.8888888888888888,
              "#fdca26"
             ],
             [
              1,
              "#f0f921"
             ]
            ],
            "type": "contour"
           }
          ],
          "contourcarpet": [
           {
            "colorbar": {
             "outlinewidth": 0,
             "ticks": ""
            },
            "type": "contourcarpet"
           }
          ],
          "heatmap": [
           {
            "colorbar": {
             "outlinewidth": 0,
             "ticks": ""
            },
            "colorscale": [
             [
              0,
              "#0d0887"
             ],
             [
              0.1111111111111111,
              "#46039f"
             ],
             [
              0.2222222222222222,
              "#7201a8"
             ],
             [
              0.3333333333333333,
              "#9c179e"
             ],
             [
              0.4444444444444444,
              "#bd3786"
             ],
             [
              0.5555555555555556,
              "#d8576b"
             ],
             [
              0.6666666666666666,
              "#ed7953"
             ],
             [
              0.7777777777777778,
              "#fb9f3a"
             ],
             [
              0.8888888888888888,
              "#fdca26"
             ],
             [
              1,
              "#f0f921"
             ]
            ],
            "type": "heatmap"
           }
          ],
          "heatmapgl": [
           {
            "colorbar": {
             "outlinewidth": 0,
             "ticks": ""
            },
            "colorscale": [
             [
              0,
              "#0d0887"
             ],
             [
              0.1111111111111111,
              "#46039f"
             ],
             [
              0.2222222222222222,
              "#7201a8"
             ],
             [
              0.3333333333333333,
              "#9c179e"
             ],
             [
              0.4444444444444444,
              "#bd3786"
             ],
             [
              0.5555555555555556,
              "#d8576b"
             ],
             [
              0.6666666666666666,
              "#ed7953"
             ],
             [
              0.7777777777777778,
              "#fb9f3a"
             ],
             [
              0.8888888888888888,
              "#fdca26"
             ],
             [
              1,
              "#f0f921"
             ]
            ],
            "type": "heatmapgl"
           }
          ],
          "histogram": [
           {
            "marker": {
             "pattern": {
              "fillmode": "overlay",
              "size": 10,
              "solidity": 0.2
             }
            },
            "type": "histogram"
           }
          ],
          "histogram2d": [
           {
            "colorbar": {
             "outlinewidth": 0,
             "ticks": ""
            },
            "colorscale": [
             [
              0,
              "#0d0887"
             ],
             [
              0.1111111111111111,
              "#46039f"
             ],
             [
              0.2222222222222222,
              "#7201a8"
             ],
             [
              0.3333333333333333,
              "#9c179e"
             ],
             [
              0.4444444444444444,
              "#bd3786"
             ],
             [
              0.5555555555555556,
              "#d8576b"
             ],
             [
              0.6666666666666666,
              "#ed7953"
             ],
             [
              0.7777777777777778,
              "#fb9f3a"
             ],
             [
              0.8888888888888888,
              "#fdca26"
             ],
             [
              1,
              "#f0f921"
             ]
            ],
            "type": "histogram2d"
           }
          ],
          "histogram2dcontour": [
           {
            "colorbar": {
             "outlinewidth": 0,
             "ticks": ""
            },
            "colorscale": [
             [
              0,
              "#0d0887"
             ],
             [
              0.1111111111111111,
              "#46039f"
             ],
             [
              0.2222222222222222,
              "#7201a8"
             ],
             [
              0.3333333333333333,
              "#9c179e"
             ],
             [
              0.4444444444444444,
              "#bd3786"
             ],
             [
              0.5555555555555556,
              "#d8576b"
             ],
             [
              0.6666666666666666,
              "#ed7953"
             ],
             [
              0.7777777777777778,
              "#fb9f3a"
             ],
             [
              0.8888888888888888,
              "#fdca26"
             ],
             [
              1,
              "#f0f921"
             ]
            ],
            "type": "histogram2dcontour"
           }
          ],
          "mesh3d": [
           {
            "colorbar": {
             "outlinewidth": 0,
             "ticks": ""
            },
            "type": "mesh3d"
           }
          ],
          "parcoords": [
           {
            "line": {
             "colorbar": {
              "outlinewidth": 0,
              "ticks": ""
             }
            },
            "type": "parcoords"
           }
          ],
          "pie": [
           {
            "automargin": true,
            "type": "pie"
           }
          ],
          "scatter": [
           {
            "fillpattern": {
             "fillmode": "overlay",
             "size": 10,
             "solidity": 0.2
            },
            "type": "scatter"
           }
          ],
          "scatter3d": [
           {
            "line": {
             "colorbar": {
              "outlinewidth": 0,
              "ticks": ""
             }
            },
            "marker": {
             "colorbar": {
              "outlinewidth": 0,
              "ticks": ""
             }
            },
            "type": "scatter3d"
           }
          ],
          "scattercarpet": [
           {
            "marker": {
             "colorbar": {
              "outlinewidth": 0,
              "ticks": ""
             }
            },
            "type": "scattercarpet"
           }
          ],
          "scattergeo": [
           {
            "marker": {
             "colorbar": {
              "outlinewidth": 0,
              "ticks": ""
             }
            },
            "type": "scattergeo"
           }
          ],
          "scattergl": [
           {
            "marker": {
             "colorbar": {
              "outlinewidth": 0,
              "ticks": ""
             }
            },
            "type": "scattergl"
           }
          ],
          "scattermapbox": [
           {
            "marker": {
             "colorbar": {
              "outlinewidth": 0,
              "ticks": ""
             }
            },
            "type": "scattermapbox"
           }
          ],
          "scatterpolar": [
           {
            "marker": {
             "colorbar": {
              "outlinewidth": 0,
              "ticks": ""
             }
            },
            "type": "scatterpolar"
           }
          ],
          "scatterpolargl": [
           {
            "marker": {
             "colorbar": {
              "outlinewidth": 0,
              "ticks": ""
             }
            },
            "type": "scatterpolargl"
           }
          ],
          "scatterternary": [
           {
            "marker": {
             "colorbar": {
              "outlinewidth": 0,
              "ticks": ""
             }
            },
            "type": "scatterternary"
           }
          ],
          "surface": [
           {
            "colorbar": {
             "outlinewidth": 0,
             "ticks": ""
            },
            "colorscale": [
             [
              0,
              "#0d0887"
             ],
             [
              0.1111111111111111,
              "#46039f"
             ],
             [
              0.2222222222222222,
              "#7201a8"
             ],
             [
              0.3333333333333333,
              "#9c179e"
             ],
             [
              0.4444444444444444,
              "#bd3786"
             ],
             [
              0.5555555555555556,
              "#d8576b"
             ],
             [
              0.6666666666666666,
              "#ed7953"
             ],
             [
              0.7777777777777778,
              "#fb9f3a"
             ],
             [
              0.8888888888888888,
              "#fdca26"
             ],
             [
              1,
              "#f0f921"
             ]
            ],
            "type": "surface"
           }
          ],
          "table": [
           {
            "cells": {
             "fill": {
              "color": "#EBF0F8"
             },
             "line": {
              "color": "white"
             }
            },
            "header": {
             "fill": {
              "color": "#C8D4E3"
             },
             "line": {
              "color": "white"
             }
            },
            "type": "table"
           }
          ]
         },
         "layout": {
          "annotationdefaults": {
           "arrowcolor": "#2a3f5f",
           "arrowhead": 0,
           "arrowwidth": 1
          },
          "autotypenumbers": "strict",
          "coloraxis": {
           "colorbar": {
            "outlinewidth": 0,
            "ticks": ""
           }
          },
          "colorscale": {
           "diverging": [
            [
             0,
             "#8e0152"
            ],
            [
             0.1,
             "#c51b7d"
            ],
            [
             0.2,
             "#de77ae"
            ],
            [
             0.3,
             "#f1b6da"
            ],
            [
             0.4,
             "#fde0ef"
            ],
            [
             0.5,
             "#f7f7f7"
            ],
            [
             0.6,
             "#e6f5d0"
            ],
            [
             0.7,
             "#b8e186"
            ],
            [
             0.8,
             "#7fbc41"
            ],
            [
             0.9,
             "#4d9221"
            ],
            [
             1,
             "#276419"
            ]
           ],
           "sequential": [
            [
             0,
             "#0d0887"
            ],
            [
             0.1111111111111111,
             "#46039f"
            ],
            [
             0.2222222222222222,
             "#7201a8"
            ],
            [
             0.3333333333333333,
             "#9c179e"
            ],
            [
             0.4444444444444444,
             "#bd3786"
            ],
            [
             0.5555555555555556,
             "#d8576b"
            ],
            [
             0.6666666666666666,
             "#ed7953"
            ],
            [
             0.7777777777777778,
             "#fb9f3a"
            ],
            [
             0.8888888888888888,
             "#fdca26"
            ],
            [
             1,
             "#f0f921"
            ]
           ],
           "sequentialminus": [
            [
             0,
             "#0d0887"
            ],
            [
             0.1111111111111111,
             "#46039f"
            ],
            [
             0.2222222222222222,
             "#7201a8"
            ],
            [
             0.3333333333333333,
             "#9c179e"
            ],
            [
             0.4444444444444444,
             "#bd3786"
            ],
            [
             0.5555555555555556,
             "#d8576b"
            ],
            [
             0.6666666666666666,
             "#ed7953"
            ],
            [
             0.7777777777777778,
             "#fb9f3a"
            ],
            [
             0.8888888888888888,
             "#fdca26"
            ],
            [
             1,
             "#f0f921"
            ]
           ]
          },
          "colorway": [
           "#636efa",
           "#EF553B",
           "#00cc96",
           "#ab63fa",
           "#FFA15A",
           "#19d3f3",
           "#FF6692",
           "#B6E880",
           "#FF97FF",
           "#FECB52"
          ],
          "font": {
           "color": "#2a3f5f"
          },
          "geo": {
           "bgcolor": "white",
           "lakecolor": "white",
           "landcolor": "#E5ECF6",
           "showlakes": true,
           "showland": true,
           "subunitcolor": "white"
          },
          "hoverlabel": {
           "align": "left"
          },
          "hovermode": "closest",
          "mapbox": {
           "style": "light"
          },
          "paper_bgcolor": "white",
          "plot_bgcolor": "#E5ECF6",
          "polar": {
           "angularaxis": {
            "gridcolor": "white",
            "linecolor": "white",
            "ticks": ""
           },
           "bgcolor": "#E5ECF6",
           "radialaxis": {
            "gridcolor": "white",
            "linecolor": "white",
            "ticks": ""
           }
          },
          "scene": {
           "xaxis": {
            "backgroundcolor": "#E5ECF6",
            "gridcolor": "white",
            "gridwidth": 2,
            "linecolor": "white",
            "showbackground": true,
            "ticks": "",
            "zerolinecolor": "white"
           },
           "yaxis": {
            "backgroundcolor": "#E5ECF6",
            "gridcolor": "white",
            "gridwidth": 2,
            "linecolor": "white",
            "showbackground": true,
            "ticks": "",
            "zerolinecolor": "white"
           },
           "zaxis": {
            "backgroundcolor": "#E5ECF6",
            "gridcolor": "white",
            "gridwidth": 2,
            "linecolor": "white",
            "showbackground": true,
            "ticks": "",
            "zerolinecolor": "white"
           }
          },
          "shapedefaults": {
           "line": {
            "color": "#2a3f5f"
           }
          },
          "ternary": {
           "aaxis": {
            "gridcolor": "white",
            "linecolor": "white",
            "ticks": ""
           },
           "baxis": {
            "gridcolor": "white",
            "linecolor": "white",
            "ticks": ""
           },
           "bgcolor": "#E5ECF6",
           "caxis": {
            "gridcolor": "white",
            "linecolor": "white",
            "ticks": ""
           }
          },
          "title": {
           "x": 0.05
          },
          "xaxis": {
           "automargin": true,
           "gridcolor": "white",
           "linecolor": "white",
           "ticks": "",
           "title": {
            "standoff": 15
           },
           "zerolinecolor": "white",
           "zerolinewidth": 2
          },
          "yaxis": {
           "automargin": true,
           "gridcolor": "white",
           "linecolor": "white",
           "ticks": "",
           "title": {
            "standoff": 15
           },
           "zerolinecolor": "white",
           "zerolinewidth": 2
          }
         }
        },
        "title": {
         "text": "Comparison of Actual vs Imputed Values for s4"
        },
        "xaxis": {
         "title": {
          "text": "Sample Index"
         }
        },
        "yaxis": {
         "title": {
          "text": "s4 Value"
         }
        }
       }
      }
     },
     "metadata": {},
     "output_type": "display_data"
    }
   ],
   "source": [
    "# Visualize comparison between actual and imputed values\n",
    "for var in imputed_variables:\n",
    "    fig = go.Figure()\n",
    "    \n",
    "    # Plot actual values\n",
    "    fig.add_trace(go.Scatter(\n",
    "        x=receiver_data.index,\n",
    "        y=receiver_data[var],\n",
    "        mode='markers',\n",
    "        name='Actual Values',\n",
    "        marker=dict(color='blue', size=8)\n",
    "    ))\n",
    "    \n",
    "    # Plot imputed values\n",
    "    fig.add_trace(go.Scatter(\n",
    "        x=imputed_data.index,\n",
    "        y=imputed_data[var],\n",
    "        mode='markers',\n",
    "        name='Imputed Values',\n",
    "        marker=dict(color='red', size=8)\n",
    "    ))\n",
    "    \n",
    "    # Customize the plot appearance\n",
    "    fig.update_layout(\n",
    "        title=f'Comparison of Actual vs Imputed Values for {var}',\n",
    "        xaxis_title='Sample Index',\n",
    "        yaxis_title=f'{var} Value',\n",
    "        legend_title='Type',\n",
    "        hovermode='closest'\n",
    "    )\n",
    "    \n",
    "    fig.show()"
   ]
  },
  {
   "cell_type": "markdown",
   "metadata": {},
   "source": [
    "The plots above show how well the imputed values (red) match the actual values (blue) that were removed from the receiver dataset. This visual comparison helps assess the quality of the imputations generated by the best-performing method."
   ]
  },
  {
   "cell_type": "markdown",
   "metadata": {},
   "source": [
    "## Advanced usage: custom models and hyperparameters\n",
    "\n",
    "The AutoImpute function allows for customization of both the models to evaluate and their hyperparameters. This flexibility enables adaptation to specific dataset characteristics and imputation requirements."
   ]
  },
  {
   "cell_type": "code",
   "execution_count": 11,
   "metadata": {},
   "outputs": [
    {
     "name": "stderr",
     "output_type": "stream",
     "text": [
      "/Users/movil1/anaconda3/lib/python3.11/site-packages/statsmodels/regression/quantile_regression.py:191: IterationLimitWarning:\n",
      "\n",
      "Maximum number of iterations (1000) reached.\n",
      "\n",
      "/Users/movil1/anaconda3/lib/python3.11/site-packages/statsmodels/regression/quantile_regression.py:191: IterationLimitWarning:\n",
      "\n",
      "Maximum number of iterations (1000) reached.\n",
      "\n",
      "/Users/movil1/anaconda3/lib/python3.11/site-packages/statsmodels/regression/quantile_regression.py:191: IterationLimitWarning:\n",
      "\n",
      "Maximum number of iterations (1000) reached.\n",
      "\n",
      "/Users/movil1/anaconda3/lib/python3.11/site-packages/statsmodels/regression/quantile_regression.py:191: IterationLimitWarning:\n",
      "\n",
      "Maximum number of iterations (1000) reached.\n",
      "\n"
     ]
    },
    {
     "data": {
      "text/html": [
       "<div>\n",
       "<style scoped>\n",
       "    .dataframe tbody tr th:only-of-type {\n",
       "        vertical-align: middle;\n",
       "    }\n",
       "\n",
       "    .dataframe tbody tr th {\n",
       "        vertical-align: top;\n",
       "    }\n",
       "\n",
       "    .dataframe thead th {\n",
       "        text-align: right;\n",
       "    }\n",
       "</style>\n",
       "<table border=\"1\" class=\"dataframe\">\n",
       "  <thead>\n",
       "    <tr style=\"text-align: right;\">\n",
       "      <th></th>\n",
       "      <th>s1</th>\n",
       "      <th>s4</th>\n",
       "    </tr>\n",
       "  </thead>\n",
       "  <tbody>\n",
       "    <tr>\n",
       "      <th>0</th>\n",
       "      <td>0.022108</td>\n",
       "      <td>0.013976</td>\n",
       "    </tr>\n",
       "    <tr>\n",
       "      <th>1</th>\n",
       "      <td>-0.005274</td>\n",
       "      <td>-0.027721</td>\n",
       "    </tr>\n",
       "    <tr>\n",
       "      <th>2</th>\n",
       "      <td>0.003205</td>\n",
       "      <td>-0.023114</td>\n",
       "    </tr>\n",
       "    <tr>\n",
       "      <th>3</th>\n",
       "      <td>-0.012218</td>\n",
       "      <td>-0.005762</td>\n",
       "    </tr>\n",
       "    <tr>\n",
       "      <th>4</th>\n",
       "      <td>-0.032696</td>\n",
       "      <td>-0.007615</td>\n",
       "    </tr>\n",
       "    <tr>\n",
       "      <th>...</th>\n",
       "      <td>...</td>\n",
       "      <td>...</td>\n",
       "    </tr>\n",
       "    <tr>\n",
       "      <th>128</th>\n",
       "      <td>0.032087</td>\n",
       "      <td>0.048137</td>\n",
       "    </tr>\n",
       "    <tr>\n",
       "      <th>129</th>\n",
       "      <td>0.014680</td>\n",
       "      <td>0.004930</td>\n",
       "    </tr>\n",
       "    <tr>\n",
       "      <th>130</th>\n",
       "      <td>0.003761</td>\n",
       "      <td>0.005358</td>\n",
       "    </tr>\n",
       "    <tr>\n",
       "      <th>131</th>\n",
       "      <td>-0.024731</td>\n",
       "      <td>-0.044196</td>\n",
       "    </tr>\n",
       "    <tr>\n",
       "      <th>132</th>\n",
       "      <td>-0.013368</td>\n",
       "      <td>-0.007388</td>\n",
       "    </tr>\n",
       "  </tbody>\n",
       "</table>\n",
       "<p>133 rows × 2 columns</p>\n",
       "</div>"
      ],
      "text/plain": [
       "           s1        s4\n",
       "0    0.022108  0.013976\n",
       "1   -0.005274 -0.027721\n",
       "2    0.003205 -0.023114\n",
       "3   -0.012218 -0.005762\n",
       "4   -0.032696 -0.007615\n",
       "..        ...       ...\n",
       "128  0.032087  0.048137\n",
       "129  0.014680  0.004930\n",
       "130  0.003761  0.005358\n",
       "131 -0.024731 -0.044196\n",
       "132 -0.013368 -0.007388\n",
       "\n",
       "[133 rows x 2 columns]"
      ]
     },
     "execution_count": 11,
     "metadata": {},
     "output_type": "execute_result"
    }
   ],
   "source": [
    "from microimpute.models import *\n",
    "\n",
    "# Specify a custom subset of models to evaluate\n",
    "custom_models = [QRF, OLS, QuantReg]\n",
    "\n",
    "# Specify custom hyperparameters for some models\n",
    "custom_hyperparameters = {\"QRF\": {\"n_estimators\": 200, \"max_depth\": 10}}\n",
    "\n",
    "# Then simply run autoimpute with custom models and hyperparameters\n",
    "advanced_imputations, advanced_imputed_data, advanced_fitted_model, advanced_method_results = autoimpute(\n",
    "    donor_data=donor_data,\n",
    "    receiver_data=receiver_data_without_targets,\n",
    "    predictors=predictors,\n",
    "    imputed_variables=imputed_variables,\n",
    "    models=custom_models,\n",
    "    hyperparameters=custom_hyperparameters,\n",
    "    k_folds=5\n",
    ")\n",
    "\n",
    "advanced_imputations[0.5]"
   ]
  }
 ],
 "metadata": {
  "kernelspec": {
   "display_name": "base",
   "language": "python",
   "name": "python3"
  },
  "language_info": {
   "codemirror_mode": {
    "name": "ipython",
    "version": 3
   },
   "file_extension": ".py",
   "mimetype": "text/x-python",
   "name": "python",
   "nbconvert_exporter": "python",
   "pygments_lexer": "ipython3",
   "version": "3.11.8"
  }
 },
 "nbformat": 4,
 "nbformat_minor": 4
}
