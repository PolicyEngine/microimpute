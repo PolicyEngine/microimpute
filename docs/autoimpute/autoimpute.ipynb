{
 "cells": [
  {
   "cell_type": "markdown",
   "metadata": {},
   "source": [
    "# AutoImputation\n",
    "\n",
    "This notebook demonstrates the functionality of the `autoimpute` module, which provides an automated approach to selecting and applying optimal imputation methods for missing data. Rather than manually testing different approaches, AutoImpute evaluates multiple methods (tuning their hyperparameters to the specific data set), identifies which performs best for your specific data, and applies it to generate high-quality imputations."
   ]
  },
  {
   "cell_type": "code",
   "execution_count": null,
   "metadata": {},
   "outputs": [],
   "source": [
    "import pandas as pd\n",
    "import numpy as np\n",
    "import plotly.graph_objects as go\n",
    "from rpy2.robjects import pandas2ri\n",
    "from sklearn.datasets import load_diabetes\n",
    "import warnings\n",
    "\n",
    "# Set pandas display options to limit table width\n",
    "pd.set_option(\"display.width\", 600)\n",
    "pd.set_option(\"display.max_columns\", 10)\n",
    "pd.set_option(\"display.expand_frame_repr\", False)\n",
    "\n",
    "from microimpute.comparisons.autoimpute import autoimpute\n",
    "from microimpute.visualizations.plotting import method_comparison_results"
   ]
  },
  {
   "cell_type": "markdown",
   "metadata": {},
   "source": [
    "## Data preparation\n",
    "\n",
    "This demonstration uses the diabetes dataset from scikit-learn. In real-world imputation scenarios, you would typically have a \"donor\" dataset with complete information for both predictor and target variables, and a \"receiver\" dataset that lacks some target variables that need to be imputed."
   ]
  },
  {
   "cell_type": "code",
   "execution_count": 3,
   "metadata": {},
   "outputs": [
    {
     "data": {
      "text/html": [
       "<div>\n",
       "<style scoped>\n",
       "    .dataframe tbody tr th:only-of-type {\n",
       "        vertical-align: middle;\n",
       "    }\n",
       "\n",
       "    .dataframe tbody tr th {\n",
       "        vertical-align: top;\n",
       "    }\n",
       "\n",
       "    .dataframe thead th {\n",
       "        text-align: right;\n",
       "    }\n",
       "</style>\n",
       "<table border=\"1\" class=\"dataframe\">\n",
       "  <thead>\n",
       "    <tr style=\"text-align: right;\">\n",
       "      <th></th>\n",
       "      <th>age</th>\n",
       "      <th>sex</th>\n",
       "      <th>bmi</th>\n",
       "      <th>bp</th>\n",
       "      <th>s1</th>\n",
       "      <th>s2</th>\n",
       "      <th>s3</th>\n",
       "      <th>s4</th>\n",
       "      <th>s5</th>\n",
       "      <th>s6</th>\n",
       "    </tr>\n",
       "  </thead>\n",
       "  <tbody>\n",
       "    <tr>\n",
       "      <th>0</th>\n",
       "      <td>0.038076</td>\n",
       "      <td>0.050680</td>\n",
       "      <td>0.061696</td>\n",
       "      <td>0.021872</td>\n",
       "      <td>-0.044223</td>\n",
       "      <td>-0.034821</td>\n",
       "      <td>-0.043401</td>\n",
       "      <td>-0.002592</td>\n",
       "      <td>0.019907</td>\n",
       "      <td>-0.017646</td>\n",
       "    </tr>\n",
       "    <tr>\n",
       "      <th>1</th>\n",
       "      <td>-0.001882</td>\n",
       "      <td>-0.044642</td>\n",
       "      <td>-0.051474</td>\n",
       "      <td>-0.026328</td>\n",
       "      <td>-0.008449</td>\n",
       "      <td>-0.019163</td>\n",
       "      <td>0.074412</td>\n",
       "      <td>-0.039493</td>\n",
       "      <td>-0.068332</td>\n",
       "      <td>-0.092204</td>\n",
       "    </tr>\n",
       "    <tr>\n",
       "      <th>2</th>\n",
       "      <td>0.085299</td>\n",
       "      <td>0.050680</td>\n",
       "      <td>0.044451</td>\n",
       "      <td>-0.005670</td>\n",
       "      <td>-0.045599</td>\n",
       "      <td>-0.034194</td>\n",
       "      <td>-0.032356</td>\n",
       "      <td>-0.002592</td>\n",
       "      <td>0.002861</td>\n",
       "      <td>-0.025930</td>\n",
       "    </tr>\n",
       "    <tr>\n",
       "      <th>3</th>\n",
       "      <td>-0.089063</td>\n",
       "      <td>-0.044642</td>\n",
       "      <td>-0.011595</td>\n",
       "      <td>-0.036656</td>\n",
       "      <td>0.012191</td>\n",
       "      <td>0.024991</td>\n",
       "      <td>-0.036038</td>\n",
       "      <td>0.034309</td>\n",
       "      <td>0.022688</td>\n",
       "      <td>-0.009362</td>\n",
       "    </tr>\n",
       "    <tr>\n",
       "      <th>4</th>\n",
       "      <td>0.005383</td>\n",
       "      <td>-0.044642</td>\n",
       "      <td>-0.036385</td>\n",
       "      <td>0.021872</td>\n",
       "      <td>0.003935</td>\n",
       "      <td>0.015596</td>\n",
       "      <td>0.008142</td>\n",
       "      <td>-0.002592</td>\n",
       "      <td>-0.031988</td>\n",
       "      <td>-0.046641</td>\n",
       "    </tr>\n",
       "  </tbody>\n",
       "</table>\n",
       "</div>"
      ],
      "text/plain": [
       "        age       sex       bmi        bp        s1        s2        s3        s4        s5        s6\n",
       "0  0.038076  0.050680  0.061696  0.021872 -0.044223 -0.034821 -0.043401 -0.002592  0.019907 -0.017646\n",
       "1 -0.001882 -0.044642 -0.051474 -0.026328 -0.008449 -0.019163  0.074412 -0.039493 -0.068332 -0.092204\n",
       "2  0.085299  0.050680  0.044451 -0.005670 -0.045599 -0.034194 -0.032356 -0.002592  0.002861 -0.025930\n",
       "3 -0.089063 -0.044642 -0.011595 -0.036656  0.012191  0.024991 -0.036038  0.034309  0.022688 -0.009362\n",
       "4  0.005383 -0.044642 -0.036385  0.021872  0.003935  0.015596  0.008142 -0.002592 -0.031988 -0.046641"
      ]
     },
     "execution_count": 3,
     "metadata": {},
     "output_type": "execute_result"
    }
   ],
   "source": [
    "# Load the diabetes dataset\n",
    "diabetes = load_diabetes()\n",
    "diabetes_data = pd.DataFrame(diabetes.data, columns=diabetes.feature_names)\n",
    "\n",
    "# Display the first few rows to understand the data structure\n",
    "diabetes_data.head()"
   ]
  },
  {
   "cell_type": "markdown",
   "metadata": {},
   "source": [
    "For this demonstration, the diabetes dataset is split into donor and receiver portions. Part of the data is treated as the donor dataset with complete information, and another part as the receiver dataset with some variables that need imputation."
   ]
  },
  {
   "cell_type": "code",
   "execution_count": 4,
   "metadata": {},
   "outputs": [
    {
     "name": "stdout",
     "output_type": "stream",
     "text": [
      "Donor data shape: (309, 10)\n",
      "Receiver data shape: (133, 8)\n",
      "Predictors: ['age', 'sex', 'bmi', 'bp']\n",
      "Variables to impute: ['s1', 's4']\n"
     ]
    }
   ],
   "source": [
    "# Split the data into donor and receiver portions\n",
    "donor_indices = np.random.choice(\n",
    "    len(diabetes_data), size=int(0.7 * len(diabetes_data)), replace=False\n",
    ")\n",
    "receiver_indices = np.array(\n",
    "    [i for i in range(len(diabetes_data)) if i not in donor_indices]\n",
    ")\n",
    "\n",
    "donor_data = diabetes_data.iloc[donor_indices].reset_index(drop=True)\n",
    "receiver_data = diabetes_data.iloc[receiver_indices].reset_index(drop=True)\n",
    "\n",
    "# Define which variables we'll use as predictors and which we want to impute\n",
    "predictors = [\"age\", \"sex\", \"bmi\", \"bp\"]\n",
    "imputed_variables = [\"s1\", \"s4\"]\n",
    "\n",
    "# For demonstration purposes, we'll remove the variables we want to impute from the receiver dataset\n",
    "receiver_data_without_targets = receiver_data.drop(columns=imputed_variables)\n",
    "\n",
    "print(f\"Donor data shape: {donor_data.shape}\")\n",
    "print(f\"Receiver data shape: {receiver_data_without_targets.shape}\")\n",
    "print(f\"Predictors: {predictors}\")\n",
    "print(f\"Variables to impute: {imputed_variables}\")"
   ]
  },
  {
   "cell_type": "markdown",
   "metadata": {},
   "source": [
    "## Running AutoImpute\n",
    "\n",
    "Use the `autoimpute` function to automatically evaluate different imputation methods, select the best one, and generate imputations. The function handles all the complexity of model evaluation, selection, and application in a single call."
   ]
  },
  {
   "cell_type": "code",
   "execution_count": 5,
   "metadata": {},
   "outputs": [
    {
     "name": "stdout",
     "output_type": "stream",
     "text": [
      "Shape of receiver data before imputation: (133, 8) \n",
      "Shape of receiver data after imputation: (133, 10)\n"
     ]
    }
   ],
   "source": [
    "warnings.filterwarnings(\"ignore\")\n",
    "\n",
    "# Run the autoimpute process\n",
    "imputations, imputed_data, fitted_model, method_results_df = autoimpute(\n",
    "    donor_data=donor_data,\n",
    "    receiver_data=receiver_data_without_targets,\n",
    "    predictors=predictors,\n",
    "    imputed_variables=imputed_variables,\n",
    "    tune_hyperparameters=True,  # enable automated hyperparameter tuning\n",
    "    k_folds=5,  # Number of cross-validation folds\n",
    ")\n",
    "\n",
    "print(\n",
    "    f\"Shape of receiver data before imputation: {receiver_data_without_targets.shape} \\nShape of receiver data after imputation: {imputed_data.shape}\"\n",
    ")"
   ]
  },
  {
   "cell_type": "markdown",
   "metadata": {},
   "source": [
    "## Understanding the results\n",
    "\n",
    "The `autoimpute` function returns four key objects that provide comprehensive information about the imputation process:\n",
    "\n",
    "- `imputations`: A dictionary where keys are quantiles used for imputation and values are DataFrames containing the imputed values at each quantile\n",
    "- `imputed_data`: The receiver dataset with imputed values integrated into it\n",
    "- `fitted_model`: The best-performing imputation model, already fitted on the donor data\n",
    "- `method_results_df`: A DataFrame with detailed performance metrics for all evaluated imputation methods"
   ]
  },
  {
   "cell_type": "code",
   "execution_count": 6,
   "metadata": {},
   "outputs": [
    {
     "name": "stdout",
     "output_type": "stream",
     "text": [
      "Cross-validation results for different imputation methods:\n"
     ]
    },
    {
     "data": {
      "text/html": [
       "<div>\n",
       "<style scoped>\n",
       "    .dataframe tbody tr th:only-of-type {\n",
       "        vertical-align: middle;\n",
       "    }\n",
       "\n",
       "    .dataframe tbody tr th {\n",
       "        vertical-align: top;\n",
       "    }\n",
       "\n",
       "    .dataframe thead th {\n",
       "        text-align: right;\n",
       "    }\n",
       "</style>\n",
       "<table border=\"1\" class=\"dataframe\">\n",
       "  <thead>\n",
       "    <tr style=\"text-align: right;\">\n",
       "      <th></th>\n",
       "      <th>0.05</th>\n",
       "      <th>0.1</th>\n",
       "      <th>0.15</th>\n",
       "      <th>0.2</th>\n",
       "      <th>0.25</th>\n",
       "      <th>...</th>\n",
       "      <th>0.8</th>\n",
       "      <th>0.85</th>\n",
       "      <th>0.9</th>\n",
       "      <th>0.95</th>\n",
       "      <th>mean_loss</th>\n",
       "    </tr>\n",
       "  </thead>\n",
       "  <tbody>\n",
       "    <tr>\n",
       "      <th>QRF</th>\n",
       "      <td>0.089558</td>\n",
       "      <td>0.167263</td>\n",
       "      <td>0.243795</td>\n",
       "      <td>0.323425</td>\n",
       "      <td>0.382373</td>\n",
       "      <td>...</td>\n",
       "      <td>0.305756</td>\n",
       "      <td>0.278919</td>\n",
       "      <td>0.218997</td>\n",
       "      <td>0.115879</td>\n",
       "      <td>0.342588</td>\n",
       "    </tr>\n",
       "    <tr>\n",
       "      <th>OLS</th>\n",
       "      <td>0.083494</td>\n",
       "      <td>0.139409</td>\n",
       "      <td>0.187492</td>\n",
       "      <td>0.231217</td>\n",
       "      <td>0.266729</td>\n",
       "      <td>...</td>\n",
       "      <td>0.272594</td>\n",
       "      <td>0.232734</td>\n",
       "      <td>0.179963</td>\n",
       "      <td>0.111124</td>\n",
       "      <td>0.264412</td>\n",
       "    </tr>\n",
       "    <tr>\n",
       "      <th>QuantReg</th>\n",
       "      <td>0.080571</td>\n",
       "      <td>0.135283</td>\n",
       "      <td>0.185165</td>\n",
       "      <td>0.227530</td>\n",
       "      <td>0.263250</td>\n",
       "      <td>...</td>\n",
       "      <td>0.273653</td>\n",
       "      <td>0.233195</td>\n",
       "      <td>0.182393</td>\n",
       "      <td>0.110649</td>\n",
       "      <td>0.264285</td>\n",
       "    </tr>\n",
       "    <tr>\n",
       "      <th>Matching</th>\n",
       "      <td>0.552862</td>\n",
       "      <td>0.550767</td>\n",
       "      <td>0.548672</td>\n",
       "      <td>0.546577</td>\n",
       "      <td>0.544482</td>\n",
       "      <td>...</td>\n",
       "      <td>0.521435</td>\n",
       "      <td>0.519340</td>\n",
       "      <td>0.517245</td>\n",
       "      <td>0.515149</td>\n",
       "      <td>0.534006</td>\n",
       "    </tr>\n",
       "  </tbody>\n",
       "</table>\n",
       "<p>4 rows × 20 columns</p>\n",
       "</div>"
      ],
      "text/plain": [
       "              0.05       0.1      0.15       0.2      0.25  ...       0.8      0.85       0.9      0.95  mean_loss\n",
       "QRF       0.089558  0.167263  0.243795  0.323425  0.382373  ...  0.305756  0.278919  0.218997  0.115879   0.342588\n",
       "OLS       0.083494  0.139409  0.187492  0.231217  0.266729  ...  0.272594  0.232734  0.179963  0.111124   0.264412\n",
       "QuantReg  0.080571  0.135283  0.185165  0.227530  0.263250  ...  0.273653  0.233195  0.182393  0.110649   0.264285\n",
       "Matching  0.552862  0.550767  0.548672  0.546577  0.544482  ...  0.521435  0.519340  0.517245  0.515149   0.534006\n",
       "\n",
       "[4 rows x 20 columns]"
      ]
     },
     "execution_count": 6,
     "metadata": {},
     "output_type": "execute_result"
    }
   ],
   "source": [
    "# Examine the comparative performance of different imputation methods\n",
    "print(\"Cross-validation results for different imputation methods:\")\n",
    "method_results_df"
   ]
  },
  {
   "cell_type": "markdown",
   "metadata": {},
   "source": [
    "The table above provides a comprehensive view of how each imputation method performs across different quantiles. The 'mean_loss' column shows the average quantile loss across all quantiles for each method. Lower values indicate better performance, and AutoImpute automatically selects the method with the lowest average loss."
   ]
  },
  {
   "cell_type": "code",
   "execution_count": 7,
   "metadata": {},
   "outputs": [
    {
     "name": "stdout",
     "output_type": "stream",
     "text": [
      "Best performing method: QuantReg\n",
      "Average loss: 0.2643\n"
     ]
    }
   ],
   "source": [
    "# Identify which method was selected as the best performer\n",
    "best_method = method_results_df[\"mean_loss\"].idxmin()\n",
    "print(f\"Best performing method: {best_method}\")\n",
    "print(f\"Average loss: {method_results_df.loc[best_method, 'mean_loss']:.4f}\")"
   ]
  },
  {
   "cell_type": "markdown",
   "metadata": {},
   "source": [
    "## Visualizing method comparison\n",
    "\n",
    "Visualize how different methods perform across quantiles provides insight into which methods are most appropriate for different parts of the distribution."
   ]
  },
  {
   "cell_type": "code",
   "execution_count": 8,
   "metadata": {},
   "outputs": [
    {
     "data": {
      "application/vnd.plotly.v1+json": {
       "config": {
        "plotlyServerURL": "https://plot.ly"
       },
       "data": [
        {
         "alignmentgroup": "True",
         "hovertemplate": "Method=QRF<br>Quantiles=%{x}<br>Test Test Quantile Loss=%{y}<extra></extra>",
         "legendgroup": "QRF",
         "marker": {
          "color": "#636efa",
          "pattern": {
           "shape": ""
          }
         },
         "name": "QRF",
         "offsetgroup": "QRF",
         "orientation": "v",
         "showlegend": true,
         "textposition": "auto",
         "type": "bar",
         "x": [
          "0.05",
          "0.1",
          "0.15",
          "0.2",
          "0.25",
          "0.3",
          "0.35",
          "0.4",
          "0.45",
          "0.5",
          "0.55",
          "0.6",
          "0.65",
          "0.7",
          "0.75",
          "0.8",
          "0.85",
          "0.9",
          "0.95"
         ],
         "xaxis": "x",
         "y": [
          0.0895575715115384,
          0.16726308166780263,
          0.24379499991050899,
          0.3234250478091993,
          0.38237278675447106,
          0.43225034637667487,
          0.46976786473321575,
          0.5108832013279738,
          0.49395398896583875,
          0.47378229559158963,
          0.45072346035820365,
          0.4272330788083279,
          0.40247591015815987,
          0.37105728766096246,
          0.35107622353981355,
          0.30575586903161256,
          0.2789187916681078,
          0.21899689775146775,
          0.11587901557611029
         ],
         "yaxis": "y"
        },
        {
         "alignmentgroup": "True",
         "hovertemplate": "Method=OLS<br>Quantiles=%{x}<br>Test Test Quantile Loss=%{y}<extra></extra>",
         "legendgroup": "OLS",
         "marker": {
          "color": "#EF553B",
          "pattern": {
           "shape": ""
          }
         },
         "name": "OLS",
         "offsetgroup": "OLS",
         "orientation": "v",
         "showlegend": true,
         "textposition": "auto",
         "type": "bar",
         "x": [
          "0.05",
          "0.1",
          "0.15",
          "0.2",
          "0.25",
          "0.3",
          "0.35",
          "0.4",
          "0.45",
          "0.5",
          "0.55",
          "0.6",
          "0.65",
          "0.7",
          "0.75",
          "0.8",
          "0.85",
          "0.9",
          "0.95"
         ],
         "xaxis": "x",
         "y": [
          0.08349360982579804,
          0.1394087974906548,
          0.18749207812787166,
          0.23121732689938312,
          0.26672874691364634,
          0.2949623835048094,
          0.31792281926426014,
          0.3340794834345214,
          0.344822665107343,
          0.35183944116258564,
          0.3541924995819429,
          0.35028445231641464,
          0.34119545399629414,
          0.3261082720332597,
          0.30365957264829596,
          0.2725942029776412,
          0.23273441440049955,
          0.17996268491432182,
          0.1111239707030115
         ],
         "yaxis": "y"
        },
        {
         "alignmentgroup": "True",
         "hovertemplate": "Method=QuantReg<br>Quantiles=%{x}<br>Test Test Quantile Loss=%{y}<extra></extra>",
         "legendgroup": "QuantReg",
         "marker": {
          "color": "#00cc96",
          "pattern": {
           "shape": ""
          }
         },
         "name": "QuantReg",
         "offsetgroup": "QuantReg",
         "orientation": "v",
         "showlegend": true,
         "textposition": "auto",
         "type": "bar",
         "x": [
          "0.05",
          "0.1",
          "0.15",
          "0.2",
          "0.25",
          "0.3",
          "0.35",
          "0.4",
          "0.45",
          "0.5",
          "0.55",
          "0.6",
          "0.65",
          "0.7",
          "0.75",
          "0.8",
          "0.85",
          "0.9",
          "0.95"
         ],
         "xaxis": "x",
         "y": [
          0.08057116777779033,
          0.13528344433335882,
          0.18516517026540535,
          0.2275300976308202,
          0.2632499352521906,
          0.29655274731808917,
          0.32142003038284256,
          0.33846173919648037,
          0.3467967327537306,
          0.3506561221819677,
          0.35431658956789175,
          0.3508227843738922,
          0.3397320780935723,
          0.3264909644602942,
          0.3044778688465958,
          0.27365273895463804,
          0.23319471942387276,
          0.1823928824584891,
          0.11064870026244547
         ],
         "yaxis": "y"
        },
        {
         "alignmentgroup": "True",
         "hovertemplate": "Method=Matching<br>Quantiles=%{x}<br>Test Test Quantile Loss=%{y}<extra></extra>",
         "legendgroup": "Matching",
         "marker": {
          "color": "#ab63fa",
          "pattern": {
           "shape": ""
          }
         },
         "name": "Matching",
         "offsetgroup": "Matching",
         "orientation": "v",
         "showlegend": true,
         "textposition": "auto",
         "type": "bar",
         "x": [
          "0.05",
          "0.1",
          "0.15",
          "0.2",
          "0.25",
          "0.3",
          "0.35",
          "0.4",
          "0.45",
          "0.5",
          "0.55",
          "0.6",
          "0.65",
          "0.7",
          "0.75",
          "0.8",
          "0.85",
          "0.9",
          "0.95"
         ],
         "xaxis": "x",
         "y": [
          0.5528622420016405,
          0.5507670813152913,
          0.5486719206289423,
          0.5465767599425932,
          0.5444815992562443,
          0.5423864385698952,
          0.5402912778835463,
          0.5381961171971973,
          0.5361009565108482,
          0.5340057958244991,
          0.5319106351381502,
          0.5298154744518011,
          0.527720313765452,
          0.5256251530791031,
          0.5235299923927539,
          0.5214348317064049,
          0.5193396710200558,
          0.5172445103337069,
          0.5151493496473577
         ],
         "yaxis": "y"
        }
       ],
       "layout": {
        "barmode": "group",
        "height": 600,
        "legend": {
         "title": {
          "text": "Method"
         },
         "tracegroupgap": 0
        },
        "shapes": [
         {
          "line": {
           "color": "#636EFA",
           "dash": "dot",
           "width": 2
          },
          "name": "QRF Mean",
          "type": "line",
          "x0": -0.5,
          "x1": 18.5,
          "y0": 0.34258777469481994,
          "y1": 0.34258777469481994
         },
         {
          "line": {
           "color": "#EF553B",
           "dash": "dot",
           "width": 2
          },
          "name": "OLS Mean",
          "type": "line",
          "x0": -0.5,
          "x1": 18.5,
          "y0": 0.2644117302790818,
          "y1": 0.2644117302790818
         },
         {
          "line": {
           "color": "#00CC96",
           "dash": "dot",
           "width": 2
          },
          "name": "QuantReg Mean",
          "type": "line",
          "x0": -0.5,
          "x1": 18.5,
          "y0": 0.2642850796597035,
          "y1": 0.2642850796597035
         },
         {
          "line": {
           "color": "#AB63FA",
           "dash": "dot",
           "width": 2
          },
          "name": "Matching Mean",
          "type": "line",
          "x0": -0.5,
          "x1": 18.5,
          "y0": 0.5340057958244991,
          "y1": 0.5340057958244991
         }
        ],
        "template": {
         "data": {
          "bar": [
           {
            "error_x": {
             "color": "#2a3f5f"
            },
            "error_y": {
             "color": "#2a3f5f"
            },
            "marker": {
             "line": {
              "color": "#E5ECF6",
              "width": 0.5
             },
             "pattern": {
              "fillmode": "overlay",
              "size": 10,
              "solidity": 0.2
             }
            },
            "type": "bar"
           }
          ],
          "barpolar": [
           {
            "marker": {
             "line": {
              "color": "#E5ECF6",
              "width": 0.5
             },
             "pattern": {
              "fillmode": "overlay",
              "size": 10,
              "solidity": 0.2
             }
            },
            "type": "barpolar"
           }
          ],
          "carpet": [
           {
            "aaxis": {
             "endlinecolor": "#2a3f5f",
             "gridcolor": "white",
             "linecolor": "white",
             "minorgridcolor": "white",
             "startlinecolor": "#2a3f5f"
            },
            "baxis": {
             "endlinecolor": "#2a3f5f",
             "gridcolor": "white",
             "linecolor": "white",
             "minorgridcolor": "white",
             "startlinecolor": "#2a3f5f"
            },
            "type": "carpet"
           }
          ],
          "choropleth": [
           {
            "colorbar": {
             "outlinewidth": 0,
             "ticks": ""
            },
            "type": "choropleth"
           }
          ],
          "contour": [
           {
            "colorbar": {
             "outlinewidth": 0,
             "ticks": ""
            },
            "colorscale": [
             [
              0,
              "#0d0887"
             ],
             [
              0.1111111111111111,
              "#46039f"
             ],
             [
              0.2222222222222222,
              "#7201a8"
             ],
             [
              0.3333333333333333,
              "#9c179e"
             ],
             [
              0.4444444444444444,
              "#bd3786"
             ],
             [
              0.5555555555555556,
              "#d8576b"
             ],
             [
              0.6666666666666666,
              "#ed7953"
             ],
             [
              0.7777777777777778,
              "#fb9f3a"
             ],
             [
              0.8888888888888888,
              "#fdca26"
             ],
             [
              1,
              "#f0f921"
             ]
            ],
            "type": "contour"
           }
          ],
          "contourcarpet": [
           {
            "colorbar": {
             "outlinewidth": 0,
             "ticks": ""
            },
            "type": "contourcarpet"
           }
          ],
          "heatmap": [
           {
            "colorbar": {
             "outlinewidth": 0,
             "ticks": ""
            },
            "colorscale": [
             [
              0,
              "#0d0887"
             ],
             [
              0.1111111111111111,
              "#46039f"
             ],
             [
              0.2222222222222222,
              "#7201a8"
             ],
             [
              0.3333333333333333,
              "#9c179e"
             ],
             [
              0.4444444444444444,
              "#bd3786"
             ],
             [
              0.5555555555555556,
              "#d8576b"
             ],
             [
              0.6666666666666666,
              "#ed7953"
             ],
             [
              0.7777777777777778,
              "#fb9f3a"
             ],
             [
              0.8888888888888888,
              "#fdca26"
             ],
             [
              1,
              "#f0f921"
             ]
            ],
            "type": "heatmap"
           }
          ],
          "heatmapgl": [
           {
            "colorbar": {
             "outlinewidth": 0,
             "ticks": ""
            },
            "colorscale": [
             [
              0,
              "#0d0887"
             ],
             [
              0.1111111111111111,
              "#46039f"
             ],
             [
              0.2222222222222222,
              "#7201a8"
             ],
             [
              0.3333333333333333,
              "#9c179e"
             ],
             [
              0.4444444444444444,
              "#bd3786"
             ],
             [
              0.5555555555555556,
              "#d8576b"
             ],
             [
              0.6666666666666666,
              "#ed7953"
             ],
             [
              0.7777777777777778,
              "#fb9f3a"
             ],
             [
              0.8888888888888888,
              "#fdca26"
             ],
             [
              1,
              "#f0f921"
             ]
            ],
            "type": "heatmapgl"
           }
          ],
          "histogram": [
           {
            "marker": {
             "pattern": {
              "fillmode": "overlay",
              "size": 10,
              "solidity": 0.2
             }
            },
            "type": "histogram"
           }
          ],
          "histogram2d": [
           {
            "colorbar": {
             "outlinewidth": 0,
             "ticks": ""
            },
            "colorscale": [
             [
              0,
              "#0d0887"
             ],
             [
              0.1111111111111111,
              "#46039f"
             ],
             [
              0.2222222222222222,
              "#7201a8"
             ],
             [
              0.3333333333333333,
              "#9c179e"
             ],
             [
              0.4444444444444444,
              "#bd3786"
             ],
             [
              0.5555555555555556,
              "#d8576b"
             ],
             [
              0.6666666666666666,
              "#ed7953"
             ],
             [
              0.7777777777777778,
              "#fb9f3a"
             ],
             [
              0.8888888888888888,
              "#fdca26"
             ],
             [
              1,
              "#f0f921"
             ]
            ],
            "type": "histogram2d"
           }
          ],
          "histogram2dcontour": [
           {
            "colorbar": {
             "outlinewidth": 0,
             "ticks": ""
            },
            "colorscale": [
             [
              0,
              "#0d0887"
             ],
             [
              0.1111111111111111,
              "#46039f"
             ],
             [
              0.2222222222222222,
              "#7201a8"
             ],
             [
              0.3333333333333333,
              "#9c179e"
             ],
             [
              0.4444444444444444,
              "#bd3786"
             ],
             [
              0.5555555555555556,
              "#d8576b"
             ],
             [
              0.6666666666666666,
              "#ed7953"
             ],
             [
              0.7777777777777778,
              "#fb9f3a"
             ],
             [
              0.8888888888888888,
              "#fdca26"
             ],
             [
              1,
              "#f0f921"
             ]
            ],
            "type": "histogram2dcontour"
           }
          ],
          "mesh3d": [
           {
            "colorbar": {
             "outlinewidth": 0,
             "ticks": ""
            },
            "type": "mesh3d"
           }
          ],
          "parcoords": [
           {
            "line": {
             "colorbar": {
              "outlinewidth": 0,
              "ticks": ""
             }
            },
            "type": "parcoords"
           }
          ],
          "pie": [
           {
            "automargin": true,
            "type": "pie"
           }
          ],
          "scatter": [
           {
            "fillpattern": {
             "fillmode": "overlay",
             "size": 10,
             "solidity": 0.2
            },
            "type": "scatter"
           }
          ],
          "scatter3d": [
           {
            "line": {
             "colorbar": {
              "outlinewidth": 0,
              "ticks": ""
             }
            },
            "marker": {
             "colorbar": {
              "outlinewidth": 0,
              "ticks": ""
             }
            },
            "type": "scatter3d"
           }
          ],
          "scattercarpet": [
           {
            "marker": {
             "colorbar": {
              "outlinewidth": 0,
              "ticks": ""
             }
            },
            "type": "scattercarpet"
           }
          ],
          "scattergeo": [
           {
            "marker": {
             "colorbar": {
              "outlinewidth": 0,
              "ticks": ""
             }
            },
            "type": "scattergeo"
           }
          ],
          "scattergl": [
           {
            "marker": {
             "colorbar": {
              "outlinewidth": 0,
              "ticks": ""
             }
            },
            "type": "scattergl"
           }
          ],
          "scattermapbox": [
           {
            "marker": {
             "colorbar": {
              "outlinewidth": 0,
              "ticks": ""
             }
            },
            "type": "scattermapbox"
           }
          ],
          "scatterpolar": [
           {
            "marker": {
             "colorbar": {
              "outlinewidth": 0,
              "ticks": ""
             }
            },
            "type": "scatterpolar"
           }
          ],
          "scatterpolargl": [
           {
            "marker": {
             "colorbar": {
              "outlinewidth": 0,
              "ticks": ""
             }
            },
            "type": "scatterpolargl"
           }
          ],
          "scatterternary": [
           {
            "marker": {
             "colorbar": {
              "outlinewidth": 0,
              "ticks": ""
             }
            },
            "type": "scatterternary"
           }
          ],
          "surface": [
           {
            "colorbar": {
             "outlinewidth": 0,
             "ticks": ""
            },
            "colorscale": [
             [
              0,
              "#0d0887"
             ],
             [
              0.1111111111111111,
              "#46039f"
             ],
             [
              0.2222222222222222,
              "#7201a8"
             ],
             [
              0.3333333333333333,
              "#9c179e"
             ],
             [
              0.4444444444444444,
              "#bd3786"
             ],
             [
              0.5555555555555556,
              "#d8576b"
             ],
             [
              0.6666666666666666,
              "#ed7953"
             ],
             [
              0.7777777777777778,
              "#fb9f3a"
             ],
             [
              0.8888888888888888,
              "#fdca26"
             ],
             [
              1,
              "#f0f921"
             ]
            ],
            "type": "surface"
           }
          ],
          "table": [
           {
            "cells": {
             "fill": {
              "color": "#EBF0F8"
             },
             "line": {
              "color": "white"
             }
            },
            "header": {
             "fill": {
              "color": "#C8D4E3"
             },
             "line": {
              "color": "white"
             }
            },
            "type": "table"
           }
          ]
         },
         "layout": {
          "annotationdefaults": {
           "arrowcolor": "#2a3f5f",
           "arrowhead": 0,
           "arrowwidth": 1
          },
          "autotypenumbers": "strict",
          "coloraxis": {
           "colorbar": {
            "outlinewidth": 0,
            "ticks": ""
           }
          },
          "colorscale": {
           "diverging": [
            [
             0,
             "#8e0152"
            ],
            [
             0.1,
             "#c51b7d"
            ],
            [
             0.2,
             "#de77ae"
            ],
            [
             0.3,
             "#f1b6da"
            ],
            [
             0.4,
             "#fde0ef"
            ],
            [
             0.5,
             "#f7f7f7"
            ],
            [
             0.6,
             "#e6f5d0"
            ],
            [
             0.7,
             "#b8e186"
            ],
            [
             0.8,
             "#7fbc41"
            ],
            [
             0.9,
             "#4d9221"
            ],
            [
             1,
             "#276419"
            ]
           ],
           "sequential": [
            [
             0,
             "#0d0887"
            ],
            [
             0.1111111111111111,
             "#46039f"
            ],
            [
             0.2222222222222222,
             "#7201a8"
            ],
            [
             0.3333333333333333,
             "#9c179e"
            ],
            [
             0.4444444444444444,
             "#bd3786"
            ],
            [
             0.5555555555555556,
             "#d8576b"
            ],
            [
             0.6666666666666666,
             "#ed7953"
            ],
            [
             0.7777777777777778,
             "#fb9f3a"
            ],
            [
             0.8888888888888888,
             "#fdca26"
            ],
            [
             1,
             "#f0f921"
            ]
           ],
           "sequentialminus": [
            [
             0,
             "#0d0887"
            ],
            [
             0.1111111111111111,
             "#46039f"
            ],
            [
             0.2222222222222222,
             "#7201a8"
            ],
            [
             0.3333333333333333,
             "#9c179e"
            ],
            [
             0.4444444444444444,
             "#bd3786"
            ],
            [
             0.5555555555555556,
             "#d8576b"
            ],
            [
             0.6666666666666666,
             "#ed7953"
            ],
            [
             0.7777777777777778,
             "#fb9f3a"
            ],
            [
             0.8888888888888888,
             "#fdca26"
            ],
            [
             1,
             "#f0f921"
            ]
           ]
          },
          "colorway": [
           "#636efa",
           "#EF553B",
           "#00cc96",
           "#ab63fa",
           "#FFA15A",
           "#19d3f3",
           "#FF6692",
           "#B6E880",
           "#FF97FF",
           "#FECB52"
          ],
          "font": {
           "color": "#2a3f5f"
          },
          "geo": {
           "bgcolor": "white",
           "lakecolor": "white",
           "landcolor": "#E5ECF6",
           "showlakes": true,
           "showland": true,
           "subunitcolor": "white"
          },
          "hoverlabel": {
           "align": "left"
          },
          "hovermode": "closest",
          "mapbox": {
           "style": "light"
          },
          "paper_bgcolor": "white",
          "plot_bgcolor": "#E5ECF6",
          "polar": {
           "angularaxis": {
            "gridcolor": "white",
            "linecolor": "white",
            "ticks": ""
           },
           "bgcolor": "#E5ECF6",
           "radialaxis": {
            "gridcolor": "white",
            "linecolor": "white",
            "ticks": ""
           }
          },
          "scene": {
           "xaxis": {
            "backgroundcolor": "#E5ECF6",
            "gridcolor": "white",
            "gridwidth": 2,
            "linecolor": "white",
            "showbackground": true,
            "ticks": "",
            "zerolinecolor": "white"
           },
           "yaxis": {
            "backgroundcolor": "#E5ECF6",
            "gridcolor": "white",
            "gridwidth": 2,
            "linecolor": "white",
            "showbackground": true,
            "ticks": "",
            "zerolinecolor": "white"
           },
           "zaxis": {
            "backgroundcolor": "#E5ECF6",
            "gridcolor": "white",
            "gridwidth": 2,
            "linecolor": "white",
            "showbackground": true,
            "ticks": "",
            "zerolinecolor": "white"
           }
          },
          "shapedefaults": {
           "line": {
            "color": "#2a3f5f"
           }
          },
          "ternary": {
           "aaxis": {
            "gridcolor": "white",
            "linecolor": "white",
            "ticks": ""
           },
           "baxis": {
            "gridcolor": "white",
            "linecolor": "white",
            "ticks": ""
           },
           "bgcolor": "#E5ECF6",
           "caxis": {
            "gridcolor": "white",
            "linecolor": "white",
            "ticks": ""
           }
          },
          "title": {
           "x": 0.05
          },
          "xaxis": {
           "automargin": true,
           "gridcolor": "white",
           "linecolor": "white",
           "ticks": "",
           "title": {
            "standoff": 15
           },
           "zerolinecolor": "white",
           "zerolinewidth": 2
          },
          "yaxis": {
           "automargin": true,
           "gridcolor": "white",
           "linecolor": "white",
           "ticks": "",
           "title": {
            "standoff": 15
           },
           "zerolinecolor": "white",
           "zerolinewidth": 2
          }
         }
        },
        "title": {
         "font": {
          "size": 14
         },
         "text": "Autoimpute Method Comparison"
        },
        "width": 750,
        "xaxis": {
         "anchor": "y",
         "domain": [
          0,
          1
         ],
         "title": {
          "font": {
           "size": 12
          },
          "text": "Quantiles"
         }
        },
        "yaxis": {
         "anchor": "x",
         "domain": [
          0,
          1
         ],
         "gridcolor": "rgba(0,0,0,0.1)",
         "gridwidth": 1,
         "showgrid": true,
         "title": {
          "font": {
           "size": 12
          },
          "text": "Test Test Quantile Loss"
         }
        }
       }
      }
     },
     "metadata": {},
     "output_type": "display_data"
    }
   ],
   "source": [
    "# Extract the quantiles used in the evaluation\n",
    "quantiles = [q for q in method_results_df.columns if isinstance(q, float)]\n",
    "\n",
    "comparison_viz = method_comparison_results(\n",
    "    data=method_results_df,\n",
    "    metric_name=\"Test Quantile Loss\",\n",
    "    data_format=\"wide\",\n",
    ")\n",
    "fig = comparison_viz.plot(\n",
    "    title=\"Autoimpute Method Comparison\",\n",
    "    show_mean=True,\n",
    ")\n",
    "fig.show()"
   ]
  },
  {
   "cell_type": "markdown",
   "metadata": {},
   "source": [
    "The plot above illustrates how each imputation method performs across different quantiles of the distribution. Methods with consistently lower lines generally perform better overall."
   ]
  },
  {
   "cell_type": "code",
   "execution_count": 9,
   "metadata": {},
   "outputs": [
    {
     "data": {
      "text/html": [
       "<div>\n",
       "<style scoped>\n",
       "    .dataframe tbody tr th:only-of-type {\n",
       "        vertical-align: middle;\n",
       "    }\n",
       "\n",
       "    .dataframe tbody tr th {\n",
       "        vertical-align: top;\n",
       "    }\n",
       "\n",
       "    .dataframe thead th {\n",
       "        text-align: right;\n",
       "    }\n",
       "</style>\n",
       "<table border=\"1\" class=\"dataframe\">\n",
       "  <thead>\n",
       "    <tr style=\"text-align: right;\">\n",
       "      <th></th>\n",
       "      <th>Method</th>\n",
       "      <th>Mean Test Quantile Loss</th>\n",
       "      <th>Best Quantile</th>\n",
       "      <th>Best Test Quantile Loss</th>\n",
       "      <th>Worst Quantile</th>\n",
       "      <th>Worst Test Quantile Loss</th>\n",
       "    </tr>\n",
       "  </thead>\n",
       "  <tbody>\n",
       "    <tr>\n",
       "      <th>2</th>\n",
       "      <td>QuantReg</td>\n",
       "      <td>0.264285</td>\n",
       "      <td>0.05</td>\n",
       "      <td>0.080571</td>\n",
       "      <td>0.55</td>\n",
       "      <td>0.354317</td>\n",
       "    </tr>\n",
       "    <tr>\n",
       "      <th>1</th>\n",
       "      <td>OLS</td>\n",
       "      <td>0.264412</td>\n",
       "      <td>0.05</td>\n",
       "      <td>0.083494</td>\n",
       "      <td>0.55</td>\n",
       "      <td>0.354192</td>\n",
       "    </tr>\n",
       "    <tr>\n",
       "      <th>0</th>\n",
       "      <td>QRF</td>\n",
       "      <td>0.342588</td>\n",
       "      <td>0.05</td>\n",
       "      <td>0.089558</td>\n",
       "      <td>0.40</td>\n",
       "      <td>0.510883</td>\n",
       "    </tr>\n",
       "    <tr>\n",
       "      <th>3</th>\n",
       "      <td>Matching</td>\n",
       "      <td>0.534006</td>\n",
       "      <td>0.95</td>\n",
       "      <td>0.515149</td>\n",
       "      <td>0.05</td>\n",
       "      <td>0.552862</td>\n",
       "    </tr>\n",
       "  </tbody>\n",
       "</table>\n",
       "</div>"
      ],
      "text/plain": [
       "     Method  Mean Test Quantile Loss  Best Quantile  Best Test Quantile Loss  Worst Quantile  Worst Test Quantile Loss\n",
       "2  QuantReg                 0.264285           0.05                 0.080571            0.55                  0.354317\n",
       "1       OLS                 0.264412           0.05                 0.083494            0.55                  0.354192\n",
       "0       QRF                 0.342588           0.05                 0.089558            0.40                  0.510883\n",
       "3  Matching                 0.534006           0.95                 0.515149            0.05                  0.552862"
      ]
     },
     "execution_count": 9,
     "metadata": {},
     "output_type": "execute_result"
    }
   ],
   "source": [
    "comparison_viz.summary()"
   ]
  },
  {
   "cell_type": "markdown",
   "metadata": {},
   "source": [
    "By calling `summary` on the object returned by `method_comparison_results` function, you can get a summary of the imputation results, including the mean and standard deviation of the quantile loss for each method. This summary can help you understand the performance of different imputation methods in a more concise manner."
   ]
  },
  {
   "cell_type": "markdown",
   "metadata": {},
   "source": [
    "## Examining the imputed values\n",
    "\n",
    "Now let us assess the actual imputed values generated by the best-performing method."
   ]
  },
  {
   "cell_type": "code",
   "execution_count": 10,
   "metadata": {},
   "outputs": [
    {
     "name": "stdout",
     "output_type": "stream",
     "text": [
      "Median imputed values:\n"
     ]
    },
    {
     "data": {
      "text/html": [
       "<div>\n",
       "<style scoped>\n",
       "    .dataframe tbody tr th:only-of-type {\n",
       "        vertical-align: middle;\n",
       "    }\n",
       "\n",
       "    .dataframe tbody tr th {\n",
       "        vertical-align: top;\n",
       "    }\n",
       "\n",
       "    .dataframe thead th {\n",
       "        text-align: right;\n",
       "    }\n",
       "</style>\n",
       "<table border=\"1\" class=\"dataframe\">\n",
       "  <thead>\n",
       "    <tr style=\"text-align: right;\">\n",
       "      <th></th>\n",
       "      <th>s1</th>\n",
       "      <th>s4</th>\n",
       "    </tr>\n",
       "  </thead>\n",
       "  <tbody>\n",
       "    <tr>\n",
       "      <th>0</th>\n",
       "      <td>0.015816</td>\n",
       "      <td>0.036485</td>\n",
       "    </tr>\n",
       "    <tr>\n",
       "      <th>1</th>\n",
       "      <td>-0.027393</td>\n",
       "      <td>-0.049925</td>\n",
       "    </tr>\n",
       "    <tr>\n",
       "      <th>2</th>\n",
       "      <td>-0.002351</td>\n",
       "      <td>0.018329</td>\n",
       "    </tr>\n",
       "    <tr>\n",
       "      <th>3</th>\n",
       "      <td>-0.000406</td>\n",
       "      <td>0.012198</td>\n",
       "    </tr>\n",
       "    <tr>\n",
       "      <th>4</th>\n",
       "      <td>0.002832</td>\n",
       "      <td>0.007788</td>\n",
       "    </tr>\n",
       "  </tbody>\n",
       "</table>\n",
       "</div>"
      ],
      "text/plain": [
       "         s1        s4\n",
       "0  0.015816  0.036485\n",
       "1 -0.027393 -0.049925\n",
       "2 -0.002351  0.018329\n",
       "3 -0.000406  0.012198\n",
       "4  0.002832  0.007788"
      ]
     },
     "execution_count": 10,
     "metadata": {},
     "output_type": "execute_result"
    }
   ],
   "source": [
    "# Examine imputed values at the median (0.5 quantile)\n",
    "median_imputations = imputations[0.5]\n",
    "print(\"Median imputed values:\")\n",
    "median_imputations.head()"
   ]
  },
  {
   "cell_type": "code",
   "execution_count": 11,
   "metadata": {},
   "outputs": [
    {
     "name": "stdout",
     "output_type": "stream",
     "text": [
      "Receiver dataset with imputed values:\n"
     ]
    },
    {
     "data": {
      "text/html": [
       "<div>\n",
       "<style scoped>\n",
       "    .dataframe tbody tr th:only-of-type {\n",
       "        vertical-align: middle;\n",
       "    }\n",
       "\n",
       "    .dataframe tbody tr th {\n",
       "        vertical-align: top;\n",
       "    }\n",
       "\n",
       "    .dataframe thead th {\n",
       "        text-align: right;\n",
       "    }\n",
       "</style>\n",
       "<table border=\"1\" class=\"dataframe\">\n",
       "  <thead>\n",
       "    <tr style=\"text-align: right;\">\n",
       "      <th></th>\n",
       "      <th>age</th>\n",
       "      <th>sex</th>\n",
       "      <th>bmi</th>\n",
       "      <th>bp</th>\n",
       "      <th>s2</th>\n",
       "      <th>s3</th>\n",
       "      <th>s5</th>\n",
       "      <th>s6</th>\n",
       "      <th>s1</th>\n",
       "      <th>s4</th>\n",
       "    </tr>\n",
       "  </thead>\n",
       "  <tbody>\n",
       "    <tr>\n",
       "      <th>0</th>\n",
       "      <td>0.038076</td>\n",
       "      <td>0.050680</td>\n",
       "      <td>0.061696</td>\n",
       "      <td>0.021872</td>\n",
       "      <td>-0.034821</td>\n",
       "      <td>-0.043401</td>\n",
       "      <td>0.019907</td>\n",
       "      <td>-0.017646</td>\n",
       "      <td>0.015816</td>\n",
       "      <td>0.036485</td>\n",
       "    </tr>\n",
       "    <tr>\n",
       "      <th>1</th>\n",
       "      <td>-0.096328</td>\n",
       "      <td>-0.044642</td>\n",
       "      <td>-0.083808</td>\n",
       "      <td>0.008101</td>\n",
       "      <td>-0.090561</td>\n",
       "      <td>-0.013948</td>\n",
       "      <td>-0.062917</td>\n",
       "      <td>-0.034215</td>\n",
       "      <td>-0.027393</td>\n",
       "      <td>-0.049925</td>\n",
       "    </tr>\n",
       "    <tr>\n",
       "      <th>2</th>\n",
       "      <td>0.027178</td>\n",
       "      <td>0.050680</td>\n",
       "      <td>0.017506</td>\n",
       "      <td>-0.033213</td>\n",
       "      <td>0.045972</td>\n",
       "      <td>-0.065491</td>\n",
       "      <td>-0.096435</td>\n",
       "      <td>-0.059067</td>\n",
       "      <td>-0.002351</td>\n",
       "      <td>0.018329</td>\n",
       "    </tr>\n",
       "    <tr>\n",
       "      <th>3</th>\n",
       "      <td>0.005383</td>\n",
       "      <td>0.050680</td>\n",
       "      <td>-0.001895</td>\n",
       "      <td>0.008101</td>\n",
       "      <td>-0.015719</td>\n",
       "      <td>-0.002903</td>\n",
       "      <td>0.038394</td>\n",
       "      <td>-0.013504</td>\n",
       "      <td>-0.000406</td>\n",
       "      <td>0.012198</td>\n",
       "    </tr>\n",
       "    <tr>\n",
       "      <th>4</th>\n",
       "      <td>-0.052738</td>\n",
       "      <td>0.050680</td>\n",
       "      <td>-0.018062</td>\n",
       "      <td>0.080401</td>\n",
       "      <td>0.107662</td>\n",
       "      <td>-0.039719</td>\n",
       "      <td>0.036060</td>\n",
       "      <td>-0.042499</td>\n",
       "      <td>0.002832</td>\n",
       "      <td>0.007788</td>\n",
       "    </tr>\n",
       "  </tbody>\n",
       "</table>\n",
       "</div>"
      ],
      "text/plain": [
       "        age       sex       bmi        bp        s2        s3        s5        s6        s1        s4\n",
       "0  0.038076  0.050680  0.061696  0.021872 -0.034821 -0.043401  0.019907 -0.017646  0.015816  0.036485\n",
       "1 -0.096328 -0.044642 -0.083808  0.008101 -0.090561 -0.013948 -0.062917 -0.034215 -0.027393 -0.049925\n",
       "2  0.027178  0.050680  0.017506 -0.033213  0.045972 -0.065491 -0.096435 -0.059067 -0.002351  0.018329\n",
       "3  0.005383  0.050680 -0.001895  0.008101 -0.015719 -0.002903  0.038394 -0.013504 -0.000406  0.012198\n",
       "4 -0.052738  0.050680 -0.018062  0.080401  0.107662 -0.039719  0.036060 -0.042499  0.002832  0.007788"
      ]
     },
     "execution_count": 11,
     "metadata": {},
     "output_type": "execute_result"
    }
   ],
   "source": [
    "# Look at the full receiver dataset with imputed values integrated\n",
    "print(\"Receiver dataset with imputed values:\")\n",
    "imputed_data.head()"
   ]
  },
  {
   "cell_type": "markdown",
   "metadata": {},
   "source": [
    "## Evaluating imputation quality\n",
    "\n",
    "In this demonstration, since the receiver dataset was artificially created by removing variables from the original data, there exists the unique opportunity to evaluate the quality of our imputations by comparing them to the actual values."
   ]
  },
  {
   "cell_type": "code",
   "execution_count": 12,
   "metadata": {},
   "outputs": [
    {
     "data": {
      "application/vnd.plotly.v1+json": {
       "config": {
        "plotlyServerURL": "https://plot.ly"
       },
       "data": [
        {
         "marker": {
          "color": "blue",
          "size": 8
         },
         "mode": "markers",
         "name": "Actual Values",
         "type": "scatter",
         "x": [
          0,
          1,
          2,
          3,
          4,
          5,
          6,
          7,
          8,
          9,
          10,
          11,
          12,
          13,
          14,
          15,
          16,
          17,
          18,
          19,
          20,
          21,
          22,
          23,
          24,
          25,
          26,
          27,
          28,
          29,
          30,
          31,
          32,
          33,
          34,
          35,
          36,
          37,
          38,
          39,
          40,
          41,
          42,
          43,
          44,
          45,
          46,
          47,
          48,
          49,
          50,
          51,
          52,
          53,
          54,
          55,
          56,
          57,
          58,
          59,
          60,
          61,
          62,
          63,
          64,
          65,
          66,
          67,
          68,
          69,
          70,
          71,
          72,
          73,
          74,
          75,
          76,
          77,
          78,
          79,
          80,
          81,
          82,
          83,
          84,
          85,
          86,
          87,
          88,
          89,
          90,
          91,
          92,
          93,
          94,
          95,
          96,
          97,
          98,
          99,
          100,
          101,
          102,
          103,
          104,
          105,
          106,
          107,
          108,
          109,
          110,
          111,
          112,
          113,
          114,
          115,
          116,
          117,
          118,
          119,
          120,
          121,
          122,
          123,
          124,
          125,
          126,
          127,
          128,
          129,
          130,
          131,
          132
         ],
         "y": [
          -0.04422349842444599,
          -0.10338947132709418,
          -0.007072771253015731,
          -0.004320865536613489,
          0.08924392882106273,
          -0.037343734133440394,
          -0.0029449126784123676,
          -0.030463969842434782,
          -0.038719686991641515,
          -0.0249601584096303,
          0.0025588987543921156,
          -0.011200629827619093,
          -0.046975404140848234,
          -0.012576582685820214,
          0.01219056876179996,
          0.020446285911006685,
          -0.0318399227006359,
          0.01219056876179996,
          0.005310804470794357,
          -0.07587041416307178,
          -0.00019300696201012598,
          0.10300345740307394,
          0.010814615903598841,
          -0.030463969842434782,
          0.06310082451524143,
          -0.04559945128264711,
          -0.062110885581060565,
          0.005310804470794357,
          0.045213437358626866,
          0.02319819162740893,
          -0.037343734133440394,
          0.0080627101871966,
          0.04383748450042574,
          -0.034591828417038145,
          -0.05523112129005496,
          0.00943866304539772,
          0.0342058144930179,
          -0.0841261313122785,
          0.0342058144930179,
          0.020446285911006685,
          0.01219056876179996,
          0.001182945896190995,
          -0.02358420555142918,
          0.027326050202012293,
          -0.037343734133440394,
          -0.07587041416307178,
          0.03833367306762126,
          -0.07174255558846841,
          0.02319819162740893,
          0.045213437358626866,
          -0.07587041416307178,
          -0.0029449126784123676,
          -0.07999827273767514,
          0.06998058880624704,
          0.03282986163481677,
          -0.008448724111216851,
          -0.05523112129005496,
          -0.016704441260423575,
          0.024574144485610048,
          0.017694380194604446,
          0.04934129593323023,
          -0.04835135699904936,
          -0.0579830270064572,
          0.07961225881365488,
          0.014942474478202204,
          -0.08687803702868073,
          -0.04972730985725048,
          0.07961225881365488,
          -0.013952535544021335,
          0.04934129593323023,
          -0.007072771253015731,
          -0.007072771253015731,
          -0.013952535544021335,
          0.03558176735121902,
          0.016318427336403322,
          0.020446285911006685,
          0.04246153164222462,
          -0.037343734133440394,
          -0.04284754556624487,
          -0.02220825269322806,
          -0.05385516843185383,
          0.08786797596286161,
          -0.06623874415566393,
          0.12501870313429186,
          0.06172487165704031,
          -0.026336111267831423,
          -0.035967781275239266,
          -0.004320865536613489,
          0.027326050202012293,
          0.05759701308243695,
          0.024574144485610048,
          -0.07311850844666953,
          0.07961225881365488,
          0.045213437358626866,
          -0.009824676969417972,
          0.03145390877661565,
          0.001182945896190995,
          0.05484510736603471,
          0.024574144485610048,
          0.07273249452264928,
          -0.007072771253015731,
          -0.029088016984233665,
          0.09199583453746497,
          0.001182945896190995,
          0.07548440023905152,
          -0.007072771253015731,
          0.04934129593323023,
          0.01219056876179996,
          0.08924392882106273,
          -0.016704441260423575,
          -0.013952535544021335,
          -0.035967781275239266,
          -0.046975404140848234,
          -0.001568959820211247,
          -0.06348683843926169,
          0.014942474478202204,
          -0.060734932722859444,
          -0.04284754556624487,
          0.017694380194604446,
          -0.046975404140848234,
          0.016318427336403322,
          -0.005696818394814609,
          -0.033215875558837024,
          0.010814615903598841,
          0.09887559882847057,
          0.001182945896190995,
          0.07823630595545376,
          0.05759701308243695,
          0.02182223876920781,
          0.005310804470794357,
          -0.005696818394814609,
          0.04934129593323023,
          0.08374011738825825
         ]
        },
        {
         "marker": {
          "color": "red",
          "size": 8
         },
         "mode": "markers",
         "name": "Imputed Values",
         "type": "scatter",
         "x": [
          0,
          1,
          2,
          3,
          4,
          5,
          6,
          7,
          8,
          9,
          10,
          11,
          12,
          13,
          14,
          15,
          16,
          17,
          18,
          19,
          20,
          21,
          22,
          23,
          24,
          25,
          26,
          27,
          28,
          29,
          30,
          31,
          32,
          33,
          34,
          35,
          36,
          37,
          38,
          39,
          40,
          41,
          42,
          43,
          44,
          45,
          46,
          47,
          48,
          49,
          50,
          51,
          52,
          53,
          54,
          55,
          56,
          57,
          58,
          59,
          60,
          61,
          62,
          63,
          64,
          65,
          66,
          67,
          68,
          69,
          70,
          71,
          72,
          73,
          74,
          75,
          76,
          77,
          78,
          79,
          80,
          81,
          82,
          83,
          84,
          85,
          86,
          87,
          88,
          89,
          90,
          91,
          92,
          93,
          94,
          95,
          96,
          97,
          98,
          99,
          100,
          101,
          102,
          103,
          104,
          105,
          106,
          107,
          108,
          109,
          110,
          111,
          112,
          113,
          114,
          115,
          116,
          117,
          118,
          119,
          120,
          121,
          122,
          123,
          124,
          125,
          126,
          127,
          128,
          129,
          130,
          131,
          132
         ],
         "y": [
          0.015815565452004503,
          -0.02739320035606055,
          -0.002350686081503483,
          -0.0004058741619736996,
          0.002832223873826284,
          -0.017238254002879868,
          -0.017612064550510554,
          -0.01145205445994683,
          -0.0315520846012456,
          -0.01401643172652188,
          -0.01451508472943926,
          0.002258444680328749,
          -0.019233417851299447,
          -0.0071043195127367415,
          0.0059122494520167865,
          -0.005227403994157804,
          -0.008338080250126294,
          -0.0005705853177230117,
          -0.0009698879228618792,
          -0.009127598367134455,
          -0.01632013180778203,
          0.0033674895803005468,
          -0.009448477661330543,
          -0.013106130470182439,
          -0.000012362392051001609,
          -0.03596002165733689,
          0.012499025740888545,
          -0.01725326196965164,
          0.017789758503203797,
          -0.006874968844071352,
          -0.007538882223740621,
          0.01165532691332894,
          0.02010521225012863,
          0.0005770586789633301,
          -0.029570660898107778,
          0.0008312683567011083,
          -0.004934045969883098,
          -0.0233401331539219,
          -0.009280427514731703,
          0.00556397550576826,
          0.002205599870074826,
          -0.02791854774609631,
          -0.02781140080680215,
          0.003883771773841211,
          -0.027753904669154502,
          -0.03147429522986764,
          0.015137236117001757,
          -0.023615946677315754,
          0.002269038777999151,
          -0.013202859644109444,
          -0.025657445871465834,
          -0.013278704492816651,
          -0.017306277021699647,
          -0.013893617621339154,
          -0.019740569356465183,
          0.017918491786090073,
          -0.007961648478644102,
          0.0016540575418493454,
          -0.00007713027627426422,
          0.02075086077499136,
          0.012704845543291054,
          -0.00594111919058527,
          -0.03269765573277379,
          0.007708121326930458,
          0.001493871124444635,
          -0.02420993355249196,
          -0.00640764149549425,
          -0.014140665559435325,
          0.027406860716494452,
          0.024343830418182225,
          -0.0139139117173787,
          -0.009434146424559312,
          0.0007874267546439525,
          0.016563100075265395,
          0.032014767280761816,
          0.03219249822786718,
          -0.011961193278219068,
          0.018421711426658754,
          0.01205653297532129,
          -0.0026519925247147427,
          -0.01665995179565618,
          0.00423276610283523,
          0.00546783745215054,
          -0.0013305503078293226,
          0.02102532089602373,
          -0.01078881861494772,
          -0.0021527047199233207,
          0.001487421090111685,
          0.0037027009735770885,
          0.029151703961337583,
          0.0031942816469213223,
          -0.016263903491624404,
          -0.0038570471069970754,
          0.004586368997607064,
          -0.003435463983841191,
          -0.015399936718706243,
          0.0021297550501874233,
          0.03183303644789148,
          0.021340935012252912,
          -0.008520352517691392,
          -0.003600216176587982,
          -0.010545599487332993,
          -0.0009122214857805432,
          -0.023337470001943885,
          -0.010406467665761969,
          0.01898111662176913,
          -0.027474159309983384,
          0.022812653174051963,
          -0.02575743020880917,
          0.00005096820473797091,
          0.005665269592728116,
          0.028565538887229004,
          -0.012621959776787567,
          -0.01999740025805448,
          -0.03589005322471731,
          0.005222802115532632,
          0.01331128025855684,
          -0.038883200642461625,
          0.020011738210798137,
          -0.002813387362238818,
          0.01834590939720708,
          0.006592017770252466,
          0.015028753248590269,
          -0.015893982046974852,
          -0.010872441611977587,
          -0.005659454568295352,
          0.008048618849474772,
          0.005054184383558024,
          -0.022527786993692782,
          0.00029080299295957,
          0.017327083373149445,
          -0.0180793482175229,
          -0.035620835580207746
         ]
        }
       ],
       "layout": {
        "hovermode": "closest",
        "legend": {
         "title": {
          "text": "Type"
         }
        },
        "template": {
         "data": {
          "bar": [
           {
            "error_x": {
             "color": "#2a3f5f"
            },
            "error_y": {
             "color": "#2a3f5f"
            },
            "marker": {
             "line": {
              "color": "#E5ECF6",
              "width": 0.5
             },
             "pattern": {
              "fillmode": "overlay",
              "size": 10,
              "solidity": 0.2
             }
            },
            "type": "bar"
           }
          ],
          "barpolar": [
           {
            "marker": {
             "line": {
              "color": "#E5ECF6",
              "width": 0.5
             },
             "pattern": {
              "fillmode": "overlay",
              "size": 10,
              "solidity": 0.2
             }
            },
            "type": "barpolar"
           }
          ],
          "carpet": [
           {
            "aaxis": {
             "endlinecolor": "#2a3f5f",
             "gridcolor": "white",
             "linecolor": "white",
             "minorgridcolor": "white",
             "startlinecolor": "#2a3f5f"
            },
            "baxis": {
             "endlinecolor": "#2a3f5f",
             "gridcolor": "white",
             "linecolor": "white",
             "minorgridcolor": "white",
             "startlinecolor": "#2a3f5f"
            },
            "type": "carpet"
           }
          ],
          "choropleth": [
           {
            "colorbar": {
             "outlinewidth": 0,
             "ticks": ""
            },
            "type": "choropleth"
           }
          ],
          "contour": [
           {
            "colorbar": {
             "outlinewidth": 0,
             "ticks": ""
            },
            "colorscale": [
             [
              0,
              "#0d0887"
             ],
             [
              0.1111111111111111,
              "#46039f"
             ],
             [
              0.2222222222222222,
              "#7201a8"
             ],
             [
              0.3333333333333333,
              "#9c179e"
             ],
             [
              0.4444444444444444,
              "#bd3786"
             ],
             [
              0.5555555555555556,
              "#d8576b"
             ],
             [
              0.6666666666666666,
              "#ed7953"
             ],
             [
              0.7777777777777778,
              "#fb9f3a"
             ],
             [
              0.8888888888888888,
              "#fdca26"
             ],
             [
              1,
              "#f0f921"
             ]
            ],
            "type": "contour"
           }
          ],
          "contourcarpet": [
           {
            "colorbar": {
             "outlinewidth": 0,
             "ticks": ""
            },
            "type": "contourcarpet"
           }
          ],
          "heatmap": [
           {
            "colorbar": {
             "outlinewidth": 0,
             "ticks": ""
            },
            "colorscale": [
             [
              0,
              "#0d0887"
             ],
             [
              0.1111111111111111,
              "#46039f"
             ],
             [
              0.2222222222222222,
              "#7201a8"
             ],
             [
              0.3333333333333333,
              "#9c179e"
             ],
             [
              0.4444444444444444,
              "#bd3786"
             ],
             [
              0.5555555555555556,
              "#d8576b"
             ],
             [
              0.6666666666666666,
              "#ed7953"
             ],
             [
              0.7777777777777778,
              "#fb9f3a"
             ],
             [
              0.8888888888888888,
              "#fdca26"
             ],
             [
              1,
              "#f0f921"
             ]
            ],
            "type": "heatmap"
           }
          ],
          "heatmapgl": [
           {
            "colorbar": {
             "outlinewidth": 0,
             "ticks": ""
            },
            "colorscale": [
             [
              0,
              "#0d0887"
             ],
             [
              0.1111111111111111,
              "#46039f"
             ],
             [
              0.2222222222222222,
              "#7201a8"
             ],
             [
              0.3333333333333333,
              "#9c179e"
             ],
             [
              0.4444444444444444,
              "#bd3786"
             ],
             [
              0.5555555555555556,
              "#d8576b"
             ],
             [
              0.6666666666666666,
              "#ed7953"
             ],
             [
              0.7777777777777778,
              "#fb9f3a"
             ],
             [
              0.8888888888888888,
              "#fdca26"
             ],
             [
              1,
              "#f0f921"
             ]
            ],
            "type": "heatmapgl"
           }
          ],
          "histogram": [
           {
            "marker": {
             "pattern": {
              "fillmode": "overlay",
              "size": 10,
              "solidity": 0.2
             }
            },
            "type": "histogram"
           }
          ],
          "histogram2d": [
           {
            "colorbar": {
             "outlinewidth": 0,
             "ticks": ""
            },
            "colorscale": [
             [
              0,
              "#0d0887"
             ],
             [
              0.1111111111111111,
              "#46039f"
             ],
             [
              0.2222222222222222,
              "#7201a8"
             ],
             [
              0.3333333333333333,
              "#9c179e"
             ],
             [
              0.4444444444444444,
              "#bd3786"
             ],
             [
              0.5555555555555556,
              "#d8576b"
             ],
             [
              0.6666666666666666,
              "#ed7953"
             ],
             [
              0.7777777777777778,
              "#fb9f3a"
             ],
             [
              0.8888888888888888,
              "#fdca26"
             ],
             [
              1,
              "#f0f921"
             ]
            ],
            "type": "histogram2d"
           }
          ],
          "histogram2dcontour": [
           {
            "colorbar": {
             "outlinewidth": 0,
             "ticks": ""
            },
            "colorscale": [
             [
              0,
              "#0d0887"
             ],
             [
              0.1111111111111111,
              "#46039f"
             ],
             [
              0.2222222222222222,
              "#7201a8"
             ],
             [
              0.3333333333333333,
              "#9c179e"
             ],
             [
              0.4444444444444444,
              "#bd3786"
             ],
             [
              0.5555555555555556,
              "#d8576b"
             ],
             [
              0.6666666666666666,
              "#ed7953"
             ],
             [
              0.7777777777777778,
              "#fb9f3a"
             ],
             [
              0.8888888888888888,
              "#fdca26"
             ],
             [
              1,
              "#f0f921"
             ]
            ],
            "type": "histogram2dcontour"
           }
          ],
          "mesh3d": [
           {
            "colorbar": {
             "outlinewidth": 0,
             "ticks": ""
            },
            "type": "mesh3d"
           }
          ],
          "parcoords": [
           {
            "line": {
             "colorbar": {
              "outlinewidth": 0,
              "ticks": ""
             }
            },
            "type": "parcoords"
           }
          ],
          "pie": [
           {
            "automargin": true,
            "type": "pie"
           }
          ],
          "scatter": [
           {
            "fillpattern": {
             "fillmode": "overlay",
             "size": 10,
             "solidity": 0.2
            },
            "type": "scatter"
           }
          ],
          "scatter3d": [
           {
            "line": {
             "colorbar": {
              "outlinewidth": 0,
              "ticks": ""
             }
            },
            "marker": {
             "colorbar": {
              "outlinewidth": 0,
              "ticks": ""
             }
            },
            "type": "scatter3d"
           }
          ],
          "scattercarpet": [
           {
            "marker": {
             "colorbar": {
              "outlinewidth": 0,
              "ticks": ""
             }
            },
            "type": "scattercarpet"
           }
          ],
          "scattergeo": [
           {
            "marker": {
             "colorbar": {
              "outlinewidth": 0,
              "ticks": ""
             }
            },
            "type": "scattergeo"
           }
          ],
          "scattergl": [
           {
            "marker": {
             "colorbar": {
              "outlinewidth": 0,
              "ticks": ""
             }
            },
            "type": "scattergl"
           }
          ],
          "scattermapbox": [
           {
            "marker": {
             "colorbar": {
              "outlinewidth": 0,
              "ticks": ""
             }
            },
            "type": "scattermapbox"
           }
          ],
          "scatterpolar": [
           {
            "marker": {
             "colorbar": {
              "outlinewidth": 0,
              "ticks": ""
             }
            },
            "type": "scatterpolar"
           }
          ],
          "scatterpolargl": [
           {
            "marker": {
             "colorbar": {
              "outlinewidth": 0,
              "ticks": ""
             }
            },
            "type": "scatterpolargl"
           }
          ],
          "scatterternary": [
           {
            "marker": {
             "colorbar": {
              "outlinewidth": 0,
              "ticks": ""
             }
            },
            "type": "scatterternary"
           }
          ],
          "surface": [
           {
            "colorbar": {
             "outlinewidth": 0,
             "ticks": ""
            },
            "colorscale": [
             [
              0,
              "#0d0887"
             ],
             [
              0.1111111111111111,
              "#46039f"
             ],
             [
              0.2222222222222222,
              "#7201a8"
             ],
             [
              0.3333333333333333,
              "#9c179e"
             ],
             [
              0.4444444444444444,
              "#bd3786"
             ],
             [
              0.5555555555555556,
              "#d8576b"
             ],
             [
              0.6666666666666666,
              "#ed7953"
             ],
             [
              0.7777777777777778,
              "#fb9f3a"
             ],
             [
              0.8888888888888888,
              "#fdca26"
             ],
             [
              1,
              "#f0f921"
             ]
            ],
            "type": "surface"
           }
          ],
          "table": [
           {
            "cells": {
             "fill": {
              "color": "#EBF0F8"
             },
             "line": {
              "color": "white"
             }
            },
            "header": {
             "fill": {
              "color": "#C8D4E3"
             },
             "line": {
              "color": "white"
             }
            },
            "type": "table"
           }
          ]
         },
         "layout": {
          "annotationdefaults": {
           "arrowcolor": "#2a3f5f",
           "arrowhead": 0,
           "arrowwidth": 1
          },
          "autotypenumbers": "strict",
          "coloraxis": {
           "colorbar": {
            "outlinewidth": 0,
            "ticks": ""
           }
          },
          "colorscale": {
           "diverging": [
            [
             0,
             "#8e0152"
            ],
            [
             0.1,
             "#c51b7d"
            ],
            [
             0.2,
             "#de77ae"
            ],
            [
             0.3,
             "#f1b6da"
            ],
            [
             0.4,
             "#fde0ef"
            ],
            [
             0.5,
             "#f7f7f7"
            ],
            [
             0.6,
             "#e6f5d0"
            ],
            [
             0.7,
             "#b8e186"
            ],
            [
             0.8,
             "#7fbc41"
            ],
            [
             0.9,
             "#4d9221"
            ],
            [
             1,
             "#276419"
            ]
           ],
           "sequential": [
            [
             0,
             "#0d0887"
            ],
            [
             0.1111111111111111,
             "#46039f"
            ],
            [
             0.2222222222222222,
             "#7201a8"
            ],
            [
             0.3333333333333333,
             "#9c179e"
            ],
            [
             0.4444444444444444,
             "#bd3786"
            ],
            [
             0.5555555555555556,
             "#d8576b"
            ],
            [
             0.6666666666666666,
             "#ed7953"
            ],
            [
             0.7777777777777778,
             "#fb9f3a"
            ],
            [
             0.8888888888888888,
             "#fdca26"
            ],
            [
             1,
             "#f0f921"
            ]
           ],
           "sequentialminus": [
            [
             0,
             "#0d0887"
            ],
            [
             0.1111111111111111,
             "#46039f"
            ],
            [
             0.2222222222222222,
             "#7201a8"
            ],
            [
             0.3333333333333333,
             "#9c179e"
            ],
            [
             0.4444444444444444,
             "#bd3786"
            ],
            [
             0.5555555555555556,
             "#d8576b"
            ],
            [
             0.6666666666666666,
             "#ed7953"
            ],
            [
             0.7777777777777778,
             "#fb9f3a"
            ],
            [
             0.8888888888888888,
             "#fdca26"
            ],
            [
             1,
             "#f0f921"
            ]
           ]
          },
          "colorway": [
           "#636efa",
           "#EF553B",
           "#00cc96",
           "#ab63fa",
           "#FFA15A",
           "#19d3f3",
           "#FF6692",
           "#B6E880",
           "#FF97FF",
           "#FECB52"
          ],
          "font": {
           "color": "#2a3f5f"
          },
          "geo": {
           "bgcolor": "white",
           "lakecolor": "white",
           "landcolor": "#E5ECF6",
           "showlakes": true,
           "showland": true,
           "subunitcolor": "white"
          },
          "hoverlabel": {
           "align": "left"
          },
          "hovermode": "closest",
          "mapbox": {
           "style": "light"
          },
          "paper_bgcolor": "white",
          "plot_bgcolor": "#E5ECF6",
          "polar": {
           "angularaxis": {
            "gridcolor": "white",
            "linecolor": "white",
            "ticks": ""
           },
           "bgcolor": "#E5ECF6",
           "radialaxis": {
            "gridcolor": "white",
            "linecolor": "white",
            "ticks": ""
           }
          },
          "scene": {
           "xaxis": {
            "backgroundcolor": "#E5ECF6",
            "gridcolor": "white",
            "gridwidth": 2,
            "linecolor": "white",
            "showbackground": true,
            "ticks": "",
            "zerolinecolor": "white"
           },
           "yaxis": {
            "backgroundcolor": "#E5ECF6",
            "gridcolor": "white",
            "gridwidth": 2,
            "linecolor": "white",
            "showbackground": true,
            "ticks": "",
            "zerolinecolor": "white"
           },
           "zaxis": {
            "backgroundcolor": "#E5ECF6",
            "gridcolor": "white",
            "gridwidth": 2,
            "linecolor": "white",
            "showbackground": true,
            "ticks": "",
            "zerolinecolor": "white"
           }
          },
          "shapedefaults": {
           "line": {
            "color": "#2a3f5f"
           }
          },
          "ternary": {
           "aaxis": {
            "gridcolor": "white",
            "linecolor": "white",
            "ticks": ""
           },
           "baxis": {
            "gridcolor": "white",
            "linecolor": "white",
            "ticks": ""
           },
           "bgcolor": "#E5ECF6",
           "caxis": {
            "gridcolor": "white",
            "linecolor": "white",
            "ticks": ""
           }
          },
          "title": {
           "x": 0.05
          },
          "xaxis": {
           "automargin": true,
           "gridcolor": "white",
           "linecolor": "white",
           "ticks": "",
           "title": {
            "standoff": 15
           },
           "zerolinecolor": "white",
           "zerolinewidth": 2
          },
          "yaxis": {
           "automargin": true,
           "gridcolor": "white",
           "linecolor": "white",
           "ticks": "",
           "title": {
            "standoff": 15
           },
           "zerolinecolor": "white",
           "zerolinewidth": 2
          }
         }
        },
        "title": {
         "text": "Comparison of Actual vs Imputed Values for s1"
        },
        "xaxis": {
         "title": {
          "text": "Sample Index"
         }
        },
        "yaxis": {
         "title": {
          "text": "s1 Value"
         }
        }
       }
      }
     },
     "metadata": {},
     "output_type": "display_data"
    },
    {
     "data": {
      "application/vnd.plotly.v1+json": {
       "config": {
        "plotlyServerURL": "https://plot.ly"
       },
       "data": [
        {
         "marker": {
          "color": "blue",
          "size": 8
         },
         "mode": "markers",
         "name": "Actual Values",
         "type": "scatter",
         "x": [
          0,
          1,
          2,
          3,
          4,
          5,
          6,
          7,
          8,
          9,
          10,
          11,
          12,
          13,
          14,
          15,
          16,
          17,
          18,
          19,
          20,
          21,
          22,
          23,
          24,
          25,
          26,
          27,
          28,
          29,
          30,
          31,
          32,
          33,
          34,
          35,
          36,
          37,
          38,
          39,
          40,
          41,
          42,
          43,
          44,
          45,
          46,
          47,
          48,
          49,
          50,
          51,
          52,
          53,
          54,
          55,
          56,
          57,
          58,
          59,
          60,
          61,
          62,
          63,
          64,
          65,
          66,
          67,
          68,
          69,
          70,
          71,
          72,
          73,
          74,
          75,
          76,
          77,
          78,
          79,
          80,
          81,
          82,
          83,
          84,
          85,
          86,
          87,
          88,
          89,
          90,
          91,
          92,
          93,
          94,
          95,
          96,
          97,
          98,
          99,
          100,
          101,
          102,
          103,
          104,
          105,
          106,
          107,
          108,
          109,
          110,
          111,
          112,
          113,
          114,
          115,
          116,
          117,
          118,
          119,
          120,
          121,
          122,
          123,
          124,
          125,
          126,
          127,
          128,
          129,
          130,
          131,
          132
         ],
         "y": [
          -0.002592261998183278,
          -0.0763945037500033,
          0.07120997975363674,
          -0.002592261998183278,
          0.10811110062954676,
          -0.002592261998183278,
          -0.03949338287409329,
          -0.002592261998183278,
          -0.0763945037500033,
          -0.03949338287409329,
          -0.002592261998183278,
          -0.002592261998183278,
          -0.03949338287409329,
          0.07120997975363674,
          -0.002592261998183278,
          -0.03949338287409329,
          0.0029429061332032365,
          -0.0763945037500033,
          0.07120997975363674,
          -0.03949338287409329,
          -0.03949338287409329,
          -0.002592261998183278,
          0.03430885887772673,
          -0.0763945037500033,
          0.03430885887772673,
          -0.03949338287409329,
          0.026928634702544724,
          -0.002592261998183278,
          0.07120997975363674,
          0.03430885887772673,
          -0.002592261998183278,
          0.03430885887772673,
          0.07120997975363674,
          -0.03949338287409329,
          -0.0763945037500033,
          0.03430885887772673,
          -0.002592261998183278,
          -0.03949338287409329,
          0.13025177315509276,
          0.07120997975363674,
          0.03430885887772673,
          -0.007020396503292483,
          -0.03949338287409329,
          -0.03949338287409329,
          -0.03949338287409329,
          -0.03949338287409329,
          0.03430885887772673,
          -0.03949338287409329,
          0.08006624876385515,
          -0.002592261998183278,
          -0.0763945037500033,
          -0.002592261998183278,
          -0.03949338287409329,
          0.07120997975363674,
          -0.002592261998183278,
          0.03430885887772673,
          -0.03949338287409329,
          -0.002592261998183278,
          0.03430885887772673,
          0.03430885887772673,
          -0.03949338287409329,
          -0.03949338287409329,
          -0.03949338287409329,
          0.03430885887772673,
          -0.008127430129569777,
          -0.03949338287409329,
          -0.03949338287409329,
          -0.009972486173365287,
          -0.002592261998183278,
          0.07120997975363674,
          -0.03949338287409329,
          -0.03949338287409329,
          0.005156973385757823,
          -0.0763945037500033,
          0.03430885887772673,
          0.07120997975363674,
          -0.0763945037500033,
          -0.03949338287409329,
          -0.002592261998183278,
          -0.002592261998183278,
          -0.0763945037500033,
          0.03430885887772673,
          -0.002592261998183278,
          0.03430885887772673,
          -0.002592261998183278,
          -0.03949338287409329,
          -0.002592261998183278,
          -0.0011162171631468765,
          -0.002592261998183278,
          -0.002592261998183278,
          0.03430885887772673,
          -0.06938329078358041,
          -0.002592261998183278,
          0.03615391492152222,
          -0.002592261998183278,
          -0.03949338287409329,
          0.03430885887772673,
          0.14132210941786577,
          0.15534453535071155,
          0.08486339447772344,
          0.03430885887772673,
          -0.002592261998183278,
          0.14501222150545676,
          -0.002592261998183278,
          -0.002592261998183278,
          -0.002592261998183278,
          0.03430885887772673,
          -0.002592261998183278,
          0.03430885887772673,
          -0.002592261998183278,
          -0.002592261998183278,
          -0.002592261998183278,
          0.028404679537581124,
          -0.03949338287409329,
          -0.03949338287409329,
          0.07120997975363674,
          -0.03395821474270679,
          -0.002592261998183278,
          0.03430885887772673,
          -0.02583996815000658,
          -0.002592261998183278,
          -0.002592261998183278,
          -0.03949338287409329,
          -0.03949338287409329,
          -0.002592261998183278,
          0.03430885887772673,
          -0.002592261998183278,
          0.05755656502955003,
          0.03430885887772673,
          -0.03949338287409329,
          -0.002592261998183278,
          0.03430885887772673,
          -0.03949338287409329
         ]
        },
        {
         "marker": {
          "color": "red",
          "size": 8
         },
         "mode": "markers",
         "name": "Imputed Values",
         "type": "scatter",
         "x": [
          0,
          1,
          2,
          3,
          4,
          5,
          6,
          7,
          8,
          9,
          10,
          11,
          12,
          13,
          14,
          15,
          16,
          17,
          18,
          19,
          20,
          21,
          22,
          23,
          24,
          25,
          26,
          27,
          28,
          29,
          30,
          31,
          32,
          33,
          34,
          35,
          36,
          37,
          38,
          39,
          40,
          41,
          42,
          43,
          44,
          45,
          46,
          47,
          48,
          49,
          50,
          51,
          52,
          53,
          54,
          55,
          56,
          57,
          58,
          59,
          60,
          61,
          62,
          63,
          64,
          65,
          66,
          67,
          68,
          69,
          70,
          71,
          72,
          73,
          74,
          75,
          76,
          77,
          78,
          79,
          80,
          81,
          82,
          83,
          84,
          85,
          86,
          87,
          88,
          89,
          90,
          91,
          92,
          93,
          94,
          95,
          96,
          97,
          98,
          99,
          100,
          101,
          102,
          103,
          104,
          105,
          106,
          107,
          108,
          109,
          110,
          111,
          112,
          113,
          114,
          115,
          116,
          117,
          118,
          119,
          120,
          121,
          122,
          123,
          124,
          125,
          126,
          127,
          128,
          129,
          130,
          131,
          132
         ],
         "y": [
          0.03648482553259794,
          -0.0499247445694337,
          0.018329166959255006,
          0.012197738679495095,
          0.0077875720596275065,
          -0.02357871158907045,
          -0.020903714911371614,
          -0.006356819338971887,
          -0.04508106574509503,
          -0.015919171359071206,
          0.015494938388592302,
          0.0008862675951000447,
          -0.024088455947245017,
          0.017161739272487004,
          -0.021883371741912988,
          -0.009190299896512833,
          -0.004212523929769322,
          -0.04023813314308163,
          0.004844488391231988,
          -0.03507526992490181,
          -0.04425833031388986,
          0.011460112327594243,
          0.0035476218075721063,
          -0.028638606373427758,
          -0.00004190533733566771,
          -0.04875353955879936,
          0.030550824744013803,
          -0.012295031454816389,
          -0.02249979540351402,
          0.008807367432876873,
          -0.016638323251856945,
          -0.010182544522258993,
          0.04377443146236236,
          -0.009060968293733913,
          -0.04256101582600976,
          -0.011776410171040974,
          0.004634159095123661,
          -0.008965702590764036,
          -0.0022958703116552266,
          0.029647339174944547,
          0.03421014385059448,
          -0.044591363888572544,
          -0.04349743834883611,
          -0.023922522922986664,
          -0.04462336616597393,
          -0.038416760402532495,
          0.03967769548095045,
          -0.017698071188825652,
          -0.008248718670517121,
          -0.03499196352874121,
          -0.039911567849883145,
          -0.04263537884230711,
          -0.004259790938583573,
          0.008791308970705937,
          -0.036418294623704835,
          0.016647910933545847,
          0.0004276340238684903,
          -0.0008025570997516086,
          0.021955482657816185,
          -0.00050705227007653,
          -0.01487821792191641,
          -0.0019307149348449185,
          -0.02995713704068053,
          -0.014168316065894145,
          0.010011703198024541,
          0.0019596428227004344,
          0.031225560312568765,
          -0.031353667786744636,
          0.005789494566557556,
          0.03612860015185232,
          -0.04240879172124059,
          -0.007542975071291381,
          -0.030035343835106643,
          -0.029649591275338685,
          0.06244813705473437,
          0.04823861929280254,
          -0.030638499933440033,
          0.026492365520731257,
          0.01764450714790474,
          0.008594555685561982,
          -0.04024701006868249,
          -0.019305497673976914,
          0.005726342843947746,
          -0.020333048848542732,
          -0.008363212876694908,
          -0.041102608646554815,
          0.0074662783257424216,
          0.007954445791212648,
          0.005156491248503043,
          -0.0014308869976980875,
          0.0021000271453865665,
          -0.03611088355768431,
          0.012892570289105985,
          -0.003908823733352738,
          -0.003960628309768389,
          -0.027124203342677605,
          0.018079380679298027,
          0.004729700911952549,
          0.03756361437166059,
          -0.00021199614945055848,
          0.009004935185405016,
          0.004300265335420508,
          0.012032500597894659,
          -0.0321294636026619,
          -0.022025224685634278,
          0.023065967117379967,
          -0.024918265620907324,
          0.037984025408411885,
          -0.04045604449213102,
          0.0308173566070321,
          -0.009560474399385448,
          0.05367651083561135,
          0.002937705476509358,
          -0.04101800737773443,
          -0.03412905050577396,
          0.017070130215471924,
          -0.006425221884268954,
          -0.023514707503207707,
          0.04009954165171388,
          -0.01991534755077724,
          0.023292554238446474,
          0.01737419129243785,
          0.003876618272309813,
          -0.01985296457791531,
          -0.027854888360646167,
          -0.031228994429478664,
          0.04201184368121525,
          0.0016857965145872116,
          -0.04075668797259464,
          -0.01714830781266933,
          0.02220247982966635,
          0.004531563772463782,
          -0.04812817251733505
         ]
        }
       ],
       "layout": {
        "hovermode": "closest",
        "legend": {
         "title": {
          "text": "Type"
         }
        },
        "template": {
         "data": {
          "bar": [
           {
            "error_x": {
             "color": "#2a3f5f"
            },
            "error_y": {
             "color": "#2a3f5f"
            },
            "marker": {
             "line": {
              "color": "#E5ECF6",
              "width": 0.5
             },
             "pattern": {
              "fillmode": "overlay",
              "size": 10,
              "solidity": 0.2
             }
            },
            "type": "bar"
           }
          ],
          "barpolar": [
           {
            "marker": {
             "line": {
              "color": "#E5ECF6",
              "width": 0.5
             },
             "pattern": {
              "fillmode": "overlay",
              "size": 10,
              "solidity": 0.2
             }
            },
            "type": "barpolar"
           }
          ],
          "carpet": [
           {
            "aaxis": {
             "endlinecolor": "#2a3f5f",
             "gridcolor": "white",
             "linecolor": "white",
             "minorgridcolor": "white",
             "startlinecolor": "#2a3f5f"
            },
            "baxis": {
             "endlinecolor": "#2a3f5f",
             "gridcolor": "white",
             "linecolor": "white",
             "minorgridcolor": "white",
             "startlinecolor": "#2a3f5f"
            },
            "type": "carpet"
           }
          ],
          "choropleth": [
           {
            "colorbar": {
             "outlinewidth": 0,
             "ticks": ""
            },
            "type": "choropleth"
           }
          ],
          "contour": [
           {
            "colorbar": {
             "outlinewidth": 0,
             "ticks": ""
            },
            "colorscale": [
             [
              0,
              "#0d0887"
             ],
             [
              0.1111111111111111,
              "#46039f"
             ],
             [
              0.2222222222222222,
              "#7201a8"
             ],
             [
              0.3333333333333333,
              "#9c179e"
             ],
             [
              0.4444444444444444,
              "#bd3786"
             ],
             [
              0.5555555555555556,
              "#d8576b"
             ],
             [
              0.6666666666666666,
              "#ed7953"
             ],
             [
              0.7777777777777778,
              "#fb9f3a"
             ],
             [
              0.8888888888888888,
              "#fdca26"
             ],
             [
              1,
              "#f0f921"
             ]
            ],
            "type": "contour"
           }
          ],
          "contourcarpet": [
           {
            "colorbar": {
             "outlinewidth": 0,
             "ticks": ""
            },
            "type": "contourcarpet"
           }
          ],
          "heatmap": [
           {
            "colorbar": {
             "outlinewidth": 0,
             "ticks": ""
            },
            "colorscale": [
             [
              0,
              "#0d0887"
             ],
             [
              0.1111111111111111,
              "#46039f"
             ],
             [
              0.2222222222222222,
              "#7201a8"
             ],
             [
              0.3333333333333333,
              "#9c179e"
             ],
             [
              0.4444444444444444,
              "#bd3786"
             ],
             [
              0.5555555555555556,
              "#d8576b"
             ],
             [
              0.6666666666666666,
              "#ed7953"
             ],
             [
              0.7777777777777778,
              "#fb9f3a"
             ],
             [
              0.8888888888888888,
              "#fdca26"
             ],
             [
              1,
              "#f0f921"
             ]
            ],
            "type": "heatmap"
           }
          ],
          "heatmapgl": [
           {
            "colorbar": {
             "outlinewidth": 0,
             "ticks": ""
            },
            "colorscale": [
             [
              0,
              "#0d0887"
             ],
             [
              0.1111111111111111,
              "#46039f"
             ],
             [
              0.2222222222222222,
              "#7201a8"
             ],
             [
              0.3333333333333333,
              "#9c179e"
             ],
             [
              0.4444444444444444,
              "#bd3786"
             ],
             [
              0.5555555555555556,
              "#d8576b"
             ],
             [
              0.6666666666666666,
              "#ed7953"
             ],
             [
              0.7777777777777778,
              "#fb9f3a"
             ],
             [
              0.8888888888888888,
              "#fdca26"
             ],
             [
              1,
              "#f0f921"
             ]
            ],
            "type": "heatmapgl"
           }
          ],
          "histogram": [
           {
            "marker": {
             "pattern": {
              "fillmode": "overlay",
              "size": 10,
              "solidity": 0.2
             }
            },
            "type": "histogram"
           }
          ],
          "histogram2d": [
           {
            "colorbar": {
             "outlinewidth": 0,
             "ticks": ""
            },
            "colorscale": [
             [
              0,
              "#0d0887"
             ],
             [
              0.1111111111111111,
              "#46039f"
             ],
             [
              0.2222222222222222,
              "#7201a8"
             ],
             [
              0.3333333333333333,
              "#9c179e"
             ],
             [
              0.4444444444444444,
              "#bd3786"
             ],
             [
              0.5555555555555556,
              "#d8576b"
             ],
             [
              0.6666666666666666,
              "#ed7953"
             ],
             [
              0.7777777777777778,
              "#fb9f3a"
             ],
             [
              0.8888888888888888,
              "#fdca26"
             ],
             [
              1,
              "#f0f921"
             ]
            ],
            "type": "histogram2d"
           }
          ],
          "histogram2dcontour": [
           {
            "colorbar": {
             "outlinewidth": 0,
             "ticks": ""
            },
            "colorscale": [
             [
              0,
              "#0d0887"
             ],
             [
              0.1111111111111111,
              "#46039f"
             ],
             [
              0.2222222222222222,
              "#7201a8"
             ],
             [
              0.3333333333333333,
              "#9c179e"
             ],
             [
              0.4444444444444444,
              "#bd3786"
             ],
             [
              0.5555555555555556,
              "#d8576b"
             ],
             [
              0.6666666666666666,
              "#ed7953"
             ],
             [
              0.7777777777777778,
              "#fb9f3a"
             ],
             [
              0.8888888888888888,
              "#fdca26"
             ],
             [
              1,
              "#f0f921"
             ]
            ],
            "type": "histogram2dcontour"
           }
          ],
          "mesh3d": [
           {
            "colorbar": {
             "outlinewidth": 0,
             "ticks": ""
            },
            "type": "mesh3d"
           }
          ],
          "parcoords": [
           {
            "line": {
             "colorbar": {
              "outlinewidth": 0,
              "ticks": ""
             }
            },
            "type": "parcoords"
           }
          ],
          "pie": [
           {
            "automargin": true,
            "type": "pie"
           }
          ],
          "scatter": [
           {
            "fillpattern": {
             "fillmode": "overlay",
             "size": 10,
             "solidity": 0.2
            },
            "type": "scatter"
           }
          ],
          "scatter3d": [
           {
            "line": {
             "colorbar": {
              "outlinewidth": 0,
              "ticks": ""
             }
            },
            "marker": {
             "colorbar": {
              "outlinewidth": 0,
              "ticks": ""
             }
            },
            "type": "scatter3d"
           }
          ],
          "scattercarpet": [
           {
            "marker": {
             "colorbar": {
              "outlinewidth": 0,
              "ticks": ""
             }
            },
            "type": "scattercarpet"
           }
          ],
          "scattergeo": [
           {
            "marker": {
             "colorbar": {
              "outlinewidth": 0,
              "ticks": ""
             }
            },
            "type": "scattergeo"
           }
          ],
          "scattergl": [
           {
            "marker": {
             "colorbar": {
              "outlinewidth": 0,
              "ticks": ""
             }
            },
            "type": "scattergl"
           }
          ],
          "scattermapbox": [
           {
            "marker": {
             "colorbar": {
              "outlinewidth": 0,
              "ticks": ""
             }
            },
            "type": "scattermapbox"
           }
          ],
          "scatterpolar": [
           {
            "marker": {
             "colorbar": {
              "outlinewidth": 0,
              "ticks": ""
             }
            },
            "type": "scatterpolar"
           }
          ],
          "scatterpolargl": [
           {
            "marker": {
             "colorbar": {
              "outlinewidth": 0,
              "ticks": ""
             }
            },
            "type": "scatterpolargl"
           }
          ],
          "scatterternary": [
           {
            "marker": {
             "colorbar": {
              "outlinewidth": 0,
              "ticks": ""
             }
            },
            "type": "scatterternary"
           }
          ],
          "surface": [
           {
            "colorbar": {
             "outlinewidth": 0,
             "ticks": ""
            },
            "colorscale": [
             [
              0,
              "#0d0887"
             ],
             [
              0.1111111111111111,
              "#46039f"
             ],
             [
              0.2222222222222222,
              "#7201a8"
             ],
             [
              0.3333333333333333,
              "#9c179e"
             ],
             [
              0.4444444444444444,
              "#bd3786"
             ],
             [
              0.5555555555555556,
              "#d8576b"
             ],
             [
              0.6666666666666666,
              "#ed7953"
             ],
             [
              0.7777777777777778,
              "#fb9f3a"
             ],
             [
              0.8888888888888888,
              "#fdca26"
             ],
             [
              1,
              "#f0f921"
             ]
            ],
            "type": "surface"
           }
          ],
          "table": [
           {
            "cells": {
             "fill": {
              "color": "#EBF0F8"
             },
             "line": {
              "color": "white"
             }
            },
            "header": {
             "fill": {
              "color": "#C8D4E3"
             },
             "line": {
              "color": "white"
             }
            },
            "type": "table"
           }
          ]
         },
         "layout": {
          "annotationdefaults": {
           "arrowcolor": "#2a3f5f",
           "arrowhead": 0,
           "arrowwidth": 1
          },
          "autotypenumbers": "strict",
          "coloraxis": {
           "colorbar": {
            "outlinewidth": 0,
            "ticks": ""
           }
          },
          "colorscale": {
           "diverging": [
            [
             0,
             "#8e0152"
            ],
            [
             0.1,
             "#c51b7d"
            ],
            [
             0.2,
             "#de77ae"
            ],
            [
             0.3,
             "#f1b6da"
            ],
            [
             0.4,
             "#fde0ef"
            ],
            [
             0.5,
             "#f7f7f7"
            ],
            [
             0.6,
             "#e6f5d0"
            ],
            [
             0.7,
             "#b8e186"
            ],
            [
             0.8,
             "#7fbc41"
            ],
            [
             0.9,
             "#4d9221"
            ],
            [
             1,
             "#276419"
            ]
           ],
           "sequential": [
            [
             0,
             "#0d0887"
            ],
            [
             0.1111111111111111,
             "#46039f"
            ],
            [
             0.2222222222222222,
             "#7201a8"
            ],
            [
             0.3333333333333333,
             "#9c179e"
            ],
            [
             0.4444444444444444,
             "#bd3786"
            ],
            [
             0.5555555555555556,
             "#d8576b"
            ],
            [
             0.6666666666666666,
             "#ed7953"
            ],
            [
             0.7777777777777778,
             "#fb9f3a"
            ],
            [
             0.8888888888888888,
             "#fdca26"
            ],
            [
             1,
             "#f0f921"
            ]
           ],
           "sequentialminus": [
            [
             0,
             "#0d0887"
            ],
            [
             0.1111111111111111,
             "#46039f"
            ],
            [
             0.2222222222222222,
             "#7201a8"
            ],
            [
             0.3333333333333333,
             "#9c179e"
            ],
            [
             0.4444444444444444,
             "#bd3786"
            ],
            [
             0.5555555555555556,
             "#d8576b"
            ],
            [
             0.6666666666666666,
             "#ed7953"
            ],
            [
             0.7777777777777778,
             "#fb9f3a"
            ],
            [
             0.8888888888888888,
             "#fdca26"
            ],
            [
             1,
             "#f0f921"
            ]
           ]
          },
          "colorway": [
           "#636efa",
           "#EF553B",
           "#00cc96",
           "#ab63fa",
           "#FFA15A",
           "#19d3f3",
           "#FF6692",
           "#B6E880",
           "#FF97FF",
           "#FECB52"
          ],
          "font": {
           "color": "#2a3f5f"
          },
          "geo": {
           "bgcolor": "white",
           "lakecolor": "white",
           "landcolor": "#E5ECF6",
           "showlakes": true,
           "showland": true,
           "subunitcolor": "white"
          },
          "hoverlabel": {
           "align": "left"
          },
          "hovermode": "closest",
          "mapbox": {
           "style": "light"
          },
          "paper_bgcolor": "white",
          "plot_bgcolor": "#E5ECF6",
          "polar": {
           "angularaxis": {
            "gridcolor": "white",
            "linecolor": "white",
            "ticks": ""
           },
           "bgcolor": "#E5ECF6",
           "radialaxis": {
            "gridcolor": "white",
            "linecolor": "white",
            "ticks": ""
           }
          },
          "scene": {
           "xaxis": {
            "backgroundcolor": "#E5ECF6",
            "gridcolor": "white",
            "gridwidth": 2,
            "linecolor": "white",
            "showbackground": true,
            "ticks": "",
            "zerolinecolor": "white"
           },
           "yaxis": {
            "backgroundcolor": "#E5ECF6",
            "gridcolor": "white",
            "gridwidth": 2,
            "linecolor": "white",
            "showbackground": true,
            "ticks": "",
            "zerolinecolor": "white"
           },
           "zaxis": {
            "backgroundcolor": "#E5ECF6",
            "gridcolor": "white",
            "gridwidth": 2,
            "linecolor": "white",
            "showbackground": true,
            "ticks": "",
            "zerolinecolor": "white"
           }
          },
          "shapedefaults": {
           "line": {
            "color": "#2a3f5f"
           }
          },
          "ternary": {
           "aaxis": {
            "gridcolor": "white",
            "linecolor": "white",
            "ticks": ""
           },
           "baxis": {
            "gridcolor": "white",
            "linecolor": "white",
            "ticks": ""
           },
           "bgcolor": "#E5ECF6",
           "caxis": {
            "gridcolor": "white",
            "linecolor": "white",
            "ticks": ""
           }
          },
          "title": {
           "x": 0.05
          },
          "xaxis": {
           "automargin": true,
           "gridcolor": "white",
           "linecolor": "white",
           "ticks": "",
           "title": {
            "standoff": 15
           },
           "zerolinecolor": "white",
           "zerolinewidth": 2
          },
          "yaxis": {
           "automargin": true,
           "gridcolor": "white",
           "linecolor": "white",
           "ticks": "",
           "title": {
            "standoff": 15
           },
           "zerolinecolor": "white",
           "zerolinewidth": 2
          }
         }
        },
        "title": {
         "text": "Comparison of Actual vs Imputed Values for s4"
        },
        "xaxis": {
         "title": {
          "text": "Sample Index"
         }
        },
        "yaxis": {
         "title": {
          "text": "s4 Value"
         }
        }
       }
      }
     },
     "metadata": {},
     "output_type": "display_data"
    }
   ],
   "source": [
    "# Visualize comparison between actual and imputed values\n",
    "for var in imputed_variables:\n",
    "    fig = go.Figure()\n",
    "\n",
    "    # Plot actual values\n",
    "    fig.add_trace(\n",
    "        go.Scatter(\n",
    "            x=receiver_data.index,\n",
    "            y=receiver_data[var],\n",
    "            mode=\"markers\",\n",
    "            name=\"Actual Values\",\n",
    "            marker=dict(color=\"blue\", size=8),\n",
    "        )\n",
    "    )\n",
    "\n",
    "    # Plot imputed values\n",
    "    fig.add_trace(\n",
    "        go.Scatter(\n",
    "            x=imputed_data.index,\n",
    "            y=imputed_data[var],\n",
    "            mode=\"markers\",\n",
    "            name=\"Imputed Values\",\n",
    "            marker=dict(color=\"red\", size=8),\n",
    "        )\n",
    "    )\n",
    "\n",
    "    # Customize the plot appearance\n",
    "    fig.update_layout(\n",
    "        title=f\"Comparison of Actual vs Imputed Values for {var}\",\n",
    "        xaxis_title=\"Sample Index\",\n",
    "        yaxis_title=f\"{var} Value\",\n",
    "        legend_title=\"Type\",\n",
    "        hovermode=\"closest\",\n",
    "    )\n",
    "\n",
    "    fig.show()"
   ]
  },
  {
   "cell_type": "markdown",
   "metadata": {},
   "source": [
    "The plots above show how well the imputed values (red) match the actual values (blue) that were removed from the receiver dataset. This visual comparison helps assess the quality of the imputations generated by the best-performing method."
   ]
  },
  {
   "cell_type": "markdown",
   "metadata": {},
   "source": [
    "## Advanced usage: custom models and hyperparameters\n",
    "\n",
    "The AutoImpute function allows for customization of both the models to evaluate and their hyperparameters. This flexibility enables adaptation to specific dataset characteristics and imputation requirements."
   ]
  },
  {
   "cell_type": "code",
   "execution_count": 13,
   "metadata": {},
   "outputs": [
    {
     "data": {
      "text/html": [
       "<div>\n",
       "<style scoped>\n",
       "    .dataframe tbody tr th:only-of-type {\n",
       "        vertical-align: middle;\n",
       "    }\n",
       "\n",
       "    .dataframe tbody tr th {\n",
       "        vertical-align: top;\n",
       "    }\n",
       "\n",
       "    .dataframe thead th {\n",
       "        text-align: right;\n",
       "    }\n",
       "</style>\n",
       "<table border=\"1\" class=\"dataframe\">\n",
       "  <thead>\n",
       "    <tr style=\"text-align: right;\">\n",
       "      <th></th>\n",
       "      <th>s1</th>\n",
       "      <th>s4</th>\n",
       "    </tr>\n",
       "  </thead>\n",
       "  <tbody>\n",
       "    <tr>\n",
       "      <th>0</th>\n",
       "      <td>0.015816</td>\n",
       "      <td>0.036485</td>\n",
       "    </tr>\n",
       "    <tr>\n",
       "      <th>1</th>\n",
       "      <td>-0.027393</td>\n",
       "      <td>-0.049925</td>\n",
       "    </tr>\n",
       "    <tr>\n",
       "      <th>2</th>\n",
       "      <td>-0.002351</td>\n",
       "      <td>0.018329</td>\n",
       "    </tr>\n",
       "    <tr>\n",
       "      <th>3</th>\n",
       "      <td>-0.000406</td>\n",
       "      <td>0.012198</td>\n",
       "    </tr>\n",
       "    <tr>\n",
       "      <th>4</th>\n",
       "      <td>0.002832</td>\n",
       "      <td>0.007788</td>\n",
       "    </tr>\n",
       "    <tr>\n",
       "      <th>...</th>\n",
       "      <td>...</td>\n",
       "      <td>...</td>\n",
       "    </tr>\n",
       "    <tr>\n",
       "      <th>128</th>\n",
       "      <td>-0.022528</td>\n",
       "      <td>-0.040757</td>\n",
       "    </tr>\n",
       "    <tr>\n",
       "      <th>129</th>\n",
       "      <td>0.000291</td>\n",
       "      <td>-0.017148</td>\n",
       "    </tr>\n",
       "    <tr>\n",
       "      <th>130</th>\n",
       "      <td>0.017327</td>\n",
       "      <td>0.022202</td>\n",
       "    </tr>\n",
       "    <tr>\n",
       "      <th>131</th>\n",
       "      <td>-0.018079</td>\n",
       "      <td>0.004532</td>\n",
       "    </tr>\n",
       "    <tr>\n",
       "      <th>132</th>\n",
       "      <td>-0.035621</td>\n",
       "      <td>-0.048128</td>\n",
       "    </tr>\n",
       "  </tbody>\n",
       "</table>\n",
       "<p>133 rows × 2 columns</p>\n",
       "</div>"
      ],
      "text/plain": [
       "           s1        s4\n",
       "0    0.015816  0.036485\n",
       "1   -0.027393 -0.049925\n",
       "2   -0.002351  0.018329\n",
       "3   -0.000406  0.012198\n",
       "4    0.002832  0.007788\n",
       "..        ...       ...\n",
       "128 -0.022528 -0.040757\n",
       "129  0.000291 -0.017148\n",
       "130  0.017327  0.022202\n",
       "131 -0.018079  0.004532\n",
       "132 -0.035621 -0.048128\n",
       "\n",
       "[133 rows x 2 columns]"
      ]
     },
     "execution_count": 13,
     "metadata": {},
     "output_type": "execute_result"
    }
   ],
   "source": [
    "from microimpute.models import *\n",
    "\n",
    "# Specify a custom subset of models to evaluate\n",
    "custom_models = [QRF, OLS, QuantReg]\n",
    "\n",
    "# Specify custom hyperparameters for some models\n",
    "custom_hyperparameters = {\"QRF\": {\"n_estimators\": 200, \"max_depth\": 10}}\n",
    "\n",
    "# Then simply run autoimpute with custom models and hyperparameters\n",
    "(\n",
    "    advanced_imputations,\n",
    "    advanced_imputed_data,\n",
    "    advanced_fitted_model,\n",
    "    advanced_method_results,\n",
    ") = autoimpute(\n",
    "    donor_data=donor_data,\n",
    "    receiver_data=receiver_data_without_targets,\n",
    "    predictors=predictors,\n",
    "    imputed_variables=imputed_variables,\n",
    "    models=custom_models,\n",
    "    hyperparameters=custom_hyperparameters,\n",
    "    k_folds=5,\n",
    ")\n",
    "\n",
    "advanced_imputations[0.5]"
   ]
  }
 ],
 "metadata": {
  "kernelspec": {
   "display_name": "microimpute",
   "language": "python",
   "name": "python3"
  },
  "language_info": {
   "codemirror_mode": {
    "name": "ipython",
    "version": 3
   },
   "file_extension": ".py",
   "mimetype": "text/x-python",
   "name": "python",
   "nbconvert_exporter": "python",
   "pygments_lexer": "ipython3",
   "version": "3.11.11"
  }
 },
 "nbformat": 4,
 "nbformat_minor": 4
}
