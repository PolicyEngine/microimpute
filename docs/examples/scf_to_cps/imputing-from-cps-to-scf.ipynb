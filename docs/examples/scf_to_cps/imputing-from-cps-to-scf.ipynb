{
 "cells": [
  {
   "cell_type": "markdown",
   "id": "993697e6",
   "metadata": {},
   "source": [
    "# Imputing wealth from the SCF to the CPS\n",
    "\n",
    "This notebook demonstrates how to use the `microimpute` package and specifically the `autoimpute` function to impute wealth variables from the Survey of Consumer Finances (SCF) to the Current Population Survey (CPS).\n",
    "\n",
    "The Survey of Consumer Finances (SCF) is a triennial survey conducted by the Federal Reserve that collects detailed information on U.S. families' balance sheets, income, and demographic characteristics, with a special focus on wealth measures. The Current Population Survey (CPS) is a monthly survey conducted by the Census Bureau that provides comprehensive data on the labor force, employment, unemployment, and demographic characteristics, but lacks detailed wealth information.\n",
    "\n",
    "By using `microimpute`, we can transfer wealth information from the SCF to the CPS, enabling economic analyses that require both detailed labor market and wealth data."
   ]
  },
  {
   "cell_type": "code",
   "execution_count": 12,
   "id": "1c672d6a",
   "metadata": {},
   "outputs": [],
   "source": [
    "import io\n",
    "import logging\n",
    "import zipfile\n",
    "from typing import Dict, List, Optional, Tuple, Union\n",
    "\n",
    "import numpy as np\n",
    "import pandas as pd\n",
    "import requests\n",
    "from pydantic import validate_call\n",
    "from sklearn.model_selection import train_test_split\n",
    "from tqdm import tqdm\n",
    "import warnings\n",
    "\n",
    "from microimpute.config import VALIDATE_CONFIG, VALID_YEARS\n",
    "from microimpute.comparisons import *\n",
    "from microimpute.visualizations import *\n",
    "\n",
    "logger = logging.getLogger(__name__)"
   ]
  },
  {
   "cell_type": "markdown",
   "id": "a5459dc7",
   "metadata": {},
   "source": [
    "## Loading and preparing the SCF and CPS data sets"
   ]
  },
  {
   "cell_type": "code",
   "execution_count": null,
   "id": "ba8f2eec",
   "metadata": {},
   "outputs": [],
   "source": [
    "@validate_call(config=VALIDATE_CONFIG)\n",
    "def scf_url(year: int, VALID_YEARS: List[int] = VALID_YEARS) -> str:\n",
    "    \"\"\"Return the URL of the SCF summary microdata zip file for a year.\n",
    "\n",
    "    Args:\n",
    "        year: Year of SCF summary microdata to retrieve.\n",
    "\n",
    "    Returns:\n",
    "        URL of summary microdata zip file for the given year.\n",
    "\n",
    "    Raises:\n",
    "        ValueError: If the year is not in VALID_YEARS.\n",
    "    \"\"\"\n",
    "    logger.debug(f\"Generating SCF URL for year {year}\")\n",
    "\n",
    "    if year not in VALID_YEARS:\n",
    "        logger.error(\n",
    "            f\"Invalid SCF year: {year}. Valid years are {VALID_YEARS}\"\n",
    "        )\n",
    "        raise ValueError(\n",
    "            f\"The SCF is not available for {year}. Valid years are {VALID_YEARS}\"\n",
    "        )\n",
    "\n",
    "    url = f\"https://www.federalreserve.gov/econres/files/scfp{year}s.zip\"\n",
    "    logger.debug(f\"Generated URL: {url}\")\n",
    "    return url\n",
    "\n",
    "\n",
    "@validate_call(config=VALIDATE_CONFIG)\n",
    "def load_scf(\n",
    "    years: Optional[Union[int, List[int]]] = VALID_YEARS,\n",
    "    columns: Optional[List[str]] = None,\n",
    ") -> pd.DataFrame:\n",
    "    \"\"\"Load Survey of Consumer Finances data for specified years and columns.\n",
    "\n",
    "    Args:\n",
    "        years: Year or list of years to load data for.\n",
    "        columns: List of column names to load.\n",
    "\n",
    "    Returns:\n",
    "        DataFrame containing the requested data.\n",
    "\n",
    "    Raises:\n",
    "        ValueError: If no Stata files are found in the downloaded zip\n",
    "            or invalid parameters\n",
    "        RuntimeError: If there's a network error or a problem processing\n",
    "            the downloaded data\n",
    "    \"\"\"\n",
    "\n",
    "    logger.info(f\"Loading SCF data with years={years}\")\n",
    "\n",
    "    try:\n",
    "        # Identify years for download\n",
    "        if years is None:\n",
    "            years = VALID_YEARS\n",
    "            logger.warning(f\"Using default years: {years}\")\n",
    "\n",
    "        if isinstance(years, int):\n",
    "            years = [years]\n",
    "\n",
    "        # Validate all years are valid\n",
    "        invalid_years = [year for year in years if year not in VALID_YEARS]\n",
    "        if invalid_years:\n",
    "            logger.error(f\"Invalid years specified: {invalid_years}\")\n",
    "            raise ValueError(\n",
    "                f\"Invalid years: {invalid_years}. Valid years are {VALID_YEARS}\"\n",
    "            )\n",
    "\n",
    "        all_data: List[pd.DataFrame] = []\n",
    "\n",
    "        for year in tqdm(years):\n",
    "            logger.info(f\"Processing data for year {year}\")\n",
    "            try:\n",
    "                # Download zip file\n",
    "                logger.debug(f\"Downloading SCF data for year {year}\")\n",
    "                url = scf_url(year)\n",
    "                try:\n",
    "                    response = requests.get(url, timeout=60)\n",
    "                    response.raise_for_status()  # Raise an error for bad responses\n",
    "                except requests.exceptions.RequestException as e:\n",
    "                    logger.error(\n",
    "                        f\"Network error downloading SCF data for year {year}: {str(e)}\"\n",
    "                    )\n",
    "                    raise RuntimeError(\n",
    "                        f\"Failed to download SCF data for year {year}\"\n",
    "                    ) from e\n",
    "\n",
    "                # Process zip file\n",
    "                try:\n",
    "                    logger.debug(\"Creating zipfile from downloaded content\")\n",
    "                    z = zipfile.ZipFile(io.BytesIO(response.content))\n",
    "\n",
    "                    # Find the .dta file in the zip\n",
    "                    dta_files: List[str] = [\n",
    "                        f for f in z.namelist() if f.endswith(\".dta\")\n",
    "                    ]\n",
    "                    if not dta_files:\n",
    "                        logger.error(\n",
    "                            f\"No Stata files found in zip for year {year}\"\n",
    "                        )\n",
    "                        raise ValueError(\n",
    "                            f\"No Stata files found in zip for year {year}\"\n",
    "                        )\n",
    "\n",
    "                    logger.debug(f\"Found Stata files: {dta_files}\")\n",
    "\n",
    "                    # Read the Stata file\n",
    "                    try:\n",
    "                        logger.debug(f\"Reading Stata file: {dta_files[0]}\")\n",
    "                        with z.open(dta_files[0]) as f:\n",
    "                            df = pd.read_stata(\n",
    "                                io.BytesIO(f.read()), columns=columns\n",
    "                            )\n",
    "                            logger.debug(\n",
    "                                f\"Read DataFrame with shape {df.shape}\"\n",
    "                            )\n",
    "\n",
    "                        # Ensure 'wgt' is included\n",
    "                        if (\n",
    "                            columns is not None\n",
    "                            and \"wgt\" not in df.columns\n",
    "                            and \"wgt\" not in columns\n",
    "                        ):\n",
    "                            logger.debug(\"Re-reading with 'wgt' column added\")\n",
    "                            # Re-read to include weights\n",
    "                            with z.open(dta_files[0]) as f:\n",
    "                                cols_with_weight: List[str] = list(\n",
    "                                    set(columns) | {\"wgt\"}\n",
    "                                )\n",
    "                                df = pd.read_stata(\n",
    "                                    io.BytesIO(f.read()),\n",
    "                                    columns=cols_with_weight,\n",
    "                                )\n",
    "                                logger.debug(\n",
    "                                    f\"Re-read DataFrame with shape {df.shape}\"\n",
    "                                )\n",
    "                    except Exception as e:\n",
    "                        logger.error(\n",
    "                            f\"Error reading Stata file for year {year}: {str(e)}\"\n",
    "                        )\n",
    "                        raise RuntimeError(\n",
    "                            f\"Failed to process Stata file for year {year}\"\n",
    "                        ) from e\n",
    "\n",
    "                except zipfile.BadZipFile as e:\n",
    "                    logger.error(f\"Bad zip file for year {year}: {str(e)}\")\n",
    "                    raise RuntimeError(\n",
    "                        f\"Downloaded zip file is corrupt for year {year}\"\n",
    "                    ) from e\n",
    "\n",
    "                # Add year column\n",
    "                df[\"year\"] = year\n",
    "                logger.info(\n",
    "                    f\"Successfully processed data for year {year}, shape: {df.shape}\"\n",
    "                )\n",
    "                all_data.append(df)\n",
    "\n",
    "            except Exception as e:\n",
    "                logger.error(f\"Error processing year {year}: {str(e)}\")\n",
    "                raise\n",
    "\n",
    "        # Combine all years\n",
    "        logger.debug(f\"Combining data from {len(all_data)} years\")\n",
    "        if len(all_data) > 1:\n",
    "            result = pd.concat(all_data)\n",
    "            logger.info(\n",
    "                f\"Combined data from {len(years)} years, final shape: {result.shape}\"\n",
    "            )\n",
    "            return result\n",
    "        else:\n",
    "            logger.info(\n",
    "                f\"Returning data for single year, shape: {all_data[0].shape}\"\n",
    "            )\n",
    "            return all_data[0]\n",
    "\n",
    "    except Exception as e:\n",
    "        logger.error(f\"Error in _load: {str(e)}\")\n",
    "        raise\n",
    "\n",
    "\n",
    "@validate_call(config=VALIDATE_CONFIG)\n",
    "def prepare_scf_data(\n",
    "    full_data: bool = False, years: Optional[Union[int, List[int]]] = None\n",
    ") -> Union[\n",
    "    Tuple[pd.DataFrame, List[str], List[str], dict],  # when full_data=True\n",
    "    Tuple[\n",
    "        pd.DataFrame, pd.DataFrame, List[str], List[str], dict\n",
    "    ],  # when full_data=False\n",
    "]:\n",
    "    \"\"\"Preprocess the Survey of Consumer Finances data for model training and testing.\n",
    "\n",
    "    Args:\n",
    "        full_data: Whether to return the complete dataset without splitting.\n",
    "        years: Year or list of years to load data for.\n",
    "\n",
    "    Returns:\n",
    "        Different tuple formats depending on the value of full_data:\n",
    "          - If full_data=True: (data, predictor_columns, imputed_columns, dummy_info)\n",
    "          - If full_data=False: (train_data, test_data,\n",
    "                predictor_columns, imputed_columns, dummy_info)\n",
    "\n",
    "        Where dummy_info is a dictionary with information about dummy variables created from string columns.\n",
    "\n",
    "    Raises:\n",
    "        ValueError: If required columns are missing from the data\n",
    "        RuntimeError: If data processing fails\n",
    "    \"\"\"\n",
    "    logger.info(\n",
    "        f\"Preparing SCF data with full_data={full_data}, years={years}\"\n",
    "    )\n",
    "\n",
    "    try:\n",
    "        # Load the raw data\n",
    "        logger.debug(\"Loading SCF data\")\n",
    "        data = load_scf(years=years)\n",
    "\n",
    "        scf_marital_mapping = {\n",
    "            1: 1,  # Married - civilian spouse present -> Married\n",
    "            2: 5,  # Living with partner -> Never Married\n",
    "            3: 2,  # Separated -> Separated\n",
    "            4: 3,  # Divorced -> Divorced\n",
    "            5: 4,  # Widowed -> Widowed\n",
    "            6: 5,  # Never Married -> Never Married\n",
    "        }\n",
    "\n",
    "        # Apply the mapping to recode the marital status values\n",
    "        data[\"married\"] = np.vectorize(scf_marital_mapping.get)(\n",
    "            data[\"married\"]\n",
    "        )\n",
    "\n",
    "        # Define columns needed for analysis\n",
    "        # predictors shared with cps data\n",
    "        PREDICTORS: List[str] = [\n",
    "            \"hhsex\",  # sex of head of household\n",
    "            \"age\",  # age of respondent (hoh)\n",
    "            \"married\",  # marital status of respondent (hoh)\n",
    "            \"kids\",  # number of children in household\n",
    "            \"race\",  # race of respondent (hoh)\n",
    "            \"income\",  # total annual income of household\n",
    "            \"wageinc\",  # income from wages and salaries\n",
    "            \"bussefarminc\",  # income from business, self-employment or farm\n",
    "            \"intdivinc\",  # income from interest and dividends\n",
    "            \"ssretinc\",  # income from social security and retirement accounts\n",
    "        ]\n",
    "\n",
    "        IMPUTED_VARIABLES: List[str] = [\"networth\"]\n",
    "\n",
    "        # Validate that all required columns exist in the data\n",
    "        missing_columns = [\n",
    "            col\n",
    "            for col in PREDICTORS + IMPUTED_VARIABLES\n",
    "            if col not in data.columns\n",
    "        ]\n",
    "        if missing_columns:\n",
    "            logger.error(\n",
    "                f\"Required columns missing from SCF data: {missing_columns}\"\n",
    "            )\n",
    "            raise ValueError(\n",
    "                f\"Required columns missing from SCF data: {missing_columns}\"\n",
    "            )\n",
    "\n",
    "        logger.debug(\n",
    "            f\"Selecting {len(PREDICTORS)} predictors and {len(IMPUTED_VARIABLES)} imputation variables\"\n",
    "        )\n",
    "        data = data[PREDICTORS + IMPUTED_VARIABLES]\n",
    "        logger.debug(f\"Data shape after column selection: {data.shape}\")\n",
    "\n",
    "        if full_data:\n",
    "            logger.info(\"Processing full dataset without splitting\")\n",
    "            data, dummy_info = preprocess_data(data, full_data=True)\n",
    "            logger.info(\n",
    "                f\"Returning full processed dataset with shape {data.shape}\"\n",
    "            )\n",
    "            return data, PREDICTORS, IMPUTED_VARIABLES, dummy_info\n",
    "        else:\n",
    "            logger.info(\"Splitting data into train and test sets\")\n",
    "            X_train, X_test, dummy_info = preprocess_data(data)\n",
    "            logger.info(\n",
    "                f\"Train set shape: {X_train.shape}, Test set shape: {X_test.shape}\"\n",
    "            )\n",
    "            return X_train, X_test, PREDICTORS, IMPUTED_VARIABLES, dummy_info\n",
    "\n",
    "    except Exception as e:\n",
    "        logger.error(f\"Error in prepare_scf_data: {str(e)}\")\n",
    "        raise RuntimeError(f\"Failed to prepare SCF data: {str(e)}\") from e"
   ]
  },
  {
   "cell_type": "code",
   "execution_count": 3,
   "id": "64f2e87d",
   "metadata": {},
   "outputs": [],
   "source": [
    "predictors = [\n",
    "    \"hhsex\",  # sex of head of household\n",
    "    \"age\",  # age of respondent (hoh)\n",
    "    \"married\",  # marital status of respondent (hoh)\n",
    "    \"kids\",  # number of children in household\n",
    "    \"race\",  # race of respondent (hoh)\n",
    "    \"income\",  # total annual income of household\n",
    "    \"wageinc\",  # income from wages and salaries\n",
    "    \"bussefarminc\",  # income from business, self-employment or farm\n",
    "    \"intdivinc\",  # income from interest and dividends\n",
    "    \"ssretinc\",  # income from social security and retirement accounts\n",
    "]\n",
    "\n",
    "imputed_variables = [\"networth\"]"
   ]
  },
  {
   "cell_type": "code",
   "execution_count": null,
   "id": "ae3467f7",
   "metadata": {},
   "outputs": [
    {
     "name": "stderr",
     "output_type": "stream",
     "text": [
      "100%|██████████| 1/1 [00:00<00:00,  1.65it/s]\n"
     ]
    }
   ],
   "source": [
    "scf_data = load_scf(2022)\n",
    "scf_data = scf_data[predictors + imputed_variables]\n",
    "scf_marital_mapping = {\n",
    "    1: 1,  # Married - civilian spouse present -> Married\n",
    "    2: 5,  # Living with partner -> Never Married\n",
    "    3: 2,  # Separated -> Separated\n",
    "    4: 3,  # Divorced -> Divorced\n",
    "    5: 4,  # Widowed -> Widowed\n",
    "    6: 5,  # Never Married -> Never Married\n",
    "}\n",
    "\n",
    "# Apply the mapping to recode the marital status values\n",
    "scf_data[\"married\"] = np.vectorize(scf_marital_mapping.get)(\n",
    "    scf_data[\"married\"]\n",
    ")"
   ]
  },
  {
   "cell_type": "code",
   "execution_count": 5,
   "id": "bf8f334d",
   "metadata": {},
   "outputs": [
    {
     "name": "stdout",
     "output_type": "stream",
     "text": [
      "['hhsex', 'age', 'married', 'kids', 'race', 'income', 'wageinc', 'bussefarminc', 'intdivinc', 'ssretinc']\n"
     ]
    },
    {
     "data": {
      "text/html": [
       "<div>\n",
       "<style scoped>\n",
       "    .dataframe tbody tr th:only-of-type {\n",
       "        vertical-align: middle;\n",
       "    }\n",
       "\n",
       "    .dataframe tbody tr th {\n",
       "        vertical-align: top;\n",
       "    }\n",
       "\n",
       "    .dataframe thead th {\n",
       "        text-align: right;\n",
       "    }\n",
       "</style>\n",
       "<table border=\"1\" class=\"dataframe\">\n",
       "  <thead>\n",
       "    <tr style=\"text-align: right;\">\n",
       "      <th></th>\n",
       "      <th>hhsex</th>\n",
       "      <th>age</th>\n",
       "      <th>married</th>\n",
       "      <th>kids</th>\n",
       "      <th>race</th>\n",
       "      <th>income</th>\n",
       "      <th>wageinc</th>\n",
       "      <th>bussefarminc</th>\n",
       "      <th>intdivinc</th>\n",
       "      <th>ssretinc</th>\n",
       "      <th>networth</th>\n",
       "    </tr>\n",
       "  </thead>\n",
       "  <tbody>\n",
       "    <tr>\n",
       "      <th>0</th>\n",
       "      <td>2</td>\n",
       "      <td>70</td>\n",
       "      <td>5</td>\n",
       "      <td>2</td>\n",
       "      <td>1</td>\n",
       "      <td>38804.734469</td>\n",
       "      <td>0.000000</td>\n",
       "      <td>0.000000</td>\n",
       "      <td>54.045591</td>\n",
       "      <td>38804.734469</td>\n",
       "      <td>762100.0</td>\n",
       "    </tr>\n",
       "    <tr>\n",
       "      <th>1</th>\n",
       "      <td>2</td>\n",
       "      <td>70</td>\n",
       "      <td>5</td>\n",
       "      <td>2</td>\n",
       "      <td>1</td>\n",
       "      <td>38264.278557</td>\n",
       "      <td>0.000000</td>\n",
       "      <td>0.000000</td>\n",
       "      <td>54.045591</td>\n",
       "      <td>37183.366733</td>\n",
       "      <td>854300.0</td>\n",
       "    </tr>\n",
       "    <tr>\n",
       "      <th>2</th>\n",
       "      <td>2</td>\n",
       "      <td>70</td>\n",
       "      <td>5</td>\n",
       "      <td>2</td>\n",
       "      <td>1</td>\n",
       "      <td>36102.454910</td>\n",
       "      <td>0.000000</td>\n",
       "      <td>0.000000</td>\n",
       "      <td>54.045591</td>\n",
       "      <td>35021.543086</td>\n",
       "      <td>678200.0</td>\n",
       "    </tr>\n",
       "    <tr>\n",
       "      <th>3</th>\n",
       "      <td>2</td>\n",
       "      <td>70</td>\n",
       "      <td>5</td>\n",
       "      <td>2</td>\n",
       "      <td>1</td>\n",
       "      <td>33508.266533</td>\n",
       "      <td>0.000000</td>\n",
       "      <td>0.000000</td>\n",
       "      <td>54.045591</td>\n",
       "      <td>32427.354709</td>\n",
       "      <td>279600.0</td>\n",
       "    </tr>\n",
       "    <tr>\n",
       "      <th>4</th>\n",
       "      <td>2</td>\n",
       "      <td>70</td>\n",
       "      <td>5</td>\n",
       "      <td>2</td>\n",
       "      <td>1</td>\n",
       "      <td>35561.998998</td>\n",
       "      <td>0.000000</td>\n",
       "      <td>0.000000</td>\n",
       "      <td>54.045591</td>\n",
       "      <td>35561.998998</td>\n",
       "      <td>602600.0</td>\n",
       "    </tr>\n",
       "    <tr>\n",
       "      <th>5</th>\n",
       "      <td>1</td>\n",
       "      <td>46</td>\n",
       "      <td>5</td>\n",
       "      <td>0</td>\n",
       "      <td>1</td>\n",
       "      <td>224829.659319</td>\n",
       "      <td>9836.297595</td>\n",
       "      <td>215101.452906</td>\n",
       "      <td>0.000000</td>\n",
       "      <td>0.000000</td>\n",
       "      <td>721800.0</td>\n",
       "    </tr>\n",
       "    <tr>\n",
       "      <th>6</th>\n",
       "      <td>1</td>\n",
       "      <td>46</td>\n",
       "      <td>5</td>\n",
       "      <td>0</td>\n",
       "      <td>1</td>\n",
       "      <td>224829.659319</td>\n",
       "      <td>9836.297595</td>\n",
       "      <td>215101.452906</td>\n",
       "      <td>0.000000</td>\n",
       "      <td>0.000000</td>\n",
       "      <td>723800.0</td>\n",
       "    </tr>\n",
       "    <tr>\n",
       "      <th>7</th>\n",
       "      <td>1</td>\n",
       "      <td>46</td>\n",
       "      <td>5</td>\n",
       "      <td>0</td>\n",
       "      <td>1</td>\n",
       "      <td>224829.659319</td>\n",
       "      <td>9944.388778</td>\n",
       "      <td>215101.452906</td>\n",
       "      <td>0.000000</td>\n",
       "      <td>0.000000</td>\n",
       "      <td>721400.0</td>\n",
       "    </tr>\n",
       "    <tr>\n",
       "      <th>8</th>\n",
       "      <td>1</td>\n",
       "      <td>46</td>\n",
       "      <td>5</td>\n",
       "      <td>0</td>\n",
       "      <td>1</td>\n",
       "      <td>224829.659319</td>\n",
       "      <td>9836.297595</td>\n",
       "      <td>215101.452906</td>\n",
       "      <td>0.000000</td>\n",
       "      <td>0.000000</td>\n",
       "      <td>724300.0</td>\n",
       "    </tr>\n",
       "    <tr>\n",
       "      <th>9</th>\n",
       "      <td>1</td>\n",
       "      <td>46</td>\n",
       "      <td>5</td>\n",
       "      <td>0</td>\n",
       "      <td>1</td>\n",
       "      <td>224829.659319</td>\n",
       "      <td>9836.297595</td>\n",
       "      <td>215101.452906</td>\n",
       "      <td>0.000000</td>\n",
       "      <td>0.000000</td>\n",
       "      <td>722600.0</td>\n",
       "    </tr>\n",
       "    <tr>\n",
       "      <th>10</th>\n",
       "      <td>1</td>\n",
       "      <td>68</td>\n",
       "      <td>1</td>\n",
       "      <td>0</td>\n",
       "      <td>1</td>\n",
       "      <td>445335.671343</td>\n",
       "      <td>0.000000</td>\n",
       "      <td>853.920341</td>\n",
       "      <td>326651.553106</td>\n",
       "      <td>76744.739479</td>\n",
       "      <td>43597590.0</td>\n",
       "    </tr>\n",
       "    <tr>\n",
       "      <th>11</th>\n",
       "      <td>1</td>\n",
       "      <td>68</td>\n",
       "      <td>1</td>\n",
       "      <td>0</td>\n",
       "      <td>1</td>\n",
       "      <td>461549.348697</td>\n",
       "      <td>0.000000</td>\n",
       "      <td>853.920341</td>\n",
       "      <td>321030.811623</td>\n",
       "      <td>95120.240481</td>\n",
       "      <td>44451510.0</td>\n",
       "    </tr>\n",
       "    <tr>\n",
       "      <th>12</th>\n",
       "      <td>1</td>\n",
       "      <td>68</td>\n",
       "      <td>1</td>\n",
       "      <td>0</td>\n",
       "      <td>1</td>\n",
       "      <td>469115.731463</td>\n",
       "      <td>0.000000</td>\n",
       "      <td>853.920341</td>\n",
       "      <td>318577.141784</td>\n",
       "      <td>98362.975952</td>\n",
       "      <td>41056890.0</td>\n",
       "    </tr>\n",
       "    <tr>\n",
       "      <th>13</th>\n",
       "      <td>1</td>\n",
       "      <td>68</td>\n",
       "      <td>1</td>\n",
       "      <td>0</td>\n",
       "      <td>1</td>\n",
       "      <td>444254.759519</td>\n",
       "      <td>0.000000</td>\n",
       "      <td>853.920341</td>\n",
       "      <td>305465.681363</td>\n",
       "      <td>95120.240481</td>\n",
       "      <td>44730180.0</td>\n",
       "    </tr>\n",
       "    <tr>\n",
       "      <th>14</th>\n",
       "      <td>1</td>\n",
       "      <td>68</td>\n",
       "      <td>1</td>\n",
       "      <td>0</td>\n",
       "      <td>1</td>\n",
       "      <td>502623.997996</td>\n",
       "      <td>0.000000</td>\n",
       "      <td>853.920341</td>\n",
       "      <td>381994.238477</td>\n",
       "      <td>72421.092184</td>\n",
       "      <td>43740180.0</td>\n",
       "    </tr>\n",
       "    <tr>\n",
       "      <th>15</th>\n",
       "      <td>2</td>\n",
       "      <td>74</td>\n",
       "      <td>5</td>\n",
       "      <td>0</td>\n",
       "      <td>1</td>\n",
       "      <td>152408.567134</td>\n",
       "      <td>0.000000</td>\n",
       "      <td>0.000000</td>\n",
       "      <td>12970.941884</td>\n",
       "      <td>139437.625251</td>\n",
       "      <td>2203000.0</td>\n",
       "    </tr>\n",
       "    <tr>\n",
       "      <th>16</th>\n",
       "      <td>2</td>\n",
       "      <td>74</td>\n",
       "      <td>5</td>\n",
       "      <td>0</td>\n",
       "      <td>1</td>\n",
       "      <td>149165.831663</td>\n",
       "      <td>0.000000</td>\n",
       "      <td>0.000000</td>\n",
       "      <td>9512.024048</td>\n",
       "      <td>139437.625251</td>\n",
       "      <td>2006000.0</td>\n",
       "    </tr>\n",
       "    <tr>\n",
       "      <th>17</th>\n",
       "      <td>2</td>\n",
       "      <td>74</td>\n",
       "      <td>5</td>\n",
       "      <td>0</td>\n",
       "      <td>1</td>\n",
       "      <td>145923.096192</td>\n",
       "      <td>0.000000</td>\n",
       "      <td>0.000000</td>\n",
       "      <td>6377.379760</td>\n",
       "      <td>139437.625251</td>\n",
       "      <td>2000000.0</td>\n",
       "    </tr>\n",
       "    <tr>\n",
       "      <th>18</th>\n",
       "      <td>2</td>\n",
       "      <td>74</td>\n",
       "      <td>5</td>\n",
       "      <td>0</td>\n",
       "      <td>1</td>\n",
       "      <td>145923.096192</td>\n",
       "      <td>0.000000</td>\n",
       "      <td>0.000000</td>\n",
       "      <td>6377.379760</td>\n",
       "      <td>139437.625251</td>\n",
       "      <td>2354000.0</td>\n",
       "    </tr>\n",
       "    <tr>\n",
       "      <th>19</th>\n",
       "      <td>2</td>\n",
       "      <td>74</td>\n",
       "      <td>5</td>\n",
       "      <td>0</td>\n",
       "      <td>1</td>\n",
       "      <td>144842.184369</td>\n",
       "      <td>0.000000</td>\n",
       "      <td>0.000000</td>\n",
       "      <td>5404.559118</td>\n",
       "      <td>139437.625251</td>\n",
       "      <td>2000000.0</td>\n",
       "    </tr>\n",
       "  </tbody>\n",
       "</table>\n",
       "</div>"
      ],
      "text/plain": [
       "    hhsex  age  married  kids  race         income      wageinc  \\\n",
       "0       2   70        5     2     1   38804.734469     0.000000   \n",
       "1       2   70        5     2     1   38264.278557     0.000000   \n",
       "2       2   70        5     2     1   36102.454910     0.000000   \n",
       "3       2   70        5     2     1   33508.266533     0.000000   \n",
       "4       2   70        5     2     1   35561.998998     0.000000   \n",
       "5       1   46        5     0     1  224829.659319  9836.297595   \n",
       "6       1   46        5     0     1  224829.659319  9836.297595   \n",
       "7       1   46        5     0     1  224829.659319  9944.388778   \n",
       "8       1   46        5     0     1  224829.659319  9836.297595   \n",
       "9       1   46        5     0     1  224829.659319  9836.297595   \n",
       "10      1   68        1     0     1  445335.671343     0.000000   \n",
       "11      1   68        1     0     1  461549.348697     0.000000   \n",
       "12      1   68        1     0     1  469115.731463     0.000000   \n",
       "13      1   68        1     0     1  444254.759519     0.000000   \n",
       "14      1   68        1     0     1  502623.997996     0.000000   \n",
       "15      2   74        5     0     1  152408.567134     0.000000   \n",
       "16      2   74        5     0     1  149165.831663     0.000000   \n",
       "17      2   74        5     0     1  145923.096192     0.000000   \n",
       "18      2   74        5     0     1  145923.096192     0.000000   \n",
       "19      2   74        5     0     1  144842.184369     0.000000   \n",
       "\n",
       "     bussefarminc      intdivinc       ssretinc    networth  \n",
       "0        0.000000      54.045591   38804.734469    762100.0  \n",
       "1        0.000000      54.045591   37183.366733    854300.0  \n",
       "2        0.000000      54.045591   35021.543086    678200.0  \n",
       "3        0.000000      54.045591   32427.354709    279600.0  \n",
       "4        0.000000      54.045591   35561.998998    602600.0  \n",
       "5   215101.452906       0.000000       0.000000    721800.0  \n",
       "6   215101.452906       0.000000       0.000000    723800.0  \n",
       "7   215101.452906       0.000000       0.000000    721400.0  \n",
       "8   215101.452906       0.000000       0.000000    724300.0  \n",
       "9   215101.452906       0.000000       0.000000    722600.0  \n",
       "10     853.920341  326651.553106   76744.739479  43597590.0  \n",
       "11     853.920341  321030.811623   95120.240481  44451510.0  \n",
       "12     853.920341  318577.141784   98362.975952  41056890.0  \n",
       "13     853.920341  305465.681363   95120.240481  44730180.0  \n",
       "14     853.920341  381994.238477   72421.092184  43740180.0  \n",
       "15       0.000000   12970.941884  139437.625251   2203000.0  \n",
       "16       0.000000    9512.024048  139437.625251   2006000.0  \n",
       "17       0.000000    6377.379760  139437.625251   2000000.0  \n",
       "18       0.000000    6377.379760  139437.625251   2354000.0  \n",
       "19       0.000000    5404.559118  139437.625251   2000000.0  "
      ]
     },
     "execution_count": 5,
     "metadata": {},
     "output_type": "execute_result"
    }
   ],
   "source": [
    "print(predictors)\n",
    "scf_data.head(20)"
   ]
  },
  {
   "cell_type": "code",
   "execution_count": 6,
   "id": "6b87186b",
   "metadata": {},
   "outputs": [],
   "source": [
    "import h5py\n",
    "import pandas as pd\n",
    "import numpy as np\n",
    "\n",
    "file_path = \"/Users/movil1/Desktop/PYTHONJOBS/PolicyEngine/microimpute/docs/examples/data/Census CPS 2022.h5\"\n",
    "\n",
    "household_df = pd.read_hdf(file_path, key=\"household\")\n",
    "household_df = household_df.set_index(\"H_SEQ\")\n",
    "person_df = pd.read_hdf(file_path, key=\"person\")\n",
    "person_df = person_df.set_index(\"PH_SEQ\")\n",
    "cps_data = pd.DataFrame()\n",
    "cps_data[\"household_id\"] = household_df.index\n",
    "person_df[\"is_household_head\"] = person_df.P_SEQ == 1\n",
    "cps_data[\"hhsex\"] = (\n",
    "    person_df[person_df.is_household_head].loc[household_df.index].A_SEX.values\n",
    ")\n",
    "cps_data[\"age\"] = (\n",
    "    person_df[person_df.is_household_head].loc[household_df.index].A_AGE.values\n",
    ")\n",
    "cps_data[\"married\"] = (\n",
    "    person_df[person_df.is_household_head]\n",
    "    .loc[household_df.index]\n",
    "    .A_MARITL.values\n",
    ")\n",
    "person_df[\"is_child\"] = person_df.A_AGE < 18\n",
    "cps_data[\"kids\"] = (\n",
    "    person_df.groupby(person_df.index)\n",
    "    .is_child.sum()\n",
    "    .loc[household_df.index]\n",
    "    .values\n",
    ")\n",
    "cps_data[\"race\"] = (\n",
    "    person_df[person_df.is_household_head]\n",
    "    .loc[household_df.index]\n",
    "    .PRDTRACE.values\n",
    ")\n",
    "cps_data[\"income\"] = household_df.HTOTVAL.values\n",
    "cps_data[\"wageinc\"] = household_df.HWSVAL.values\n",
    "cps_data[\"bussefarminc\"] = (\n",
    "    household_df.HSEVAL.values + household_df.HFRVAL.values\n",
    ")\n",
    "cps_data[\"intdivinc\"] = (\n",
    "    household_df.HINTVAL.values + household_df.HDIVVAL.values\n",
    ")\n",
    "cps_data[\"ssretinc\"] = (\n",
    "    household_df.HSSVAL.values\n",
    "    + household_df.HSSIVAL.values\n",
    "    + household_df.HPENVAL.values\n",
    ")"
   ]
  },
  {
   "cell_type": "code",
   "execution_count": 7,
   "id": "7ada8e57",
   "metadata": {},
   "outputs": [],
   "source": [
    "cps_marital_mapping = {\n",
    "    1: 1,  # Married - civilian spouse present -> Married\n",
    "    2: 1,  # Married - AF spouse present -> Married\n",
    "    3: 1,  # Married - spouse absent -> Married\n",
    "    4: 4,  # Widowed -> Widowed\n",
    "    5: 3,  # Divorced -> Divorced\n",
    "    6: 2,  # Separated -> Separated\n",
    "    7: 5,  # Never married -> Never married\n",
    "}\n",
    "\n",
    "# Apply the mapping to recode the marital status values\n",
    "cps_data[\"married\"] = np.vectorize(cps_marital_mapping.get)(\n",
    "    cps_data[\"married\"]\n",
    ")"
   ]
  },
  {
   "cell_type": "code",
   "execution_count": 8,
   "id": "8d8c8af5",
   "metadata": {},
   "outputs": [],
   "source": [
    "cps_race_mapping = {\n",
    "    1: 1,  # White only -> WHITE\n",
    "    2: 2,  # Black only -> BLACK/AFRICAN-AMERICAN\n",
    "    3: 5,  # American Indian, Alaskan Native only -> AMERICAN INDIAN/ALASKA NATIVE\n",
    "    4: 4,  # Asian only -> ASIAN\n",
    "    5: 6,  # Hawaiian/Pacific Islander only -> NATIVE HAWAIIAN/PACIFIC ISLANDER\n",
    "    6: 7,  # White-Black -> OTHER\n",
    "    7: 7,  # White-AI -> OTHER\n",
    "    8: 7,  # White-Asian -> OTHER\n",
    "    9: 7,  # White-HP -> OTHER\n",
    "    10: 7,  # Black-AI -> OTHER\n",
    "    11: 7,  # Black-Asian -> OTHER\n",
    "    12: 7,  # Black-HP -> OTHER\n",
    "    13: 7,  # AI-Asian -> OTHER\n",
    "    14: 7,  # AI-HP -> OTHER\n",
    "    15: 7,  # Asian-HP -> OTHER\n",
    "    16: 7,  # White-Black-AI -> OTHER\n",
    "    17: 7,  # White-Black-Asian -> OTHER\n",
    "    18: 7,  # White-Black-HP -> OTHER\n",
    "    19: 7,  # White-AI-Asian -> OTHER\n",
    "    20: 7,  # White-AI-HP -> OTHER\n",
    "    21: 7,  # White-Asian-HP -> OTHER\n",
    "    22: 7,  # Black-AI-Asian -> OTHER\n",
    "    23: 7,  # White-Black-AI-Asian -> OTHER\n",
    "    24: 7,  # White-AI-Asian-HP -> OTHER\n",
    "    25: 7,  # Other 3 race comb. -> OTHER\n",
    "    26: 7,  # Other 4 or 5 race comb. -> OTHER\n",
    "}\n",
    "\n",
    "# Apply the mapping to recode the race values\n",
    "cps_data[\"race\"] = np.vectorize(cps_race_mapping.get)(cps_data[\"race\"])"
   ]
  },
  {
   "cell_type": "code",
   "execution_count": 9,
   "id": "61360786",
   "metadata": {},
   "outputs": [
    {
     "data": {
      "text/html": [
       "<div>\n",
       "<style scoped>\n",
       "    .dataframe tbody tr th:only-of-type {\n",
       "        vertical-align: middle;\n",
       "    }\n",
       "\n",
       "    .dataframe tbody tr th {\n",
       "        vertical-align: top;\n",
       "    }\n",
       "\n",
       "    .dataframe thead th {\n",
       "        text-align: right;\n",
       "    }\n",
       "</style>\n",
       "<table border=\"1\" class=\"dataframe\">\n",
       "  <thead>\n",
       "    <tr style=\"text-align: right;\">\n",
       "      <th></th>\n",
       "      <th>household_id</th>\n",
       "      <th>hhsex</th>\n",
       "      <th>age</th>\n",
       "      <th>married</th>\n",
       "      <th>kids</th>\n",
       "      <th>race</th>\n",
       "      <th>income</th>\n",
       "      <th>wageinc</th>\n",
       "      <th>bussefarminc</th>\n",
       "      <th>intdivinc</th>\n",
       "      <th>ssretinc</th>\n",
       "    </tr>\n",
       "  </thead>\n",
       "  <tbody>\n",
       "    <tr>\n",
       "      <th>0</th>\n",
       "      <td>3</td>\n",
       "      <td>2</td>\n",
       "      <td>66</td>\n",
       "      <td>4</td>\n",
       "      <td>0</td>\n",
       "      <td>1</td>\n",
       "      <td>28920</td>\n",
       "      <td>0</td>\n",
       "      <td>0</td>\n",
       "      <td>0</td>\n",
       "      <td>26520</td>\n",
       "    </tr>\n",
       "    <tr>\n",
       "      <th>1</th>\n",
       "      <td>4</td>\n",
       "      <td>2</td>\n",
       "      <td>52</td>\n",
       "      <td>1</td>\n",
       "      <td>0</td>\n",
       "      <td>1</td>\n",
       "      <td>50137</td>\n",
       "      <td>42000</td>\n",
       "      <td>0</td>\n",
       "      <td>1</td>\n",
       "      <td>8136</td>\n",
       "    </tr>\n",
       "    <tr>\n",
       "      <th>2</th>\n",
       "      <td>15</td>\n",
       "      <td>2</td>\n",
       "      <td>78</td>\n",
       "      <td>4</td>\n",
       "      <td>0</td>\n",
       "      <td>1</td>\n",
       "      <td>14713</td>\n",
       "      <td>0</td>\n",
       "      <td>0</td>\n",
       "      <td>1</td>\n",
       "      <td>14712</td>\n",
       "    </tr>\n",
       "    <tr>\n",
       "      <th>3</th>\n",
       "      <td>16</td>\n",
       "      <td>1</td>\n",
       "      <td>65</td>\n",
       "      <td>1</td>\n",
       "      <td>0</td>\n",
       "      <td>1</td>\n",
       "      <td>122446</td>\n",
       "      <td>107000</td>\n",
       "      <td>0</td>\n",
       "      <td>102</td>\n",
       "      <td>15344</td>\n",
       "    </tr>\n",
       "    <tr>\n",
       "      <th>4</th>\n",
       "      <td>17</td>\n",
       "      <td>2</td>\n",
       "      <td>74</td>\n",
       "      <td>1</td>\n",
       "      <td>0</td>\n",
       "      <td>1</td>\n",
       "      <td>44829</td>\n",
       "      <td>0</td>\n",
       "      <td>20000</td>\n",
       "      <td>205</td>\n",
       "      <td>24624</td>\n",
       "    </tr>\n",
       "    <tr>\n",
       "      <th>5</th>\n",
       "      <td>18</td>\n",
       "      <td>1</td>\n",
       "      <td>76</td>\n",
       "      <td>1</td>\n",
       "      <td>0</td>\n",
       "      <td>1</td>\n",
       "      <td>91920</td>\n",
       "      <td>0</td>\n",
       "      <td>0</td>\n",
       "      <td>4500</td>\n",
       "      <td>71820</td>\n",
       "    </tr>\n",
       "    <tr>\n",
       "      <th>6</th>\n",
       "      <td>22</td>\n",
       "      <td>1</td>\n",
       "      <td>63</td>\n",
       "      <td>1</td>\n",
       "      <td>0</td>\n",
       "      <td>1</td>\n",
       "      <td>68500</td>\n",
       "      <td>67000</td>\n",
       "      <td>0</td>\n",
       "      <td>1500</td>\n",
       "      <td>0</td>\n",
       "    </tr>\n",
       "    <tr>\n",
       "      <th>7</th>\n",
       "      <td>23</td>\n",
       "      <td>2</td>\n",
       "      <td>41</td>\n",
       "      <td>5</td>\n",
       "      <td>1</td>\n",
       "      <td>1</td>\n",
       "      <td>5953</td>\n",
       "      <td>0</td>\n",
       "      <td>0</td>\n",
       "      <td>1</td>\n",
       "      <td>0</td>\n",
       "    </tr>\n",
       "    <tr>\n",
       "      <th>8</th>\n",
       "      <td>24</td>\n",
       "      <td>2</td>\n",
       "      <td>52</td>\n",
       "      <td>1</td>\n",
       "      <td>0</td>\n",
       "      <td>1</td>\n",
       "      <td>14400</td>\n",
       "      <td>0</td>\n",
       "      <td>0</td>\n",
       "      <td>0</td>\n",
       "      <td>14400</td>\n",
       "    </tr>\n",
       "    <tr>\n",
       "      <th>9</th>\n",
       "      <td>25</td>\n",
       "      <td>2</td>\n",
       "      <td>85</td>\n",
       "      <td>4</td>\n",
       "      <td>0</td>\n",
       "      <td>1</td>\n",
       "      <td>12843</td>\n",
       "      <td>0</td>\n",
       "      <td>0</td>\n",
       "      <td>2</td>\n",
       "      <td>12841</td>\n",
       "    </tr>\n",
       "    <tr>\n",
       "      <th>10</th>\n",
       "      <td>27</td>\n",
       "      <td>1</td>\n",
       "      <td>71</td>\n",
       "      <td>5</td>\n",
       "      <td>0</td>\n",
       "      <td>1</td>\n",
       "      <td>75951</td>\n",
       "      <td>0</td>\n",
       "      <td>0</td>\n",
       "      <td>1007</td>\n",
       "      <td>50000</td>\n",
       "    </tr>\n",
       "    <tr>\n",
       "      <th>11</th>\n",
       "      <td>28</td>\n",
       "      <td>2</td>\n",
       "      <td>37</td>\n",
       "      <td>1</td>\n",
       "      <td>3</td>\n",
       "      <td>1</td>\n",
       "      <td>148514</td>\n",
       "      <td>70000</td>\n",
       "      <td>80000</td>\n",
       "      <td>1013</td>\n",
       "      <td>0</td>\n",
       "    </tr>\n",
       "    <tr>\n",
       "      <th>12</th>\n",
       "      <td>31</td>\n",
       "      <td>1</td>\n",
       "      <td>60</td>\n",
       "      <td>3</td>\n",
       "      <td>0</td>\n",
       "      <td>1</td>\n",
       "      <td>21242</td>\n",
       "      <td>0</td>\n",
       "      <td>0</td>\n",
       "      <td>1</td>\n",
       "      <td>21241</td>\n",
       "    </tr>\n",
       "    <tr>\n",
       "      <th>13</th>\n",
       "      <td>32</td>\n",
       "      <td>1</td>\n",
       "      <td>57</td>\n",
       "      <td>1</td>\n",
       "      <td>0</td>\n",
       "      <td>1</td>\n",
       "      <td>15225</td>\n",
       "      <td>0</td>\n",
       "      <td>0</td>\n",
       "      <td>825</td>\n",
       "      <td>14400</td>\n",
       "    </tr>\n",
       "    <tr>\n",
       "      <th>14</th>\n",
       "      <td>39</td>\n",
       "      <td>1</td>\n",
       "      <td>67</td>\n",
       "      <td>1</td>\n",
       "      <td>0</td>\n",
       "      <td>1</td>\n",
       "      <td>52644</td>\n",
       "      <td>35002</td>\n",
       "      <td>0</td>\n",
       "      <td>1</td>\n",
       "      <td>17641</td>\n",
       "    </tr>\n",
       "    <tr>\n",
       "      <th>15</th>\n",
       "      <td>41</td>\n",
       "      <td>2</td>\n",
       "      <td>50</td>\n",
       "      <td>1</td>\n",
       "      <td>0</td>\n",
       "      <td>1</td>\n",
       "      <td>32403</td>\n",
       "      <td>0</td>\n",
       "      <td>0</td>\n",
       "      <td>3</td>\n",
       "      <td>32400</td>\n",
       "    </tr>\n",
       "    <tr>\n",
       "      <th>16</th>\n",
       "      <td>57</td>\n",
       "      <td>1</td>\n",
       "      <td>69</td>\n",
       "      <td>1</td>\n",
       "      <td>1</td>\n",
       "      <td>1</td>\n",
       "      <td>177585</td>\n",
       "      <td>118000</td>\n",
       "      <td>0</td>\n",
       "      <td>10193</td>\n",
       "      <td>41412</td>\n",
       "    </tr>\n",
       "    <tr>\n",
       "      <th>17</th>\n",
       "      <td>61</td>\n",
       "      <td>2</td>\n",
       "      <td>76</td>\n",
       "      <td>3</td>\n",
       "      <td>0</td>\n",
       "      <td>1</td>\n",
       "      <td>62643</td>\n",
       "      <td>0</td>\n",
       "      <td>0</td>\n",
       "      <td>1006</td>\n",
       "      <td>58590</td>\n",
       "    </tr>\n",
       "    <tr>\n",
       "      <th>18</th>\n",
       "      <td>70</td>\n",
       "      <td>2</td>\n",
       "      <td>66</td>\n",
       "      <td>1</td>\n",
       "      <td>0</td>\n",
       "      <td>1</td>\n",
       "      <td>210462</td>\n",
       "      <td>0</td>\n",
       "      <td>200000</td>\n",
       "      <td>10</td>\n",
       "      <td>0</td>\n",
       "    </tr>\n",
       "    <tr>\n",
       "      <th>19</th>\n",
       "      <td>73</td>\n",
       "      <td>1</td>\n",
       "      <td>85</td>\n",
       "      <td>1</td>\n",
       "      <td>0</td>\n",
       "      <td>1</td>\n",
       "      <td>79637</td>\n",
       "      <td>5760</td>\n",
       "      <td>0</td>\n",
       "      <td>51</td>\n",
       "      <td>40562</td>\n",
       "    </tr>\n",
       "  </tbody>\n",
       "</table>\n",
       "</div>"
      ],
      "text/plain": [
       "    household_id  hhsex  age  married  kids  race  income  wageinc  \\\n",
       "0              3      2   66        4     0     1   28920        0   \n",
       "1              4      2   52        1     0     1   50137    42000   \n",
       "2             15      2   78        4     0     1   14713        0   \n",
       "3             16      1   65        1     0     1  122446   107000   \n",
       "4             17      2   74        1     0     1   44829        0   \n",
       "5             18      1   76        1     0     1   91920        0   \n",
       "6             22      1   63        1     0     1   68500    67000   \n",
       "7             23      2   41        5     1     1    5953        0   \n",
       "8             24      2   52        1     0     1   14400        0   \n",
       "9             25      2   85        4     0     1   12843        0   \n",
       "10            27      1   71        5     0     1   75951        0   \n",
       "11            28      2   37        1     3     1  148514    70000   \n",
       "12            31      1   60        3     0     1   21242        0   \n",
       "13            32      1   57        1     0     1   15225        0   \n",
       "14            39      1   67        1     0     1   52644    35002   \n",
       "15            41      2   50        1     0     1   32403        0   \n",
       "16            57      1   69        1     1     1  177585   118000   \n",
       "17            61      2   76        3     0     1   62643        0   \n",
       "18            70      2   66        1     0     1  210462        0   \n",
       "19            73      1   85        1     0     1   79637     5760   \n",
       "\n",
       "    bussefarminc  intdivinc  ssretinc  \n",
       "0              0          0     26520  \n",
       "1              0          1      8136  \n",
       "2              0          1     14712  \n",
       "3              0        102     15344  \n",
       "4          20000        205     24624  \n",
       "5              0       4500     71820  \n",
       "6              0       1500         0  \n",
       "7              0          1         0  \n",
       "8              0          0     14400  \n",
       "9              0          2     12841  \n",
       "10             0       1007     50000  \n",
       "11         80000       1013         0  \n",
       "12             0          1     21241  \n",
       "13             0        825     14400  \n",
       "14             0          1     17641  \n",
       "15             0          3     32400  \n",
       "16             0      10193     41412  \n",
       "17             0       1006     58590  \n",
       "18        200000         10         0  \n",
       "19             0         51     40562  "
      ]
     },
     "execution_count": 9,
     "metadata": {},
     "output_type": "execute_result"
    }
   ],
   "source": [
    "cps_data.head(20)"
   ]
  },
  {
   "cell_type": "markdown",
   "id": "f9c19660",
   "metadata": {},
   "source": [
    "# Run AutoImpute"
   ]
  },
  {
   "cell_type": "code",
   "execution_count": null,
   "id": "c7a96f83",
   "metadata": {},
   "outputs": [
    {
     "data": {
      "application/vnd.jupyter.widget-view+json": {
       "model_id": "ed1b8a0e6210453987ced1767e6c8d9c",
       "version_major": 2,
       "version_minor": 0
      },
      "text/plain": [
       "AutoImputation progress:   0%|          | 0/4 [00:00<?, ?it/s]"
      ]
     },
     "metadata": {},
     "output_type": "display_data"
    },
    {
     "data": {
      "application/vnd.jupyter.widget-view+json": {
       "model_id": "340d05d387124ae993b5ad7d7773d803",
       "version_major": 2,
       "version_minor": 0
      },
      "text/plain": [
       "Evaluating models:   0%|          | 0/4 [00:00<?, ?it/s]"
      ]
     },
     "metadata": {},
     "output_type": "display_data"
    },
    {
     "name": "stderr",
     "output_type": "stream",
     "text": [
      "[Parallel(n_jobs=-1)]: Using backend LokyBackend with 8 concurrent workers.\n",
      "/Users/movil1/anaconda3/envs/microimpute/lib/python3.11/site-packages/sklearn/base.py:1389: DataConversionWarning: A column-vector y was passed when a 1d array was expected. Please change the shape of y to (n_samples,), for example using ravel().\n",
      "  return fit_method(estimator, *args, **kwargs)\n",
      "/Users/movil1/anaconda3/envs/microimpute/lib/python3.11/site-packages/sklearn/base.py:1389: DataConversionWarning: A column-vector y was passed when a 1d array was expected. Please change the shape of y to (n_samples,), for example using ravel().\n",
      "  return fit_method(estimator, *args, **kwargs)\n",
      "/Users/movil1/anaconda3/envs/microimpute/lib/python3.11/site-packages/sklearn/base.py:1389: DataConversionWarning: A column-vector y was passed when a 1d array was expected. Please change the shape of y to (n_samples,), for example using ravel().\n",
      "  return fit_method(estimator, *args, **kwargs)\n",
      "/Users/movil1/anaconda3/envs/microimpute/lib/python3.11/site-packages/sklearn/base.py:1389: DataConversionWarning: A column-vector y was passed when a 1d array was expected. Please change the shape of y to (n_samples,), for example using ravel().\n",
      "  return fit_method(estimator, *args, **kwargs)\n",
      "/Users/movil1/anaconda3/envs/microimpute/lib/python3.11/site-packages/sklearn/base.py:1389: DataConversionWarning: A column-vector y was passed when a 1d array was expected. Please change the shape of y to (n_samples,), for example using ravel().\n",
      "  return fit_method(estimator, *args, **kwargs)\n",
      "[Parallel(n_jobs=-1)]: Done   2 out of   5 | elapsed:   32.0s remaining:   48.0s\n",
      "[Parallel(n_jobs=-1)]: Done   3 out of   5 | elapsed:   32.0s remaining:   21.4s\n",
      "[Parallel(n_jobs=-1)]: Done   5 out of   5 | elapsed:   32.2s finished\n",
      "[Parallel(n_jobs=-1)]: Using backend LokyBackend with 8 concurrent workers.\n",
      "[Parallel(n_jobs=-1)]: Batch computation too fast (0.0959620475769043s.) Setting batch_size=2.\n",
      "[Parallel(n_jobs=-1)]: Done   2 out of   5 | elapsed:    0.1s remaining:    0.2s\n",
      "[Parallel(n_jobs=-1)]: Done   3 out of   5 | elapsed:    0.1s remaining:    0.1s\n",
      "[Parallel(n_jobs=-1)]: Done   5 out of   5 | elapsed:    0.1s finished\n",
      "[Parallel(n_jobs=-1)]: Using backend LokyBackend with 8 concurrent workers.\n",
      "/Users/movil1/anaconda3/envs/microimpute/lib/python3.11/site-packages/statsmodels/regression/quantile_regression.py:191: IterationLimitWarning: Maximum number of iterations (1000) reached.\n",
      "  warnings.warn(\"Maximum number of iterations (\" + str(max_iter) +\n",
      "[Parallel(n_jobs=-1)]: Done   2 out of   5 | elapsed:    2.4s remaining:    3.5s\n",
      "[Parallel(n_jobs=-1)]: Done   3 out of   5 | elapsed:    2.8s remaining:    1.9s\n",
      "/Users/movil1/anaconda3/envs/microimpute/lib/python3.11/site-packages/statsmodels/regression/quantile_regression.py:191: IterationLimitWarning: Maximum number of iterations (1000) reached.\n",
      "  warnings.warn(\"Maximum number of iterations (\" + str(max_iter) +\n",
      "[Parallel(n_jobs=-1)]: Done   5 out of   5 | elapsed:    3.6s finished\n",
      "[Parallel(n_jobs=-1)]: Using backend LokyBackend with 8 concurrent workers.\n",
      "[Parallel(n_jobs=-1)]: Done   2 out of   5 | elapsed:  7.8min remaining: 11.8min\n",
      "[Parallel(n_jobs=-1)]: Done   3 out of   5 | elapsed:  7.8min remaining:  5.2min\n",
      "[Parallel(n_jobs=-1)]: Done   5 out of   5 | elapsed:  7.8min finished\n",
      "python(4992) MallocStackLogging: can't turn off malloc stack logging because it was not enabled.\n",
      "python(4993) MallocStackLogging: can't turn off malloc stack logging because it was not enabled.\n",
      "python(4994) MallocStackLogging: can't turn off malloc stack logging because it was not enabled.\n"
     ]
    },
    {
     "name": "stdout",
     "output_type": "stream",
     "text": [
      "Shape of receiver data before imputation: (56839, 11) \n",
      "Shape of receiver data after imputation: (56839, 12)\n"
     ]
    }
   ],
   "source": [
    "warnings.filterwarnings(\"ignore\")\n",
    "\n",
    "# Run the autoimpute process\n",
    "imputations, imputed_data, fitted_model, method_results_df = autoimpute(\n",
    "    donor_data=scf_data,\n",
    "    receiver_data=cps_data,\n",
    "    predictors=predictors,\n",
    "    imputed_variables=imputed_variables,\n",
    "    tune_hyperparameters=True,  # enable automated hyperparameter tuning\n",
    ")\n",
    "\n",
    "print(\n",
    "    f\"Shape of receiver data before imputation: {cps_data.shape} \\nShape of receiver data after imputation: {imputed_data.shape}\"\n",
    ")"
   ]
  },
  {
   "cell_type": "code",
   "execution_count": 11,
   "id": "38693461",
   "metadata": {},
   "outputs": [
    {
     "data": {
      "application/vnd.plotly.v1+json": {
       "config": {
        "plotlyServerURL": "https://plot.ly"
       },
       "data": [
        {
         "alignmentgroup": "True",
         "hovertemplate": "Method=QRF<br>Quantiles=%{x}<br>Test Test Quantile Loss=%{y}<extra></extra>",
         "legendgroup": "QRF",
         "marker": {
          "color": "#636efa",
          "pattern": {
           "shape": ""
          }
         },
         "name": "QRF",
         "offsetgroup": "QRF",
         "orientation": "v",
         "showlegend": true,
         "textposition": "auto",
         "type": "bar",
         "x": [
          "0.05",
          "0.1",
          "0.15",
          "0.2",
          "0.25",
          "0.3",
          "0.35",
          "0.4",
          "0.45",
          "0.5",
          "0.55",
          "0.6",
          "0.65",
          "0.7",
          "0.75",
          "0.8",
          "0.85",
          "0.9",
          "0.95"
         ],
         "xaxis": "x",
         "y": [
          0.007671016984942958,
          0.012467227172769562,
          0.019687032242058373,
          0.022193565167369485,
          0.02585882169072934,
          0.02850013879234764,
          0.029570286146380288,
          0.03172420366359331,
          0.030269504732646245,
          0.03193557662176806,
          0.030382696192240988,
          0.029833206670219502,
          0.028513775508713906,
          0.0267525673177235,
          0.02680946050045137,
          0.02343743305308916,
          0.022515534047926323,
          0.01910410395278322,
          0.012609665306958834
         ],
         "yaxis": "y"
        },
        {
         "alignmentgroup": "True",
         "hovertemplate": "Method=OLS<br>Quantiles=%{x}<br>Test Test Quantile Loss=%{y}<extra></extra>",
         "legendgroup": "OLS",
         "marker": {
          "color": "#EF553B",
          "pattern": {
           "shape": ""
          }
         },
         "name": "OLS",
         "offsetgroup": "OLS",
         "orientation": "v",
         "showlegend": true,
         "textposition": "auto",
         "type": "bar",
         "x": [
          "0.05",
          "0.1",
          "0.15",
          "0.2",
          "0.25",
          "0.3",
          "0.35",
          "0.4",
          "0.45",
          "0.5",
          "0.55",
          "0.6",
          "0.65",
          "0.7",
          "0.75",
          "0.8",
          "0.85",
          "0.9",
          "0.95"
         ],
         "xaxis": "x",
         "y": [
          0.06490120485853171,
          0.09642991814971921,
          0.11545155017762983,
          0.12490006191127292,
          0.12616332270401784,
          0.12027281888370518,
          0.108187601783202,
          0.09360903770660693,
          0.08336028336512152,
          0.08946421262141815,
          0.11127309504538478,
          0.13542408525913632,
          0.15362730168840438,
          0.1648736715203989,
          0.16900284941359403,
          0.16560501798613805,
          0.15380082402548587,
          0.1320798932099541,
          0.09716261507146162
         ],
         "yaxis": "y"
        },
        {
         "alignmentgroup": "True",
         "hovertemplate": "Method=QuantReg<br>Quantiles=%{x}<br>Test Test Quantile Loss=%{y}<extra></extra>",
         "legendgroup": "QuantReg",
         "marker": {
          "color": "#00cc96",
          "pattern": {
           "shape": ""
          }
         },
         "name": "QuantReg",
         "offsetgroup": "QuantReg",
         "orientation": "v",
         "showlegend": true,
         "textposition": "auto",
         "type": "bar",
         "x": [
          "0.05",
          "0.1",
          "0.15",
          "0.2",
          "0.25",
          "0.3",
          "0.35",
          "0.4",
          "0.45",
          "0.5",
          "0.55",
          "0.6",
          "0.65",
          "0.7",
          "0.75",
          "0.8",
          "0.85",
          "0.9",
          "0.95"
         ],
         "xaxis": "x",
         "y": [
          0.00773985987763451,
          0.01489480984320228,
          0.021715144645147972,
          0.028231501379928015,
          0.03417228266887822,
          0.04018898820428442,
          0.045778266838181536,
          0.051048485393422126,
          0.05493465705796776,
          0.058192223961168486,
          0.060729081694941824,
          0.06220738972050114,
          0.06288834246998301,
          0.06292728887053493,
          0.06146514727763116,
          0.058989904561685645,
          0.05384962595155629,
          0.04569734640176133,
          0.03390409213190053
         ],
         "yaxis": "y"
        },
        {
         "alignmentgroup": "True",
         "hovertemplate": "Method=Matching<br>Quantiles=%{x}<br>Test Test Quantile Loss=%{y}<extra></extra>",
         "legendgroup": "Matching",
         "marker": {
          "color": "#ab63fa",
          "pattern": {
           "shape": ""
          }
         },
         "name": "Matching",
         "offsetgroup": "Matching",
         "orientation": "v",
         "showlegend": true,
         "textposition": "auto",
         "type": "bar",
         "x": [
          "0.05",
          "0.1",
          "0.15",
          "0.2",
          "0.25",
          "0.3",
          "0.35",
          "0.4",
          "0.45",
          "0.5",
          "0.55",
          "0.6",
          "0.65",
          "0.7",
          "0.75",
          "0.8",
          "0.85",
          "0.9",
          "0.95"
         ],
         "xaxis": "x",
         "y": [
          0.18529300247348965,
          0.18448870390510513,
          0.18368440533672065,
          0.18288010676833616,
          0.18207580819995167,
          0.18127150963156713,
          0.18046721106318264,
          0.1796629124947981,
          0.17885861392641367,
          0.17805431535802915,
          0.17725001678964464,
          0.17644571822126015,
          0.17564141965287566,
          0.17483712108449115,
          0.17403282251610666,
          0.17322852394772215,
          0.17242422537933763,
          0.17161992681095317,
          0.17081562824256863
         ],
         "yaxis": "y"
        }
       ],
       "layout": {
        "barmode": "group",
        "height": 600,
        "legend": {
         "title": {
          "text": "Method"
         },
         "tracegroupgap": 0
        },
        "shapes": [
         {
          "line": {
           "color": "#636EFA",
           "dash": "dot",
           "width": 2
          },
          "name": "QRF Mean",
          "type": "line",
          "x0": -0.5,
          "x1": 18.5,
          "y0": 0.024201885040248006,
          "y1": 0.024201885040248006
         },
         {
          "line": {
           "color": "#EF553B",
           "dash": "dot",
           "width": 2
          },
          "name": "OLS Mean",
          "type": "line",
          "x0": -0.5,
          "x1": 18.5,
          "y0": 0.12134680870427283,
          "y1": 0.12134680870427283
         },
         {
          "line": {
           "color": "#00CC96",
           "dash": "dot",
           "width": 2
          },
          "name": "QuantReg Mean",
          "type": "line",
          "x0": -0.5,
          "x1": 18.5,
          "y0": 0.04523970731317427,
          "y1": 0.04523970731317427
         },
         {
          "line": {
           "color": "#AB63FA",
           "dash": "dot",
           "width": 2
          },
          "name": "Matching Mean",
          "type": "line",
          "x0": -0.5,
          "x1": 18.5,
          "y0": 0.17805431535802915,
          "y1": 0.17805431535802915
         }
        ],
        "template": {
         "data": {
          "bar": [
           {
            "error_x": {
             "color": "#2a3f5f"
            },
            "error_y": {
             "color": "#2a3f5f"
            },
            "marker": {
             "line": {
              "color": "#E5ECF6",
              "width": 0.5
             },
             "pattern": {
              "fillmode": "overlay",
              "size": 10,
              "solidity": 0.2
             }
            },
            "type": "bar"
           }
          ],
          "barpolar": [
           {
            "marker": {
             "line": {
              "color": "#E5ECF6",
              "width": 0.5
             },
             "pattern": {
              "fillmode": "overlay",
              "size": 10,
              "solidity": 0.2
             }
            },
            "type": "barpolar"
           }
          ],
          "carpet": [
           {
            "aaxis": {
             "endlinecolor": "#2a3f5f",
             "gridcolor": "white",
             "linecolor": "white",
             "minorgridcolor": "white",
             "startlinecolor": "#2a3f5f"
            },
            "baxis": {
             "endlinecolor": "#2a3f5f",
             "gridcolor": "white",
             "linecolor": "white",
             "minorgridcolor": "white",
             "startlinecolor": "#2a3f5f"
            },
            "type": "carpet"
           }
          ],
          "choropleth": [
           {
            "colorbar": {
             "outlinewidth": 0,
             "ticks": ""
            },
            "type": "choropleth"
           }
          ],
          "contour": [
           {
            "colorbar": {
             "outlinewidth": 0,
             "ticks": ""
            },
            "colorscale": [
             [
              0,
              "#0d0887"
             ],
             [
              0.1111111111111111,
              "#46039f"
             ],
             [
              0.2222222222222222,
              "#7201a8"
             ],
             [
              0.3333333333333333,
              "#9c179e"
             ],
             [
              0.4444444444444444,
              "#bd3786"
             ],
             [
              0.5555555555555556,
              "#d8576b"
             ],
             [
              0.6666666666666666,
              "#ed7953"
             ],
             [
              0.7777777777777778,
              "#fb9f3a"
             ],
             [
              0.8888888888888888,
              "#fdca26"
             ],
             [
              1,
              "#f0f921"
             ]
            ],
            "type": "contour"
           }
          ],
          "contourcarpet": [
           {
            "colorbar": {
             "outlinewidth": 0,
             "ticks": ""
            },
            "type": "contourcarpet"
           }
          ],
          "heatmap": [
           {
            "colorbar": {
             "outlinewidth": 0,
             "ticks": ""
            },
            "colorscale": [
             [
              0,
              "#0d0887"
             ],
             [
              0.1111111111111111,
              "#46039f"
             ],
             [
              0.2222222222222222,
              "#7201a8"
             ],
             [
              0.3333333333333333,
              "#9c179e"
             ],
             [
              0.4444444444444444,
              "#bd3786"
             ],
             [
              0.5555555555555556,
              "#d8576b"
             ],
             [
              0.6666666666666666,
              "#ed7953"
             ],
             [
              0.7777777777777778,
              "#fb9f3a"
             ],
             [
              0.8888888888888888,
              "#fdca26"
             ],
             [
              1,
              "#f0f921"
             ]
            ],
            "type": "heatmap"
           }
          ],
          "heatmapgl": [
           {
            "colorbar": {
             "outlinewidth": 0,
             "ticks": ""
            },
            "colorscale": [
             [
              0,
              "#0d0887"
             ],
             [
              0.1111111111111111,
              "#46039f"
             ],
             [
              0.2222222222222222,
              "#7201a8"
             ],
             [
              0.3333333333333333,
              "#9c179e"
             ],
             [
              0.4444444444444444,
              "#bd3786"
             ],
             [
              0.5555555555555556,
              "#d8576b"
             ],
             [
              0.6666666666666666,
              "#ed7953"
             ],
             [
              0.7777777777777778,
              "#fb9f3a"
             ],
             [
              0.8888888888888888,
              "#fdca26"
             ],
             [
              1,
              "#f0f921"
             ]
            ],
            "type": "heatmapgl"
           }
          ],
          "histogram": [
           {
            "marker": {
             "pattern": {
              "fillmode": "overlay",
              "size": 10,
              "solidity": 0.2
             }
            },
            "type": "histogram"
           }
          ],
          "histogram2d": [
           {
            "colorbar": {
             "outlinewidth": 0,
             "ticks": ""
            },
            "colorscale": [
             [
              0,
              "#0d0887"
             ],
             [
              0.1111111111111111,
              "#46039f"
             ],
             [
              0.2222222222222222,
              "#7201a8"
             ],
             [
              0.3333333333333333,
              "#9c179e"
             ],
             [
              0.4444444444444444,
              "#bd3786"
             ],
             [
              0.5555555555555556,
              "#d8576b"
             ],
             [
              0.6666666666666666,
              "#ed7953"
             ],
             [
              0.7777777777777778,
              "#fb9f3a"
             ],
             [
              0.8888888888888888,
              "#fdca26"
             ],
             [
              1,
              "#f0f921"
             ]
            ],
            "type": "histogram2d"
           }
          ],
          "histogram2dcontour": [
           {
            "colorbar": {
             "outlinewidth": 0,
             "ticks": ""
            },
            "colorscale": [
             [
              0,
              "#0d0887"
             ],
             [
              0.1111111111111111,
              "#46039f"
             ],
             [
              0.2222222222222222,
              "#7201a8"
             ],
             [
              0.3333333333333333,
              "#9c179e"
             ],
             [
              0.4444444444444444,
              "#bd3786"
             ],
             [
              0.5555555555555556,
              "#d8576b"
             ],
             [
              0.6666666666666666,
              "#ed7953"
             ],
             [
              0.7777777777777778,
              "#fb9f3a"
             ],
             [
              0.8888888888888888,
              "#fdca26"
             ],
             [
              1,
              "#f0f921"
             ]
            ],
            "type": "histogram2dcontour"
           }
          ],
          "mesh3d": [
           {
            "colorbar": {
             "outlinewidth": 0,
             "ticks": ""
            },
            "type": "mesh3d"
           }
          ],
          "parcoords": [
           {
            "line": {
             "colorbar": {
              "outlinewidth": 0,
              "ticks": ""
             }
            },
            "type": "parcoords"
           }
          ],
          "pie": [
           {
            "automargin": true,
            "type": "pie"
           }
          ],
          "scatter": [
           {
            "fillpattern": {
             "fillmode": "overlay",
             "size": 10,
             "solidity": 0.2
            },
            "type": "scatter"
           }
          ],
          "scatter3d": [
           {
            "line": {
             "colorbar": {
              "outlinewidth": 0,
              "ticks": ""
             }
            },
            "marker": {
             "colorbar": {
              "outlinewidth": 0,
              "ticks": ""
             }
            },
            "type": "scatter3d"
           }
          ],
          "scattercarpet": [
           {
            "marker": {
             "colorbar": {
              "outlinewidth": 0,
              "ticks": ""
             }
            },
            "type": "scattercarpet"
           }
          ],
          "scattergeo": [
           {
            "marker": {
             "colorbar": {
              "outlinewidth": 0,
              "ticks": ""
             }
            },
            "type": "scattergeo"
           }
          ],
          "scattergl": [
           {
            "marker": {
             "colorbar": {
              "outlinewidth": 0,
              "ticks": ""
             }
            },
            "type": "scattergl"
           }
          ],
          "scattermapbox": [
           {
            "marker": {
             "colorbar": {
              "outlinewidth": 0,
              "ticks": ""
             }
            },
            "type": "scattermapbox"
           }
          ],
          "scatterpolar": [
           {
            "marker": {
             "colorbar": {
              "outlinewidth": 0,
              "ticks": ""
             }
            },
            "type": "scatterpolar"
           }
          ],
          "scatterpolargl": [
           {
            "marker": {
             "colorbar": {
              "outlinewidth": 0,
              "ticks": ""
             }
            },
            "type": "scatterpolargl"
           }
          ],
          "scatterternary": [
           {
            "marker": {
             "colorbar": {
              "outlinewidth": 0,
              "ticks": ""
             }
            },
            "type": "scatterternary"
           }
          ],
          "surface": [
           {
            "colorbar": {
             "outlinewidth": 0,
             "ticks": ""
            },
            "colorscale": [
             [
              0,
              "#0d0887"
             ],
             [
              0.1111111111111111,
              "#46039f"
             ],
             [
              0.2222222222222222,
              "#7201a8"
             ],
             [
              0.3333333333333333,
              "#9c179e"
             ],
             [
              0.4444444444444444,
              "#bd3786"
             ],
             [
              0.5555555555555556,
              "#d8576b"
             ],
             [
              0.6666666666666666,
              "#ed7953"
             ],
             [
              0.7777777777777778,
              "#fb9f3a"
             ],
             [
              0.8888888888888888,
              "#fdca26"
             ],
             [
              1,
              "#f0f921"
             ]
            ],
            "type": "surface"
           }
          ],
          "table": [
           {
            "cells": {
             "fill": {
              "color": "#EBF0F8"
             },
             "line": {
              "color": "white"
             }
            },
            "header": {
             "fill": {
              "color": "#C8D4E3"
             },
             "line": {
              "color": "white"
             }
            },
            "type": "table"
           }
          ]
         },
         "layout": {
          "annotationdefaults": {
           "arrowcolor": "#2a3f5f",
           "arrowhead": 0,
           "arrowwidth": 1
          },
          "autotypenumbers": "strict",
          "coloraxis": {
           "colorbar": {
            "outlinewidth": 0,
            "ticks": ""
           }
          },
          "colorscale": {
           "diverging": [
            [
             0,
             "#8e0152"
            ],
            [
             0.1,
             "#c51b7d"
            ],
            [
             0.2,
             "#de77ae"
            ],
            [
             0.3,
             "#f1b6da"
            ],
            [
             0.4,
             "#fde0ef"
            ],
            [
             0.5,
             "#f7f7f7"
            ],
            [
             0.6,
             "#e6f5d0"
            ],
            [
             0.7,
             "#b8e186"
            ],
            [
             0.8,
             "#7fbc41"
            ],
            [
             0.9,
             "#4d9221"
            ],
            [
             1,
             "#276419"
            ]
           ],
           "sequential": [
            [
             0,
             "#0d0887"
            ],
            [
             0.1111111111111111,
             "#46039f"
            ],
            [
             0.2222222222222222,
             "#7201a8"
            ],
            [
             0.3333333333333333,
             "#9c179e"
            ],
            [
             0.4444444444444444,
             "#bd3786"
            ],
            [
             0.5555555555555556,
             "#d8576b"
            ],
            [
             0.6666666666666666,
             "#ed7953"
            ],
            [
             0.7777777777777778,
             "#fb9f3a"
            ],
            [
             0.8888888888888888,
             "#fdca26"
            ],
            [
             1,
             "#f0f921"
            ]
           ],
           "sequentialminus": [
            [
             0,
             "#0d0887"
            ],
            [
             0.1111111111111111,
             "#46039f"
            ],
            [
             0.2222222222222222,
             "#7201a8"
            ],
            [
             0.3333333333333333,
             "#9c179e"
            ],
            [
             0.4444444444444444,
             "#bd3786"
            ],
            [
             0.5555555555555556,
             "#d8576b"
            ],
            [
             0.6666666666666666,
             "#ed7953"
            ],
            [
             0.7777777777777778,
             "#fb9f3a"
            ],
            [
             0.8888888888888888,
             "#fdca26"
            ],
            [
             1,
             "#f0f921"
            ]
           ]
          },
          "colorway": [
           "#636efa",
           "#EF553B",
           "#00cc96",
           "#ab63fa",
           "#FFA15A",
           "#19d3f3",
           "#FF6692",
           "#B6E880",
           "#FF97FF",
           "#FECB52"
          ],
          "font": {
           "color": "#2a3f5f"
          },
          "geo": {
           "bgcolor": "white",
           "lakecolor": "white",
           "landcolor": "#E5ECF6",
           "showlakes": true,
           "showland": true,
           "subunitcolor": "white"
          },
          "hoverlabel": {
           "align": "left"
          },
          "hovermode": "closest",
          "mapbox": {
           "style": "light"
          },
          "paper_bgcolor": "white",
          "plot_bgcolor": "#E5ECF6",
          "polar": {
           "angularaxis": {
            "gridcolor": "white",
            "linecolor": "white",
            "ticks": ""
           },
           "bgcolor": "#E5ECF6",
           "radialaxis": {
            "gridcolor": "white",
            "linecolor": "white",
            "ticks": ""
           }
          },
          "scene": {
           "xaxis": {
            "backgroundcolor": "#E5ECF6",
            "gridcolor": "white",
            "gridwidth": 2,
            "linecolor": "white",
            "showbackground": true,
            "ticks": "",
            "zerolinecolor": "white"
           },
           "yaxis": {
            "backgroundcolor": "#E5ECF6",
            "gridcolor": "white",
            "gridwidth": 2,
            "linecolor": "white",
            "showbackground": true,
            "ticks": "",
            "zerolinecolor": "white"
           },
           "zaxis": {
            "backgroundcolor": "#E5ECF6",
            "gridcolor": "white",
            "gridwidth": 2,
            "linecolor": "white",
            "showbackground": true,
            "ticks": "",
            "zerolinecolor": "white"
           }
          },
          "shapedefaults": {
           "line": {
            "color": "#2a3f5f"
           }
          },
          "ternary": {
           "aaxis": {
            "gridcolor": "white",
            "linecolor": "white",
            "ticks": ""
           },
           "baxis": {
            "gridcolor": "white",
            "linecolor": "white",
            "ticks": ""
           },
           "bgcolor": "#E5ECF6",
           "caxis": {
            "gridcolor": "white",
            "linecolor": "white",
            "ticks": ""
           }
          },
          "title": {
           "x": 0.05
          },
          "xaxis": {
           "automargin": true,
           "gridcolor": "white",
           "linecolor": "white",
           "ticks": "",
           "title": {
            "standoff": 15
           },
           "zerolinecolor": "white",
           "zerolinewidth": 2
          },
          "yaxis": {
           "automargin": true,
           "gridcolor": "white",
           "linecolor": "white",
           "ticks": "",
           "title": {
            "standoff": 15
           },
           "zerolinecolor": "white",
           "zerolinewidth": 2
          }
         }
        },
        "title": {
         "font": {
          "size": 14
         },
         "text": "Autoimpute Method Comparison"
        },
        "width": 750,
        "xaxis": {
         "anchor": "y",
         "domain": [
          0,
          1
         ],
         "title": {
          "font": {
           "size": 12
          },
          "text": "Quantiles"
         }
        },
        "yaxis": {
         "anchor": "x",
         "domain": [
          0,
          1
         ],
         "gridcolor": "rgba(0,0,0,0.1)",
         "gridwidth": 1,
         "showgrid": true,
         "title": {
          "font": {
           "size": 12
          },
          "text": "Test Test Quantile Loss"
         }
        }
       }
      }
     },
     "metadata": {},
     "output_type": "display_data"
    }
   ],
   "source": [
    "# Extract the quantiles used in the evaluation\n",
    "quantiles = [q for q in method_results_df.columns if isinstance(q, float)]\n",
    "\n",
    "comparison_viz = method_comparison_results(\n",
    "    data=method_results_df,\n",
    "    metric_name=\"Test Quantile Loss\",\n",
    "    data_format=\"wide\",\n",
    ")\n",
    "fig = comparison_viz.plot(\n",
    "    title=\"Autoimpute Method Comparison\",\n",
    "    show_mean=True,\n",
    ")\n",
    "fig.show()"
   ]
  },
  {
   "cell_type": "code",
   "execution_count": null,
   "id": "ae5409e8",
   "metadata": {},
   "outputs": [],
   "source": []
  }
 ],
 "metadata": {
  "kernelspec": {
   "display_name": "microimpute",
   "language": "python",
   "name": "python3"
  },
  "language_info": {
   "codemirror_mode": {
    "name": "ipython",
    "version": 3
   },
   "file_extension": ".py",
   "mimetype": "text/x-python",
   "name": "python",
   "nbconvert_exporter": "python",
   "pygments_lexer": "ipython3",
   "version": "3.11.11"
  }
 },
 "nbformat": 4,
 "nbformat_minor": 5
}
