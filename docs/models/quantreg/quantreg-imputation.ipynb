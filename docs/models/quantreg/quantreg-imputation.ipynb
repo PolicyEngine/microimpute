{
 "cells": [
  {
   "cell_type": "markdown",
   "metadata": {},
   "source": [
    "# Quantile Regression Imputation\n",
    "\n",
    "This notebook demonstrates how to use MicroImpute's QuantReg imputer to impute values using quantile regression. Quantile regression is a technique that extends linear regression to estimate the conditional quantiles of a response variable, providing a more complete view of the relationship between variables."
   ]
  },
  {
   "cell_type": "markdown",
   "metadata": {},
   "source": [
    "## How Quantile Regression Imputation Works\n",
    "\n",
    "Quantile regression imputation works by fitting separate regression models for different quantiles of the distribution. The QuantReg imputer in MicroImpute:\n",
    "\n",
    "- Uses statsmodels' QuantReg to fit specialized regression models for specific quantiles\n",
    "- Fits a separate model for each requested quantile (unlike OLS which fits one model)\n",
    "- Directly optimizes the quantile loss function for each specific quantile\n",
    "- Allows for different relationships at different parts of the distribution\n",
    "- Can capture heteroskedasticity (where variance is not constant) and skewness in the data"
   ]
  },
  {
   "cell_type": "markdown",
   "metadata": {},
   "source": [
    "## Setup and Data Preparation"
   ]
  },
  {
   "cell_type": "code",
   "execution_count": null,
   "metadata": {},
   "outputs": [],
   "source": [
    "# Import necessary libraries\n",
    "import pandas as pd\n",
    "import numpy as np\n",
    "import matplotlib.pyplot as plt\n",
    "from sklearn.datasets import load_diabetes\n",
    "from sklearn.model_selection import train_test_split\n",
    "\n",
    "# Import MicroImpute tools\n",
    "from microimpute.comparisons.data import preprocess_data\n",
    "from microimpute.models import QuantReg\n",
    "from microimpute.config import QUANTILES"
   ]
  },
  {
   "cell_type": "code",
   "execution_count": null,
   "metadata": {},
   "outputs": [],
   "source": [
    "# Load the diabetes dataset\n",
    "diabetes = load_diabetes()\n",
    "df = pd.DataFrame(diabetes.data, columns=diabetes.feature_names)\n",
    "\n",
    "# Display the first few rows of the dataset\n",
    "df.head()"
   ]
  },
  {
   "cell_type": "code",
   "execution_count": null,
   "metadata": {},
   "outputs": [],
   "source": [
    "# Define variables for the model\n",
    "predictors = [\"age\", \"sex\", \"bmi\", \"bp\"]\n",
    "imputed_variables = [\"s1\"]  # We'll impute 's1' (total serum cholesterol)\n",
    "\n",
    "# Create a subset with only needed columns\n",
    "diabetes_df = df[predictors + imputed_variables]\n",
    "\n",
    "# Display summary statistics\n",
    "diabetes_df.describe()"
   ]
  },
  {
   "cell_type": "code",
   "execution_count": null,
   "metadata": {},
   "outputs": [],
   "source": [
    "# Split data into training and testing sets\n",
    "X_train, X_test = train_test_split(diabetes_df, test_size=0.3, random_state=42)\n",
    "\n",
    "# Let's see how many records we have in each set\n",
    "print(f\"Training set size: {X_train.shape[0]} records\")\n",
    "print(f\"Testing set size: {X_test.shape[0]} records\")"
   ]
  },
  {
   "cell_type": "markdown",
   "metadata": {},
   "source": [
    "## Simulating Missing Data\n",
    "\n",
    "For this example, we'll simulate missing data in our test set by removing the values we want to impute."
   ]
  },
  {
   "cell_type": "code",
   "execution_count": null,
   "metadata": {},
   "outputs": [],
   "source": [
    "# Create a copy of the test set with missing values\n",
    "X_test_missing = X_test.copy()\n",
    "\n",
    "# Store the actual values for later comparison\n",
    "actual_values = X_test_missing[imputed_variables].copy()\n",
    "\n",
    "# Remove the values to be imputed\n",
    "X_test_missing[imputed_variables] = np.nan\n",
    "\n",
    "X_test_missing.head()"
   ]
  },
  {
   "cell_type": "markdown",
   "metadata": {},
   "source": [
    "## Training and Using the QuantReg Imputer\n",
    "\n",
    "Now we'll train the QuantReg imputer and use it to impute the missing values in our test set. For quantile regression, we need to explicitly specify which quantiles to model during fitting."
   ]
  },
  {
   "cell_type": "code",
   "execution_count": null,
   "metadata": {},
   "outputs": [],
   "source": [
    "# Define quantiles we want to model\n",
    "# We'll use the default quantiles from the config module\n",
    "print(f\"Modeling these quantiles: {QUANTILES}\")"
   ]
  },
  {
   "cell_type": "code",
   "execution_count": null,
   "metadata": {},
   "outputs": [],
   "source": [
    "# Initialize the QuantReg imputer\n",
    "quantreg_imputer = QuantReg()\n",
    "\n",
    "# Fit the model with our training data\n",
    "# This trains a separate regression model for each quantile\n",
    "quantreg_imputer.fit(X_train, predictors, imputed_variables, quantiles=QUANTILES)"
   ]
  },
  {
   "cell_type": "code",
   "execution_count": null,
   "metadata": {},
   "outputs": [],
   "source": [
    "# Impute values in the test set\n",
    "# This uses the trained quantile regression models to predict missing values\n",
    "imputed_values = quantreg_imputer.predict(X_test_missing, QUANTILES)\n",
    "\n",
    "# Display the first few imputed values at the median (0.5 quantile)\n",
    "imputed_values[0.5].head()"
   ]
  },
  {
   "cell_type": "markdown",
   "metadata": {},
   "source": [
    "## Evaluating the Imputation Results\n",
    "\n",
    "Now let's compare the imputed values with the actual values to evaluate the performance of our imputer."
   ]
  },
  {
   "cell_type": "code",
   "execution_count": null,
   "metadata": {},
   "outputs": [],
   "source": [
    "# Extract median predictions for evaluation\n",
    "median_predictions = imputed_values[0.5]\n",
    "\n",
    "# Calculate Mean Absolute Error (MAE) for the median predictions\n",
    "mae = np.abs(median_predictions - actual_values).mean()\n",
    "print(f\"Mean Absolute Error: {mae:.4f}\")"
   ]
  },
  {
   "cell_type": "code",
   "execution_count": null,
   "metadata": {},
   "outputs": [],
   "source": [
    "# Create a scatter plot comparing actual vs. imputed values\n",
    "plt.figure(figsize=(8, 6))\n",
    "plt.scatter(actual_values, median_predictions, alpha=0.5)\n",
    "plt.plot([actual_values.min().min(), actual_values.max().max()], \n",
    "         [actual_values.min().min(), actual_values.max().max()], \n",
    "         'r--')\n",
    "plt.xlabel('Actual Values')\n",
    "plt.ylabel('Imputed Values')\n",
    "plt.title('Comparison of Actual vs. Imputed Values using QuantReg')\n",
    "plt.grid(True, linestyle='--', alpha=0.7)\n",
    "plt.show()"
   ]
  },
  {
   "cell_type": "markdown",
   "metadata": {},
   "source": [
    "## Examining Quantile Predictions\n",
    "\n",
    "Quantile regression provides predictions at different quantiles, which helps us understand the entire conditional distribution of the missing values."
   ]
  },
  {
   "cell_type": "code",
   "execution_count": null,
   "metadata": {},
   "outputs": [],
   "source": [
    "# Compare predictions at different quantiles for the first 5 records\n",
    "quantiles_to_show = [0.1, 0.25, 0.5, 0.75, 0.9]\n",
    "comparison_df = pd.DataFrame(index=range(5))\n",
    "\n",
    "# Add actual values\n",
    "comparison_df['Actual'] = actual_values.iloc[:5, 0].values\n",
    "\n",
    "# Add quantile predictions\n",
    "for q in quantiles_to_show:\n",
    "    comparison_df[f'Q{int(q*100)}'] = imputed_values[q].iloc[:5, 0].values\n",
    "\n",
    "comparison_df"
   ]
  },
  {
   "cell_type": "markdown",
   "metadata": {},
   "source": [
    "## Visualizing Prediction Intervals\n",
    "\n",
    "One of the key advantages of quantile regression is its ability to provide prediction intervals that can adapt to different parts of the distribution."
   ]
  },
  {
   "cell_type": "code",
   "execution_count": null,
   "metadata": {},
   "outputs": [],
   "source": [
    "# Create a prediction interval plot for the first 10 records\n",
    "plt.figure(figsize=(12, 6))\n",
    "\n",
    "# Number of records to plot\n",
    "n_records = 10\n",
    "\n",
    "# X-axis positions\n",
    "x = np.arange(n_records)\n",
    "\n",
    "# Plot actual values\n",
    "plt.scatter(x, actual_values.iloc[:n_records, 0], color='black', label='Actual', zorder=3)\n",
    "\n",
    "# Plot median predictions\n",
    "plt.scatter(x, imputed_values[0.5].iloc[:n_records, 0], color='red', label='Median (Q50)', zorder=3)\n",
    "\n",
    "# Plot 50% prediction interval (Q25 to Q75)\n",
    "plt.fill_between(x, \n",
    "                 imputed_values[0.25].iloc[:n_records, 0],\n",
    "                 imputed_values[0.75].iloc[:n_records, 0],\n",
    "                 alpha=0.3, color='blue', label='50% PI (Q25-Q75)')\n",
    "\n",
    "# Plot 80% prediction interval (Q10 to Q90)\n",
    "plt.fill_between(x, \n",
    "                 imputed_values[0.1].iloc[:n_records, 0],\n",
    "                 imputed_values[0.9].iloc[:n_records, 0],\n",
    "                 alpha=0.15, color='blue', label='80% PI (Q10-Q90)')\n",
    "\n",
    "plt.xlabel('Record Index')\n",
    "plt.ylabel('Value')\n",
    "plt.title('QuantReg Imputation Prediction Intervals')\n",
    "plt.grid(True, linestyle='--', alpha=0.7)\n",
    "plt.legend()\n",
    "plt.tight_layout()\n",
    "plt.show()"
   ]
  },
  {
   "cell_type": "markdown",
   "metadata": {},
   "source": [
    "## Examining Coefficient Differences Across Quantiles\n",
    "\n",
    "A unique feature of quantile regression is that the coefficients can vary across different quantiles, allowing us to see how the relationship between variables changes across the distribution."
   ]
  },
  {
   "cell_type": "code",
   "execution_count": null,
   "metadata": {},
   "outputs": [],
   "source": [
    "# Function to extract coefficients from different quantile models\n",
    "def extract_coefficients(imputer, variable, quantiles):\n",
    "    \"\"\"Extract coefficients from quantile regression models.\"\"\"\n",
    "    # Initialize a DataFrame to store coefficients\n",
    "    coef_df = pd.DataFrame(index=imputer.models[variable][list(quantiles.keys())[0]].params.index)\n",
    "    \n",
    "    # Extract coefficients for each quantile\n",
    "    for q, model in imputer.models[variable].items():\n",
    "        if q in quantiles:\n",
    "            coef_df[f'Q{int(q*100)}'] = model.params\n",
    "    \n",
    "    return coef_df\n",
    "\n",
    "# Extract coefficients for selected quantiles\n",
    "selected_quantiles = {0.1: None, 0.5: None, 0.9: None}\n",
    "coef_df = extract_coefficients(quantreg_imputer, imputed_variables[0], selected_quantiles)\n",
    "\n",
    "# Display the coefficients\n",
    "coef_df"
   ]
  },
  {
   "cell_type": "code",
   "execution_count": null,
   "metadata": {},
   "outputs": [],
   "source": [
    "# Visualize how coefficients change across quantiles\n",
    "plt.figure(figsize=(10, 6))\n",
    "\n",
    "# Plot each predictor's coefficient across quantiles\n",
    "for predictor in coef_df.index[1:]:  # Skip the intercept\n",
    "    plt.plot([10, 50, 90], coef_df.loc[predictor].values, marker='o', label=predictor)\n",
    "\n",
    "plt.xlabel('Quantile')\n",
    "plt.ylabel('Coefficient Value')\n",
    "plt.title('Quantile Regression Coefficients Across Quantiles')\n",
    "plt.grid(True, linestyle='--', alpha=0.7)\n",
    "plt.legend()\n",
    "plt.tight_layout()\n",
    "plt.show()"
   ]
  },
  {
   "cell_type": "markdown",
   "metadata": {},
   "source": [
    "## Advantages and Limitations of Quantile Regression Imputation\n",
    "\n",
    "### Advantages:\n",
    "- Models different parts of the distribution without normal assumption\n",
    "- Can capture heteroskedasticity and skewness in the data\n",
    "- Provides a more complete picture of the relationship between variables\n",
    "- More robust to outliers than OLS\n",
    "- Maintains the interpretability of linear models\n",
    "\n",
    "### Limitations:\n",
    "- Requires more computation than OLS (fitting multiple models)\n",
    "- May face convergence issues with small sample sizes\n",
    "- Less flexible than non-parametric methods like QRF for capturing non-linear relationships\n",
    "- Still assumes a linear relationship at each quantile\n",
    "- Requires careful selection of quantiles to model"
   ]
  }
 ],
 "metadata": {
  "kernelspec": {
   "display_name": "Python 3",
   "language": "python",
   "name": "python3"
  },
  "language_info": {
   "codemirror_mode": {
    "name": "ipython",
    "version": 3
   },
   "file_extension": ".py",
   "mimetype": "text/x-python",
   "name": "python",
   "nbconvert_exporter": "python",
   "pygments_lexer": "ipython3",
   "version": "3.8.10"
  }
 },
 "nbformat": 4,
 "nbformat_minor": 4
}
